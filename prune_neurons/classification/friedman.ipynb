{
 "cells": [
  {
   "cell_type": "markdown",
   "metadata": {
    "collapsed": true
   },
   "source": [
    "# Import needed libraries"
   ]
  },
  {
   "cell_type": "markdown",
   "metadata": {
    "collapsed": true
   },
   "source": [
    "## Import libraries for manipulating the data and statistic"
   ]
  },
  {
   "cell_type": "code",
   "execution_count": 20,
   "metadata": {
    "collapsed": false
   },
   "outputs": [],
   "source": [
    "import numpy as np\n",
    "import pandas as pd\n",
    "import matplotlib.pyplot as plt\n",
    "import scipy.stats as stats\n",
    "from statsmodels.stats.weightstats import  ttest_ind as t_test\n",
    "from scipy.stats import ttest_1samp, wilcoxon, ttest_ind, mannwhitneyu\n",
    "import scipy.special as special\n",
    "import emoji\n",
    "from math import pi\n",
    "from statsmodels.stats.multicomp import pairwise_tukeyhsd, MultiComparison\n",
    "from statsmodels.formula.api import ols\n",
    "import statsmodels.stats.api as sms\n",
    "from scipy.stats import friedmanchisquare, rankdata, norm\n",
    "from scipy.special import gammaln\n",
    "from math import sqrt"
   ]
  },
  {
   "cell_type": "markdown",
   "metadata": {
    "collapsed": true
   },
   "source": [
    "## Import libraries for static ploting"
   ]
  },
  {
   "cell_type": "code",
   "execution_count": 21,
   "metadata": {
    "collapsed": true
   },
   "outputs": [],
   "source": [
    "import matplotlib.pyplot as plt\n",
    "import matplotlib.gridspec as gridspec\n",
    "%matplotlib inline\n",
    "from IPython.display import set_matplotlib_formats\n",
    "set_matplotlib_formats('png', 'pdf')\n",
    "# some nice colors from http://colorbrewer2.org/\n",
    "COLOR1 = '#7fc97f'\n",
    "COLOR2 = '#beaed4'\n",
    "COLOR3 = '#fdc086'\n",
    "COLOR4 = '#ffff99'\n",
    "COLOR5 = '#386cb0'"
   ]
  },
  {
   "cell_type": "markdown",
   "metadata": {
    "collapsed": true
   },
   "source": [
    "# Statring the test and visulize the data"
   ]
  },
  {
   "cell_type": "markdown",
   "metadata": {
    "collapsed": true
   },
   "source": [
    "## Load the data"
   ]
  },
  {
   "cell_type": "code",
   "execution_count": 22,
   "metadata": {
    "collapsed": false
   },
   "outputs": [],
   "source": [
    "datafile = \"./results/result_naomy.xlsx\"\n",
    "df_accuracy = pd.read_excel(datafile, sheetname='accuracy')\n",
    "df_f1_score = pd.read_excel(datafile, sheetname='f1score')\n",
    "df_precision = pd.read_excel(datafile, sheetname='precision')\n",
    "df_recall    = pd.read_excel(datafile, sheetname='recall')"
   ]
  },
  {
   "cell_type": "markdown",
   "metadata": {},
   "source": [
    "# 1. Accuracy"
   ]
  },
  {
   "cell_type": "code",
   "execution_count": 23,
   "metadata": {
    "collapsed": false
   },
   "outputs": [],
   "source": [
    "df1 = df_accuracy.copy()"
   ]
  },
  {
   "cell_type": "markdown",
   "metadata": {},
   "source": [
    "## Using Nonparametric tests\n",
    "\n",
    "I am not sure the data comes from Guassian distribution  and less than 30 sample \n",
    "\n",
    "### alternative to paired t-test when data has an ordinary scale or when not\n",
    "### normally distributed"
   ]
  },
  {
   "cell_type": "markdown",
   "metadata": {},
   "source": [
    "## Start comparining all pruning algorithms"
   ]
  },
  {
   "cell_type": "markdown",
   "metadata": {},
   "source": [
    "### Compute friedman test test by ranks between pruning methods"
   ]
  },
  {
   "cell_type": "code",
   "execution_count": 24,
   "metadata": {
    "collapsed": false
   },
   "outputs": [
    {
     "data": {
      "text/html": [
       "<div>\n",
       "<table border=\"1\" class=\"dataframe\">\n",
       "  <thead>\n",
       "    <tr style=\"text-align: right;\">\n",
       "      <th></th>\n",
       "      <th>Methods</th>\n",
       "      <th>Knn</th>\n",
       "      <th>LSVM</th>\n",
       "      <th>SVM</th>\n",
       "      <th>DT_gini</th>\n",
       "      <th>DT_entorpy</th>\n",
       "      <th>Bagging Knn</th>\n",
       "      <th>Bagging DT</th>\n",
       "      <th>Random Forest</th>\n",
       "      <th>Ada Boost</th>\n",
       "      <th>...</th>\n",
       "      <th>Xgboost</th>\n",
       "      <th>NN</th>\n",
       "      <th>UCB1</th>\n",
       "      <th>E Greedy</th>\n",
       "      <th>Decay E Gr.</th>\n",
       "      <th>Softmax</th>\n",
       "      <th>Decay SM</th>\n",
       "      <th>Tomp. Sampling</th>\n",
       "      <th>Hedge</th>\n",
       "      <th>EXP3</th>\n",
       "    </tr>\n",
       "  </thead>\n",
       "  <tbody>\n",
       "    <tr>\n",
       "      <th>0</th>\n",
       "      <td>SPAM</td>\n",
       "      <td>0.908795</td>\n",
       "      <td>0.920738</td>\n",
       "      <td>0.944625</td>\n",
       "      <td>0.893594</td>\n",
       "      <td>0.910966</td>\n",
       "      <td>0.932682</td>\n",
       "      <td>0.915309</td>\n",
       "      <td>0.890337</td>\n",
       "      <td>0.745928</td>\n",
       "      <td>...</td>\n",
       "      <td>0.844734</td>\n",
       "      <td>0.944625</td>\n",
       "      <td>0.947883</td>\n",
       "      <td>0.944625</td>\n",
       "      <td>0.944625</td>\n",
       "      <td>0.944625</td>\n",
       "      <td>0.944625</td>\n",
       "      <td>0.944625</td>\n",
       "      <td>0.943540</td>\n",
       "      <td>0.941368</td>\n",
       "    </tr>\n",
       "    <tr>\n",
       "      <th>1</th>\n",
       "      <td>ABALONE</td>\n",
       "      <td>0.540670</td>\n",
       "      <td>0.538278</td>\n",
       "      <td>0.578947</td>\n",
       "      <td>0.476077</td>\n",
       "      <td>0.468900</td>\n",
       "      <td>0.557416</td>\n",
       "      <td>0.545455</td>\n",
       "      <td>0.510766</td>\n",
       "      <td>0.540670</td>\n",
       "      <td>...</td>\n",
       "      <td>0.569378</td>\n",
       "      <td>0.580144</td>\n",
       "      <td>0.572967</td>\n",
       "      <td>0.572967</td>\n",
       "      <td>0.572967</td>\n",
       "      <td>0.572967</td>\n",
       "      <td>0.572967</td>\n",
       "      <td>0.572967</td>\n",
       "      <td>0.572967</td>\n",
       "      <td>0.572967</td>\n",
       "    </tr>\n",
       "    <tr>\n",
       "      <th>2</th>\n",
       "      <td>ADULT</td>\n",
       "      <td>0.816786</td>\n",
       "      <td>0.798362</td>\n",
       "      <td>0.833675</td>\n",
       "      <td>0.788127</td>\n",
       "      <td>0.796827</td>\n",
       "      <td>0.821648</td>\n",
       "      <td>0.812180</td>\n",
       "      <td>0.828813</td>\n",
       "      <td>0.817298</td>\n",
       "      <td>...</td>\n",
       "      <td>0.836745</td>\n",
       "      <td>0.835466</td>\n",
       "      <td>0.832395</td>\n",
       "      <td>0.821648</td>\n",
       "      <td>0.839048</td>\n",
       "      <td>0.828301</td>\n",
       "      <td>0.834186</td>\n",
       "      <td>0.832395</td>\n",
       "      <td>0.834442</td>\n",
       "      <td>0.831116</td>\n",
       "    </tr>\n",
       "    <tr>\n",
       "      <th>3</th>\n",
       "      <td>CANCER</td>\n",
       "      <td>0.929825</td>\n",
       "      <td>0.947368</td>\n",
       "      <td>0.973684</td>\n",
       "      <td>0.947368</td>\n",
       "      <td>0.929825</td>\n",
       "      <td>0.964912</td>\n",
       "      <td>0.956140</td>\n",
       "      <td>0.964912</td>\n",
       "      <td>0.938596</td>\n",
       "      <td>...</td>\n",
       "      <td>0.947368</td>\n",
       "      <td>0.964912</td>\n",
       "      <td>0.964912</td>\n",
       "      <td>0.964912</td>\n",
       "      <td>0.956140</td>\n",
       "      <td>0.964912</td>\n",
       "      <td>0.964912</td>\n",
       "      <td>0.964912</td>\n",
       "      <td>0.964912</td>\n",
       "      <td>0.973684</td>\n",
       "    </tr>\n",
       "    <tr>\n",
       "      <th>4</th>\n",
       "      <td>CAR</td>\n",
       "      <td>0.953757</td>\n",
       "      <td>0.846821</td>\n",
       "      <td>0.950867</td>\n",
       "      <td>0.930636</td>\n",
       "      <td>0.950867</td>\n",
       "      <td>0.786127</td>\n",
       "      <td>0.789017</td>\n",
       "      <td>0.898844</td>\n",
       "      <td>0.887283</td>\n",
       "      <td>...</td>\n",
       "      <td>0.927746</td>\n",
       "      <td>0.953757</td>\n",
       "      <td>0.936416</td>\n",
       "      <td>0.924855</td>\n",
       "      <td>0.919075</td>\n",
       "      <td>0.875723</td>\n",
       "      <td>0.800578</td>\n",
       "      <td>0.936416</td>\n",
       "      <td>0.864162</td>\n",
       "      <td>0.864162</td>\n",
       "    </tr>\n",
       "    <tr>\n",
       "      <th>5</th>\n",
       "      <td>GLASS</td>\n",
       "      <td>0.627907</td>\n",
       "      <td>0.558140</td>\n",
       "      <td>0.581395</td>\n",
       "      <td>0.465116</td>\n",
       "      <td>0.511628</td>\n",
       "      <td>0.627907</td>\n",
       "      <td>0.581395</td>\n",
       "      <td>0.511628</td>\n",
       "      <td>0.558140</td>\n",
       "      <td>...</td>\n",
       "      <td>0.534884</td>\n",
       "      <td>0.604651</td>\n",
       "      <td>0.651163</td>\n",
       "      <td>0.581395</td>\n",
       "      <td>0.604651</td>\n",
       "      <td>0.604651</td>\n",
       "      <td>0.581395</td>\n",
       "      <td>0.651163</td>\n",
       "      <td>0.604651</td>\n",
       "      <td>0.534884</td>\n",
       "    </tr>\n",
       "    <tr>\n",
       "      <th>6</th>\n",
       "      <td>HEART</td>\n",
       "      <td>0.541667</td>\n",
       "      <td>0.508333</td>\n",
       "      <td>0.750000</td>\n",
       "      <td>0.725000</td>\n",
       "      <td>0.766667</td>\n",
       "      <td>0.575000</td>\n",
       "      <td>0.733333</td>\n",
       "      <td>0.775000</td>\n",
       "      <td>0.483333</td>\n",
       "      <td>...</td>\n",
       "      <td>0.725000</td>\n",
       "      <td>0.608333</td>\n",
       "      <td>0.641667</td>\n",
       "      <td>0.625000</td>\n",
       "      <td>0.575000</td>\n",
       "      <td>0.583333</td>\n",
       "      <td>0.575000</td>\n",
       "      <td>0.575000</td>\n",
       "      <td>0.566667</td>\n",
       "      <td>0.566667</td>\n",
       "    </tr>\n",
       "    <tr>\n",
       "      <th>7</th>\n",
       "      <td>IRIS</td>\n",
       "      <td>1.000000</td>\n",
       "      <td>0.933333</td>\n",
       "      <td>1.000000</td>\n",
       "      <td>1.000000</td>\n",
       "      <td>0.900000</td>\n",
       "      <td>0.966667</td>\n",
       "      <td>0.866667</td>\n",
       "      <td>1.000000</td>\n",
       "      <td>0.933333</td>\n",
       "      <td>...</td>\n",
       "      <td>0.933333</td>\n",
       "      <td>0.966667</td>\n",
       "      <td>1.000000</td>\n",
       "      <td>0.933333</td>\n",
       "      <td>0.900000</td>\n",
       "      <td>0.900000</td>\n",
       "      <td>0.666667</td>\n",
       "      <td>0.666667</td>\n",
       "      <td>0.666667</td>\n",
       "      <td>0.633333</td>\n",
       "    </tr>\n",
       "    <tr>\n",
       "      <th>8</th>\n",
       "      <td>PIMA</td>\n",
       "      <td>0.688312</td>\n",
       "      <td>0.629870</td>\n",
       "      <td>0.720779</td>\n",
       "      <td>0.642857</td>\n",
       "      <td>0.688312</td>\n",
       "      <td>0.642857</td>\n",
       "      <td>0.649351</td>\n",
       "      <td>0.707792</td>\n",
       "      <td>0.668831</td>\n",
       "      <td>...</td>\n",
       "      <td>0.668831</td>\n",
       "      <td>0.688312</td>\n",
       "      <td>0.701299</td>\n",
       "      <td>0.688312</td>\n",
       "      <td>0.701299</td>\n",
       "      <td>0.707792</td>\n",
       "      <td>0.707792</td>\n",
       "      <td>0.701299</td>\n",
       "      <td>0.694805</td>\n",
       "      <td>0.688312</td>\n",
       "    </tr>\n",
       "    <tr>\n",
       "      <th>9</th>\n",
       "      <td>POKER</td>\n",
       "      <td>0.470109</td>\n",
       "      <td>0.274457</td>\n",
       "      <td>0.453804</td>\n",
       "      <td>0.619565</td>\n",
       "      <td>0.614130</td>\n",
       "      <td>0.445652</td>\n",
       "      <td>0.448370</td>\n",
       "      <td>0.673913</td>\n",
       "      <td>0.288043</td>\n",
       "      <td>...</td>\n",
       "      <td>0.336957</td>\n",
       "      <td>0.342391</td>\n",
       "      <td>0.361413</td>\n",
       "      <td>0.307065</td>\n",
       "      <td>0.339674</td>\n",
       "      <td>0.320652</td>\n",
       "      <td>0.301630</td>\n",
       "      <td>0.339674</td>\n",
       "      <td>0.345109</td>\n",
       "      <td>0.323370</td>\n",
       "    </tr>\n",
       "    <tr>\n",
       "      <th>10</th>\n",
       "      <td>TITANIC</td>\n",
       "      <td>0.731844</td>\n",
       "      <td>0.776536</td>\n",
       "      <td>0.787709</td>\n",
       "      <td>0.670391</td>\n",
       "      <td>0.636872</td>\n",
       "      <td>0.754190</td>\n",
       "      <td>0.770950</td>\n",
       "      <td>0.759777</td>\n",
       "      <td>0.776536</td>\n",
       "      <td>...</td>\n",
       "      <td>0.787709</td>\n",
       "      <td>0.798883</td>\n",
       "      <td>0.798883</td>\n",
       "      <td>0.798883</td>\n",
       "      <td>0.798883</td>\n",
       "      <td>0.798883</td>\n",
       "      <td>0.798883</td>\n",
       "      <td>0.798883</td>\n",
       "      <td>0.798883</td>\n",
       "      <td>0.798883</td>\n",
       "    </tr>\n",
       "    <tr>\n",
       "      <th>11</th>\n",
       "      <td>VALLY</td>\n",
       "      <td>0.623762</td>\n",
       "      <td>0.572607</td>\n",
       "      <td>0.589109</td>\n",
       "      <td>0.569307</td>\n",
       "      <td>0.607261</td>\n",
       "      <td>0.600660</td>\n",
       "      <td>0.580858</td>\n",
       "      <td>0.600660</td>\n",
       "      <td>0.580858</td>\n",
       "      <td>...</td>\n",
       "      <td>0.613861</td>\n",
       "      <td>0.582508</td>\n",
       "      <td>0.587459</td>\n",
       "      <td>0.577558</td>\n",
       "      <td>0.589109</td>\n",
       "      <td>0.582508</td>\n",
       "      <td>0.584158</td>\n",
       "      <td>0.587459</td>\n",
       "      <td>0.575908</td>\n",
       "      <td>0.574257</td>\n",
       "    </tr>\n",
       "    <tr>\n",
       "      <th>12</th>\n",
       "      <td>WINE</td>\n",
       "      <td>0.972222</td>\n",
       "      <td>1.000000</td>\n",
       "      <td>1.000000</td>\n",
       "      <td>0.888889</td>\n",
       "      <td>0.888889</td>\n",
       "      <td>0.972222</td>\n",
       "      <td>0.888889</td>\n",
       "      <td>0.888889</td>\n",
       "      <td>0.888889</td>\n",
       "      <td>...</td>\n",
       "      <td>0.916667</td>\n",
       "      <td>1.000000</td>\n",
       "      <td>1.000000</td>\n",
       "      <td>1.000000</td>\n",
       "      <td>1.000000</td>\n",
       "      <td>1.000000</td>\n",
       "      <td>1.000000</td>\n",
       "      <td>1.000000</td>\n",
       "      <td>1.000000</td>\n",
       "      <td>0.972222</td>\n",
       "    </tr>\n",
       "    <tr>\n",
       "      <th>13</th>\n",
       "      <td>WINE QUILTY</td>\n",
       "      <td>0.537692</td>\n",
       "      <td>0.529231</td>\n",
       "      <td>0.574615</td>\n",
       "      <td>0.531538</td>\n",
       "      <td>0.552308</td>\n",
       "      <td>0.578462</td>\n",
       "      <td>0.562308</td>\n",
       "      <td>0.602308</td>\n",
       "      <td>0.414615</td>\n",
       "      <td>...</td>\n",
       "      <td>0.553846</td>\n",
       "      <td>0.552308</td>\n",
       "      <td>0.557692</td>\n",
       "      <td>0.541538</td>\n",
       "      <td>0.508462</td>\n",
       "      <td>0.500000</td>\n",
       "      <td>0.536154</td>\n",
       "      <td>0.533077</td>\n",
       "      <td>0.500769</td>\n",
       "      <td>0.500769</td>\n",
       "    </tr>\n",
       "    <tr>\n",
       "      <th>14</th>\n",
       "      <td>FACE</td>\n",
       "      <td>0.695652</td>\n",
       "      <td>0.000000</td>\n",
       "      <td>0.835404</td>\n",
       "      <td>0.388199</td>\n",
       "      <td>0.000000</td>\n",
       "      <td>0.000000</td>\n",
       "      <td>0.000000</td>\n",
       "      <td>0.000000</td>\n",
       "      <td>0.000000</td>\n",
       "      <td>...</td>\n",
       "      <td>0.000000</td>\n",
       "      <td>0.854037</td>\n",
       "      <td>0.854037</td>\n",
       "      <td>0.857143</td>\n",
       "      <td>0.854037</td>\n",
       "      <td>0.854037</td>\n",
       "      <td>0.854037</td>\n",
       "      <td>0.854037</td>\n",
       "      <td>0.854037</td>\n",
       "      <td>0.854037</td>\n",
       "    </tr>\n",
       "    <tr>\n",
       "      <th>15</th>\n",
       "      <td>CHEST</td>\n",
       "      <td>0.575000</td>\n",
       "      <td>0.320000</td>\n",
       "      <td>0.540000</td>\n",
       "      <td>0.505000</td>\n",
       "      <td>0.550000</td>\n",
       "      <td>0.440000</td>\n",
       "      <td>0.415000</td>\n",
       "      <td>0.625000</td>\n",
       "      <td>0.375000</td>\n",
       "      <td>...</td>\n",
       "      <td>0.590000</td>\n",
       "      <td>0.455000</td>\n",
       "      <td>0.405000</td>\n",
       "      <td>0.420000</td>\n",
       "      <td>0.380000</td>\n",
       "      <td>0.425000</td>\n",
       "      <td>0.440000</td>\n",
       "      <td>0.405000</td>\n",
       "      <td>0.415000</td>\n",
       "      <td>0.405000</td>\n",
       "    </tr>\n",
       "  </tbody>\n",
       "</table>\n",
       "<p>16 rows × 26 columns</p>\n",
       "</div>"
      ],
      "text/plain": [
       "        Methods       Knn      LSVM       SVM   DT_gini  DT_entorpy  \\\n",
       "0          SPAM  0.908795  0.920738  0.944625  0.893594    0.910966   \n",
       "1       ABALONE  0.540670  0.538278  0.578947  0.476077    0.468900   \n",
       "2         ADULT  0.816786  0.798362  0.833675  0.788127    0.796827   \n",
       "3        CANCER  0.929825  0.947368  0.973684  0.947368    0.929825   \n",
       "4           CAR  0.953757  0.846821  0.950867  0.930636    0.950867   \n",
       "5         GLASS  0.627907  0.558140  0.581395  0.465116    0.511628   \n",
       "6         HEART  0.541667  0.508333  0.750000  0.725000    0.766667   \n",
       "7          IRIS  1.000000  0.933333  1.000000  1.000000    0.900000   \n",
       "8          PIMA  0.688312  0.629870  0.720779  0.642857    0.688312   \n",
       "9         POKER  0.470109  0.274457  0.453804  0.619565    0.614130   \n",
       "10      TITANIC  0.731844  0.776536  0.787709  0.670391    0.636872   \n",
       "11        VALLY  0.623762  0.572607  0.589109  0.569307    0.607261   \n",
       "12         WINE  0.972222  1.000000  1.000000  0.888889    0.888889   \n",
       "13  WINE QUILTY  0.537692  0.529231  0.574615  0.531538    0.552308   \n",
       "14         FACE  0.695652  0.000000  0.835404  0.388199    0.000000   \n",
       "15        CHEST  0.575000  0.320000  0.540000  0.505000    0.550000   \n",
       "\n",
       "    Bagging Knn  Bagging DT  Random Forest  Ada Boost    ...      Xgboost  \\\n",
       "0      0.932682    0.915309       0.890337   0.745928    ...     0.844734   \n",
       "1      0.557416    0.545455       0.510766   0.540670    ...     0.569378   \n",
       "2      0.821648    0.812180       0.828813   0.817298    ...     0.836745   \n",
       "3      0.964912    0.956140       0.964912   0.938596    ...     0.947368   \n",
       "4      0.786127    0.789017       0.898844   0.887283    ...     0.927746   \n",
       "5      0.627907    0.581395       0.511628   0.558140    ...     0.534884   \n",
       "6      0.575000    0.733333       0.775000   0.483333    ...     0.725000   \n",
       "7      0.966667    0.866667       1.000000   0.933333    ...     0.933333   \n",
       "8      0.642857    0.649351       0.707792   0.668831    ...     0.668831   \n",
       "9      0.445652    0.448370       0.673913   0.288043    ...     0.336957   \n",
       "10     0.754190    0.770950       0.759777   0.776536    ...     0.787709   \n",
       "11     0.600660    0.580858       0.600660   0.580858    ...     0.613861   \n",
       "12     0.972222    0.888889       0.888889   0.888889    ...     0.916667   \n",
       "13     0.578462    0.562308       0.602308   0.414615    ...     0.553846   \n",
       "14     0.000000    0.000000       0.000000   0.000000    ...     0.000000   \n",
       "15     0.440000    0.415000       0.625000   0.375000    ...     0.590000   \n",
       "\n",
       "          NN      UCB1  E Greedy  Decay E Gr.   Softmax  Decay SM  \\\n",
       "0   0.944625  0.947883  0.944625     0.944625  0.944625  0.944625   \n",
       "1   0.580144  0.572967  0.572967     0.572967  0.572967  0.572967   \n",
       "2   0.835466  0.832395  0.821648     0.839048  0.828301  0.834186   \n",
       "3   0.964912  0.964912  0.964912     0.956140  0.964912  0.964912   \n",
       "4   0.953757  0.936416  0.924855     0.919075  0.875723  0.800578   \n",
       "5   0.604651  0.651163  0.581395     0.604651  0.604651  0.581395   \n",
       "6   0.608333  0.641667  0.625000     0.575000  0.583333  0.575000   \n",
       "7   0.966667  1.000000  0.933333     0.900000  0.900000  0.666667   \n",
       "8   0.688312  0.701299  0.688312     0.701299  0.707792  0.707792   \n",
       "9   0.342391  0.361413  0.307065     0.339674  0.320652  0.301630   \n",
       "10  0.798883  0.798883  0.798883     0.798883  0.798883  0.798883   \n",
       "11  0.582508  0.587459  0.577558     0.589109  0.582508  0.584158   \n",
       "12  1.000000  1.000000  1.000000     1.000000  1.000000  1.000000   \n",
       "13  0.552308  0.557692  0.541538     0.508462  0.500000  0.536154   \n",
       "14  0.854037  0.854037  0.857143     0.854037  0.854037  0.854037   \n",
       "15  0.455000  0.405000  0.420000     0.380000  0.425000  0.440000   \n",
       "\n",
       "    Tomp. Sampling     Hedge      EXP3  \n",
       "0         0.944625  0.943540  0.941368  \n",
       "1         0.572967  0.572967  0.572967  \n",
       "2         0.832395  0.834442  0.831116  \n",
       "3         0.964912  0.964912  0.973684  \n",
       "4         0.936416  0.864162  0.864162  \n",
       "5         0.651163  0.604651  0.534884  \n",
       "6         0.575000  0.566667  0.566667  \n",
       "7         0.666667  0.666667  0.633333  \n",
       "8         0.701299  0.694805  0.688312  \n",
       "9         0.339674  0.345109  0.323370  \n",
       "10        0.798883  0.798883  0.798883  \n",
       "11        0.587459  0.575908  0.574257  \n",
       "12        1.000000  1.000000  0.972222  \n",
       "13        0.533077  0.500769  0.500769  \n",
       "14        0.854037  0.854037  0.854037  \n",
       "15        0.405000  0.415000  0.405000  \n",
       "\n",
       "[16 rows x 26 columns]"
      ]
     },
     "execution_count": 24,
     "metadata": {},
     "output_type": "execute_result"
    }
   ],
   "source": [
    "df1"
   ]
  },
  {
   "cell_type": "code",
   "execution_count": 25,
   "metadata": {
    "collapsed": false
   },
   "outputs": [],
   "source": [
    "data =  np.stack((df1['Knn'], df1['LSVM'], df1['SVM'], df1['DT_gini'], df1['DT_entorpy'], \n",
    "               df1['Bagging Knn'],df1['Bagging DT'], df1['Random Forest'], \n",
    "               df1['Ada Boost'], df1['NB'], df1['LDA'], df1['QDA'],\n",
    "               df1['Log. Reg.'], df1['GP Class.'], df1['LightGBM'], df1['Xgboost'],\n",
    "               df1['NN'], df1['UCB1'],df1['E Greedy'], df1['Decay E Gr.'],\n",
    "               df1['Softmax'], df1['Decay SM'], df1['Tomp. Sampling'],\n",
    "               df1['Hedge'], df1['EXP3']))"
   ]
  },
  {
   "cell_type": "code",
   "execution_count": 26,
   "metadata": {
    "collapsed": false
   },
   "outputs": [
    {
     "name": "stdout",
     "output_type": "stream",
     "text": [
      "FriedmanchisquareResult(statistic=121.87407351950296, pvalue=4.4931769454017029e-15)\n"
     ]
    }
   ],
   "source": [
    "print(friedmanchisquare(df1['Knn'], df1['LSVM'], df1['SVM'], df1['DT_gini'], df1['DT_entorpy'], \n",
    "               df1['Bagging Knn'],df1['Bagging DT'], df1['Random Forest'], \n",
    "               df1['Ada Boost'], df1['NB'], df1['LDA'], df1['QDA'],\n",
    "               df1['Log. Reg.'], df1['GP Class.'], df1['LightGBM'], df1['Xgboost'],\n",
    "               df1['NN'], df1['UCB1'],df1['E Greedy'], df1['Decay E Gr.'],\n",
    "               df1['Softmax'], df1['Decay SM'], df1['Tomp. Sampling'],\n",
    "               df1['Hedge'], df1['EXP3']))"
   ]
  },
  {
   "cell_type": "code",
   "execution_count": 27,
   "metadata": {
    "collapsed": false
   },
   "outputs": [],
   "source": [
    "exec(open(\"nemopy.py\").read())\n",
    "nemenyi = NemenyiTestPostHoc(data)\n",
    "meanRanks, pValues = nemenyi.do()"
   ]
  },
  {
   "cell_type": "code",
   "execution_count": 28,
   "metadata": {
    "collapsed": true
   },
   "outputs": [],
   "source": [
    "lst = list(df1.columns.values)\n",
    "lst.remove('Methods')"
   ]
  },
  {
   "cell_type": "code",
   "execution_count": 29,
   "metadata": {
    "collapsed": false
   },
   "outputs": [
    {
     "data": {
      "text/plain": [
       "25"
      ]
     },
     "execution_count": 29,
     "metadata": {},
     "output_type": "execute_result"
    }
   ],
   "source": [
    "len(lst)"
   ]
  },
  {
   "cell_type": "code",
   "execution_count": 30,
   "metadata": {
    "collapsed": false
   },
   "outputs": [
    {
     "data": {
      "text/plain": [
       "26"
      ]
     },
     "execution_count": 30,
     "metadata": {},
     "output_type": "execute_result"
    }
   ],
   "source": [
    "df1.iloc[1].size"
   ]
  },
  {
   "cell_type": "code",
   "execution_count": 31,
   "metadata": {
    "collapsed": false
   },
   "outputs": [],
   "source": [
    "q = 3.10# pvalue = 0.05 and number of datasets 3.426041249\n",
    "#q = 3.029694463 # pvalue = 0.1\n",
    "N = (df1['NN'].size)\n",
    "k = (df1.iloc[1].size)-1"
   ]
  },
  {
   "cell_type": "code",
   "execution_count": 32,
   "metadata": {
    "collapsed": false
   },
   "outputs": [],
   "source": [
    "CD = q * sqrt(k*(k+1)/(6.0*N))"
   ]
  },
  {
   "cell_type": "code",
   "execution_count": 33,
   "metadata": {
    "collapsed": false
   },
   "outputs": [
    {
     "data": {
      "text/plain": [
       "8.066455747931263"
      ]
     },
     "execution_count": 33,
     "metadata": {},
     "output_type": "execute_result"
    }
   ],
   "source": [
    "CD"
   ]
  },
  {
   "cell_type": "code",
   "execution_count": 34,
   "metadata": {
    "collapsed": false
   },
   "outputs": [
    {
     "data": {
      "text/plain": [
       "['Knn',\n",
       " 'LSVM',\n",
       " 'SVM',\n",
       " 'DT_gini',\n",
       " 'DT_entorpy',\n",
       " 'Bagging Knn',\n",
       " 'Bagging DT',\n",
       " 'Random Forest',\n",
       " 'Ada Boost',\n",
       " 'NB',\n",
       " 'LDA',\n",
       " 'QDA',\n",
       " 'Log. Reg.',\n",
       " 'GP Class.',\n",
       " 'LightGBM',\n",
       " 'Xgboost',\n",
       " 'NN',\n",
       " 'UCB1',\n",
       " 'E Greedy',\n",
       " 'Decay E Gr.',\n",
       " 'Softmax',\n",
       " 'Decay SM',\n",
       " 'Tomp. Sampling',\n",
       " 'Hedge',\n",
       " 'EXP3']"
      ]
     },
     "execution_count": 34,
     "metadata": {},
     "output_type": "execute_result"
    }
   ],
   "source": [
    "lst"
   ]
  },
  {
   "cell_type": "code",
   "execution_count": 35,
   "metadata": {
    "collapsed": false
   },
   "outputs": [
    {
     "name": "stdout",
     "output_type": "stream",
     "text": [
      "\n",
      " Knn 14.15625\n",
      "\n",
      " LSVM 7.59375\n",
      "\n",
      " SVM 20.21875\n",
      "\n",
      " DT_gini 9.875\n",
      "\n",
      " DT_entorpy 11.15625\n",
      "\n",
      " Bagging Knn 13.1875\n",
      "\n",
      " Bagging DT 10.40625\n",
      "\n",
      " Random Forest 14.5\n",
      "\n",
      " Ada Boost 6.90625\n",
      "\n",
      " NB 4.1875\n",
      "\n",
      " LDA 8.3125\n",
      "\n",
      " QDA 8.84375\n",
      "\n",
      " Log. Reg. 8.78125\n",
      "\n",
      " GP Class. 16.90625\n",
      "\n",
      " LightGBM 14.09375\n",
      "\n",
      " Xgboost 13.8125\n",
      "\n",
      " NN 18.53125\n",
      "\n",
      " UCB1 19.0625\n",
      "\n",
      " E Greedy 15.625\n",
      "\n",
      " Decay E Gr. 15.71875\n",
      "\n",
      " Softmax 15.15625\n",
      "\n",
      " Decay SM 14.96875\n",
      "\n",
      " Tomp. Sampling 16.3125\n",
      "\n",
      " Hedge 14.40625\n",
      "\n",
      " EXP3 12.28125\n"
     ]
    }
   ],
   "source": [
    "new_model_pairs = []\n",
    "for m1,m2 in zip(meanRanks,lst): \n",
    "    print('\\n',m2, m1, )"
   ]
  },
  {
   "cell_type": "code",
   "execution_count": 36,
   "metadata": {
    "collapsed": false
   },
   "outputs": [
    {
     "data": {
      "application/pdf": "[encoded data removed]",
      "image/png": "[encoded data removed]",
      "text/plain": [
       "<matplotlib.figure.Figure at 0x10ca4c1d0>"
      ]
     },
     "metadata": {},
     "output_type": "display_data"
    }
   ],
   "source": [
    "# input data\n",
    "cd = CD\n",
    "limits=(25,1)\n",
    "fig, ax = plt.subplots(figsize=(25,10))\n",
    "plt.subplots_adjust(left=0.2, right=0.8)\n",
    "\n",
    "# set up plot\n",
    "ax.set_xlim(limits)\n",
    "ax.set_ylim(0,1)\n",
    "ax.spines['top'].set_position(('axes', 0.6))\n",
    "#ax.xaxis.tick_top()\n",
    "ax.xaxis.set_ticks_position('top')\n",
    "ax.yaxis.set_visible(False)\n",
    "for pos in [\"bottom\", \"left\", \"right\"]:\n",
    "    ax.spines[pos].set_visible(False)\n",
    "\n",
    "# CD bar\n",
    "ax.plot([limits[0],limits[0]-cd], [.9,.9], color=\"k\")\n",
    "ax.plot([limits[0],limits[0]], [.9-0.03,.9+0.03], color=\"k\")\n",
    "ax.plot([limits[0]-cd,limits[0]-cd], [.9-0.03,.9+0.03], color=\"k\") \n",
    "ax.text(limits[0]-cd/2., 0.92, \"Critical Difference (CD)\", ha=\"center\", va=\"bottom\") \n",
    "\n",
    "# annotations\n",
    "bbox_props = dict(boxstyle=\"square,pad=0.3\", fc=\"w\", ec=\"k\", lw=0.72)\n",
    "arrowprops=dict(arrowstyle=\"-\",connectionstyle=\"angle,angleA=0,angleB=90\")\n",
    "kw = dict(xycoords='data',textcoords=\"axes fraction\",\n",
    "          arrowprops=arrowprops, bbox=bbox_props, va=\"center\")\n",
    "\n",
    "ax.annotate(\"SVM\", xy=(meanRanks[2], 0.6), xytext=(0,-1.0),ha=\"right\",  **kw, color=\"k\")\n",
    "ax.annotate(\"UCB1\", xy=(meanRanks[17], 0.6), xytext=(0,-0.9),ha=\"right\",  **kw, color=\"r\")\n",
    "ax.annotate(\"NN\", xy=(meanRanks[16], 0.6), xytext=(0,-0.8),ha=\"right\",  **kw, color=\"0\")\n",
    "ax.annotate(\"GP Class\", xy=(meanRanks[13], 0.6), xytext=(0,-0.7),ha=\"right\",  **kw, color=\"k\")\n",
    "ax.annotate(\"Thomp. Sampl.\", xy=(meanRanks[22], 0.6), xytext=(0,-0.6),ha=\"right\",  **kw, color=\"g\")\n",
    "ax.annotate(\"Decay E. G.\", xy=(meanRanks[19], 0.6), xytext=(0,-0.5),ha=\"right\",  **kw, color=\"b\")\n",
    "ax.annotate(\"Epsilon G.\", xy=(meanRanks[18], 0.6), xytext=(0,-0.4),ha=\"right\",  **kw, color=\"y\")\n",
    "ax.annotate(\"Softmax\", xy=(meanRanks[20], 0.6), xytext=(0,-0.3),ha=\"right\",  **kw, color=\"m\")\n",
    "ax.annotate(\"Decay SM\", xy=(meanRanks[21], 0.6), xytext=(0,-0.2),ha=\"right\",  **kw, color=\"c\")\n",
    "ax.annotate(\"Random Forest\", xy=(meanRanks[7], 0.6), xytext=(0,-0.1),ha=\"right\",  **kw, color=\"k\")\n",
    "ax.annotate(\"Hedge\", xy=(meanRanks[23], 0.6), xytext=(0,0),ha=\"right\",  **kw, color=\"0.75\")\n",
    "ax.annotate(\"KNN\", xy=(meanRanks[0], 0.6), xytext=(0,0.2),ha=\"right\",  **kw, color=\"k\")\n",
    "ax.annotate(\"LightGBM\", xy=(meanRanks[14], 0.6), xytext=(0,0.4),ha=\"right\",  **kw, color=\"k\")\n",
    "\n",
    "ax.annotate(\"NB\", xy=(meanRanks[9], 0.6), xytext=(1,-0.9),ha=\"left\",  **kw, color=\"k\")\n",
    "ax.annotate(\"Ada Boost\", xy=(meanRanks[8], 0.6), xytext=(1,-0.8),ha=\"left\",  **kw, color=\"k\")\n",
    "ax.annotate(\"LSVM\", xy=(meanRanks[1], 0.6), xytext=(1,-0.7),ha=\"left\",  **kw, color=\"k\")\n",
    "ax.annotate(\"LDA\", xy=(meanRanks[10], 0.6), xytext=(1,-0.6),ha=\"left\",  **kw, color=\"k\")\n",
    "ax.annotate(\"Log. Reg.\", xy=(meanRanks[12], 0.6), xytext=(1,-0.5),ha=\"left\",  **kw, color=\"k\")\n",
    "ax.annotate(\"QDA\", xy=(meanRanks[11], 0.6), xytext=(1,-0.4),ha=\"left\",  **kw, color=\"k\")\n",
    "ax.annotate(\"DT gini\", xy=(meanRanks[3], 0.6), xytext=(1,-0.3),ha=\"left\",  **kw, color=\"k\")\n",
    "ax.annotate(\"Bagging DT\", xy=(meanRanks[6], 0.6), xytext=(1,-0.2),ha=\"left\",  **kw, color=\"k\")\n",
    "ax.annotate(\"DT Entorpy\", xy=(meanRanks[4], 0.6), xytext=(1,-0.1),ha=\"left\",  **kw, color=\"k\")\n",
    "ax.annotate(\"EXP3\", xy=(meanRanks[24], 0.6), xytext=(1,0),ha=\"left\",  **kw, color=\"0.10\")\n",
    "ax.annotate(\"Bagging KNN\", xy=(meanRanks[5], 0.6), xytext=(1,0.2),ha=\"left\",  **kw, color=\"k\")\n",
    "ax.annotate(\"Xgboost\", xy=(meanRanks[15], 0.6), xytext=(1,0.4),ha=\"right\",  **kw, color=\"k\")\n",
    "\n",
    "#bars\n",
    "ax.plot([meanRanks[17],meanRanks[17]-CD],[0.55,0.55], color=\"r\", lw=3)\n",
    "ax.plot([meanRanks[22],meanRanks[22]-CD],[0.50,0.50], color=\"g\", lw=3)\n",
    "ax.plot([meanRanks[19],meanRanks[19]-CD],[0.45,0.45], color=\"b\", lw=3)\n",
    "ax.plot([meanRanks[18],meanRanks[18]-CD],[0.35,0.35], color=\"y\", lw=3)\n",
    "ax.plot([meanRanks[20],meanRanks[20]-CD],[0.25,0.25], color=\"m\", lw=3)\n",
    "ax.plot([meanRanks[21],meanRanks[21]-CD],[0.19,0.19], color=\"c\", lw=3)\n",
    "ax.plot([meanRanks[23],meanRanks[23]-CD],[0.15,0.15], color=\"0.75\", lw=3)\n",
    "ax.plot([meanRanks[24],meanRanks[24]-CD],[0.10,0.10], color=\"0.10\", lw=3)\n",
    "ax.plot([meanRanks[16],meanRanks[16]-CD],[0.05,0.05], color=\"0\", lw=5)\n",
    "\n",
    "\n",
    "\n",
    "\n",
    "plt.show()"
   ]
  },
  {
   "cell_type": "markdown",
   "metadata": {
    "collapsed": true
   },
   "source": [
    "# 2. f1score"
   ]
  },
  {
   "cell_type": "code",
   "execution_count": 37,
   "metadata": {
    "collapsed": false
   },
   "outputs": [],
   "source": [
    "df1 = df_f1_score.copy()"
   ]
  },
  {
   "cell_type": "code",
   "execution_count": 38,
   "metadata": {
    "collapsed": true
   },
   "outputs": [],
   "source": [
    "data =  np.stack((df1['Knn'], df1['LSVM'], df1['SVM'], df1['DT_gini'], df1['DT_entorpy'], \n",
    "               df1['Bagging Knn'],df1['Bagging DT'], df1['Random Forest'], \n",
    "               df1['Ada Boost'], df1['NB'], df1['LDA'], df1['QDA'],\n",
    "               df1['Log. Reg.'], df1['GP Class.'], df1['LightGBM'], df1['Xgboost'],\n",
    "               df1['NN'], df1['UCB1'],df1['E Greedy'], df1['Decay E Gr.'],\n",
    "               df1['Softmax'], df1['Decay SM'], df1['Tomp. Sampling'],\n",
    "               df1['Hedge'], df1['EXP3']))"
   ]
  },
  {
   "cell_type": "code",
   "execution_count": 39,
   "metadata": {
    "collapsed": false
   },
   "outputs": [
    {
     "name": "stdout",
     "output_type": "stream",
     "text": [
      "FriedmanchisquareResult(statistic=82.925271302499354, pvalue=2.0665400210355926e-08)\n"
     ]
    }
   ],
   "source": [
    "print(friedmanchisquare(df1['Knn'], df1['LSVM'], df1['SVM'], df1['DT_gini'], df1['DT_entorpy'], \n",
    "               df1['Bagging Knn'],df1['Bagging DT'], df1['Random Forest'], \n",
    "               df1['Ada Boost'], df1['NB'], df1['LDA'], df1['QDA'],\n",
    "               df1['Log. Reg.'], df1['GP Class.'], df1['LightGBM'], df1['Xgboost'],\n",
    "               df1['NN'], df1['UCB1'],df1['E Greedy'], df1['Decay E Gr.'],\n",
    "               df1['Softmax'], df1['Decay SM'], df1['Tomp. Sampling'],\n",
    "               df1['Hedge'], df1['EXP3']))"
   ]
  },
  {
   "cell_type": "code",
   "execution_count": 40,
   "metadata": {
    "collapsed": true
   },
   "outputs": [],
   "source": [
    "exec(open(\"nemopy.py\").read())\n",
    "nemenyi = NemenyiTestPostHoc(data)\n",
    "meanRanks, pValues = nemenyi.do()"
   ]
  },
  {
   "cell_type": "code",
   "execution_count": 41,
   "metadata": {
    "collapsed": false
   },
   "outputs": [
    {
     "name": "stdout",
     "output_type": "stream",
     "text": [
      "\n",
      " Knn 14.4375\n",
      "\n",
      " LSVM 7.4375\n",
      "\n",
      " SVM 18.84375\n",
      "\n",
      " DT_gini 13.65625\n",
      "\n",
      " DT_entorpy 13.5625\n",
      "\n",
      " Bagging Knn 11.5\n",
      "\n",
      " Bagging DT 9.71875\n",
      "\n",
      " Random Forest 14.03125\n",
      "\n",
      " Ada Boost 8.03125\n",
      "\n",
      " NB 7.59375\n",
      "\n",
      " LDA 8.65625\n",
      "\n",
      " QDA 12.25\n",
      "\n",
      " Log. Reg. 7.96875\n",
      "\n",
      " GP Class. 17.34375\n",
      "\n",
      " LightGBM 12.25\n",
      "\n",
      " Xgboost 12.46875\n",
      "\n",
      " NN 17.84375\n",
      "\n",
      " UCB1 18.625\n",
      "\n",
      " E Greedy 15.0625\n",
      "\n",
      " Decay E Gr. 14.53125\n",
      "\n",
      " Softmax 13.96875\n",
      "\n",
      " Decay SM 13.3125\n",
      "\n",
      " Tomp. Sampling 16.03125\n",
      "\n",
      " Hedge 13.53125\n",
      "\n",
      " EXP3 12.34375\n"
     ]
    }
   ],
   "source": [
    "new_model_pairs = []\n",
    "for m1,m2 in zip(meanRanks,lst): \n",
    "    print('\\n',m2, m1, )"
   ]
  },
  {
   "cell_type": "code",
   "execution_count": 42,
   "metadata": {
    "collapsed": false
   },
   "outputs": [
    {
     "data": {
      "application/pdf": "[encoded data removed]",
      "image/png": "[encoded data removed]",
      "text/plain": [
       "<matplotlib.figure.Figure at 0x10d95d400>"
      ]
     },
     "metadata": {},
     "output_type": "display_data"
    }
   ],
   "source": [
    "# input data\n",
    "cd = CD\n",
    "limits=(25,1)\n",
    "fig, ax = plt.subplots(figsize=(25,10))\n",
    "plt.subplots_adjust(left=0.2, right=0.8)\n",
    "\n",
    "# set up plot\n",
    "ax.set_xlim(limits)\n",
    "ax.set_ylim(0,1)\n",
    "ax.spines['top'].set_position(('axes', 0.6))\n",
    "#ax.xaxis.tick_top()\n",
    "ax.xaxis.set_ticks_position('top')\n",
    "ax.yaxis.set_visible(False)\n",
    "for pos in [\"bottom\", \"left\", \"right\"]:\n",
    "    ax.spines[pos].set_visible(False)\n",
    "\n",
    "# CD bar\n",
    "ax.plot([limits[0],limits[0]-cd], [.9,.9], color=\"k\")\n",
    "ax.plot([limits[0],limits[0]], [.9-0.03,.9+0.03], color=\"k\")\n",
    "ax.plot([limits[0]-cd,limits[0]-cd], [.9-0.03,.9+0.03], color=\"k\") \n",
    "ax.text(limits[0]-cd/2., 0.92, \"Critical Difference (CD)\", ha=\"center\", va=\"bottom\") \n",
    "\n",
    "# annotations\n",
    "bbox_props = dict(boxstyle=\"square,pad=0.3\", fc=\"w\", ec=\"k\", lw=0.72)\n",
    "arrowprops=dict(arrowstyle=\"-\",connectionstyle=\"angle,angleA=0,angleB=90\")\n",
    "kw = dict(xycoords='data',textcoords=\"axes fraction\",\n",
    "          arrowprops=arrowprops, bbox=bbox_props, va=\"center\")\n",
    "\n",
    "ax.annotate(\"SVM\", xy=(meanRanks[2], 0.6), xytext=(0,-1.0),ha=\"right\",  **kw, color=\"k\")\n",
    "ax.annotate(\"UCB1\", xy=(meanRanks[17], 0.6), xytext=(0,-0.9),ha=\"right\",  **kw, color=\"r\")\n",
    "ax.annotate(\"NN\", xy=(meanRanks[16], 0.6), xytext=(0,-0.8),ha=\"right\",  **kw, color=\"0\")\n",
    "ax.annotate(\"GP Class\", xy=(meanRanks[13], 0.6), xytext=(0,-0.7),ha=\"right\",  **kw, color=\"k\")\n",
    "ax.annotate(\"Thomp. Sampl.\", xy=(meanRanks[22], 0.6), xytext=(0,-0.6),ha=\"right\",  **kw, color=\"g\")\n",
    "ax.annotate(\"Decay E. G.\", xy=(meanRanks[19], 0.6), xytext=(0,-0.5),ha=\"right\",  **kw, color=\"b\")\n",
    "ax.annotate(\"Epsilon G.\", xy=(meanRanks[18], 0.6), xytext=(0,-0.4),ha=\"right\",  **kw, color=\"y\")\n",
    "ax.annotate(\"Softmax\", xy=(meanRanks[20], 0.6), xytext=(0,-0.3),ha=\"right\",  **kw, color=\"m\")\n",
    "ax.annotate(\"Decay SM\", xy=(meanRanks[21], 0.6), xytext=(0,-0.2),ha=\"right\",  **kw, color=\"c\")\n",
    "ax.annotate(\"Random Forest\", xy=(meanRanks[7], 0.6), xytext=(0,-0.1),ha=\"right\",  **kw, color=\"k\")\n",
    "ax.annotate(\"Hedge\", xy=(meanRanks[23], 0.6), xytext=(0,0),ha=\"right\",  **kw, color=\"0.75\")\n",
    "ax.annotate(\"KNN\", xy=(meanRanks[0], 0.6), xytext=(0,0.2),ha=\"right\",  **kw, color=\"k\")\n",
    "ax.annotate(\"LightGBM\", xy=(meanRanks[14], 0.6), xytext=(0,0.4),ha=\"right\",  **kw, color=\"k\")\n",
    "\n",
    "ax.annotate(\"NB\", xy=(meanRanks[9], 0.6), xytext=(1,-0.9),ha=\"left\",  **kw, color=\"k\")\n",
    "ax.annotate(\"Ada Boost\", xy=(meanRanks[8], 0.6), xytext=(1,-0.8),ha=\"left\",  **kw, color=\"k\")\n",
    "ax.annotate(\"LSVM\", xy=(meanRanks[1], 0.6), xytext=(1,-0.7),ha=\"left\",  **kw, color=\"k\")\n",
    "ax.annotate(\"LDA\", xy=(meanRanks[10], 0.6), xytext=(1,-0.6),ha=\"left\",  **kw, color=\"k\")\n",
    "ax.annotate(\"Log. Reg.\", xy=(meanRanks[12], 0.6), xytext=(1,-0.5),ha=\"left\",  **kw, color=\"k\")\n",
    "ax.annotate(\"QDA\", xy=(meanRanks[11], 0.6), xytext=(1,-0.4),ha=\"left\",  **kw, color=\"k\")\n",
    "ax.annotate(\"DT gini\", xy=(meanRanks[3], 0.6), xytext=(1,-0.3),ha=\"left\",  **kw, color=\"k\")\n",
    "ax.annotate(\"Bagging DT\", xy=(meanRanks[6], 0.6), xytext=(1,-0.2),ha=\"left\",  **kw, color=\"k\")\n",
    "ax.annotate(\"DT Entorpy\", xy=(meanRanks[4], 0.6), xytext=(1,-0.1),ha=\"left\",  **kw, color=\"k\")\n",
    "ax.annotate(\"EXP3\", xy=(meanRanks[24], 0.6), xytext=(1,0),ha=\"left\",  **kw, color=\"0.10\")\n",
    "ax.annotate(\"Bagging KNN\", xy=(meanRanks[5], 0.6), xytext=(1,0.2),ha=\"left\",  **kw, color=\"k\")\n",
    "ax.annotate(\"Xgboost\", xy=(meanRanks[15], 0.6), xytext=(1,0.4),ha=\"right\",  **kw, color=\"k\")\n",
    "\n",
    "#bars\n",
    "ax.plot([meanRanks[17],meanRanks[17]-CD],[0.55,0.55], color=\"r\", lw=3)\n",
    "ax.plot([meanRanks[22],meanRanks[22]-CD],[0.50,0.50], color=\"g\", lw=3)\n",
    "ax.plot([meanRanks[19],meanRanks[19]-CD],[0.45,0.45], color=\"b\", lw=3)\n",
    "ax.plot([meanRanks[18],meanRanks[18]-CD],[0.35,0.35], color=\"y\", lw=3)\n",
    "ax.plot([meanRanks[20],meanRanks[20]-CD],[0.25,0.25], color=\"m\", lw=3)\n",
    "ax.plot([meanRanks[21],meanRanks[21]-CD],[0.19,0.19], color=\"c\", lw=3)\n",
    "ax.plot([meanRanks[23],meanRanks[23]-CD],[0.15,0.15], color=\"0.75\", lw=3)\n",
    "ax.plot([meanRanks[24],meanRanks[24]-CD],[0.10,0.10], color=\"0.10\", lw=3)\n",
    "ax.plot([meanRanks[16],meanRanks[16]-CD],[0.05,0.05], color=\"0\", lw=5)\n",
    "\n",
    "\n",
    "\n",
    "\n",
    "plt.show()"
   ]
  },
  {
   "cell_type": "markdown",
   "metadata": {},
   "source": [
    "# 3. Precison"
   ]
  },
  {
   "cell_type": "code",
   "execution_count": 43,
   "metadata": {
    "collapsed": true
   },
   "outputs": [],
   "source": [
    "df1 = df_precision.copy()"
   ]
  },
  {
   "cell_type": "code",
   "execution_count": 44,
   "metadata": {
    "collapsed": true
   },
   "outputs": [],
   "source": [
    "data =  np.stack((df1['Knn'], df1['LSVM'], df1['SVM'], df1['DT_gini'], df1['DT_entorpy'], \n",
    "               df1['Bagging Knn'],df1['Bagging DT'], df1['Random Forest'], \n",
    "               df1['Ada Boost'], df1['NB'], df1['LDA'], df1['QDA'],\n",
    "               df1['Log. Reg.'], df1['GP Class.'], df1['LightGBM'], df1['Xgboost'],\n",
    "               df1['NN'], df1['UCB1'],df1['E Greedy'], df1['Decay E Gr.'],\n",
    "               df1['Softmax'], df1['Decay SM'], df1['Tomp. Sampling'],\n",
    "               df1['Hedge'], df1['EXP3']))"
   ]
  },
  {
   "cell_type": "code",
   "execution_count": 45,
   "metadata": {
    "collapsed": false
   },
   "outputs": [
    {
     "name": "stdout",
     "output_type": "stream",
     "text": [
      "FriedmanchisquareResult(statistic=81.154498479491835, pvalue=3.9793195070035057e-08)\n"
     ]
    }
   ],
   "source": [
    "print(friedmanchisquare(df1['Knn'], df1['LSVM'], df1['SVM'], df1['DT_gini'], df1['DT_entorpy'], \n",
    "               df1['Bagging Knn'],df1['Bagging DT'], df1['Random Forest'], \n",
    "               df1['Ada Boost'], df1['NB'], df1['LDA'], df1['QDA'],\n",
    "               df1['Log. Reg.'], df1['GP Class.'], df1['LightGBM'], df1['Xgboost'],\n",
    "               df1['NN'], df1['UCB1'],df1['E Greedy'], df1['Decay E Gr.'],\n",
    "               df1['Softmax'], df1['Decay SM'], df1['Tomp. Sampling'],\n",
    "               df1['Hedge'], df1['EXP3']))"
   ]
  },
  {
   "cell_type": "code",
   "execution_count": 46,
   "metadata": {
    "collapsed": true
   },
   "outputs": [],
   "source": [
    "exec(open(\"nemopy.py\").read())\n",
    "nemenyi = NemenyiTestPostHoc(data)\n",
    "meanRanks, pValues = nemenyi.do()"
   ]
  },
  {
   "cell_type": "code",
   "execution_count": 47,
   "metadata": {
    "collapsed": false
   },
   "outputs": [
    {
     "name": "stdout",
     "output_type": "stream",
     "text": [
      "\n",
      " Knn 13.125\n",
      "\n",
      " LSVM 8.59375\n",
      "\n",
      " SVM 20.15625\n",
      "\n",
      " DT_gini 10.78125\n",
      "\n",
      " DT_entorpy 10.90625\n",
      "\n",
      " Bagging Knn 13.0\n",
      "\n",
      " Bagging DT 11.90625\n",
      "\n",
      " Random Forest 16.59375\n",
      "\n",
      " Ada Boost 8.09375\n",
      "\n",
      " NB 5.40625\n",
      "\n",
      " LDA 9.8125\n",
      "\n",
      " QDA 9.28125\n",
      "\n",
      " Log. Reg. 10.875\n",
      "\n",
      " GP Class. 16.78125\n",
      "\n",
      " LightGBM 12.0625\n",
      "\n",
      " Xgboost 15.1875\n",
      "\n",
      " NN 15.59375\n",
      "\n",
      " UCB1 16.5\n",
      "\n",
      " E Greedy 14.1875\n",
      "\n",
      " Decay E Gr. 15.09375\n",
      "\n",
      " Softmax 14.625\n",
      "\n",
      " Decay SM 16.625\n",
      "\n",
      " Tomp. Sampling 13.78125\n",
      "\n",
      " Hedge 13.9375\n",
      "\n",
      " EXP3 12.09375\n"
     ]
    }
   ],
   "source": [
    "new_model_pairs = []\n",
    "for m1,m2 in zip(meanRanks,lst): \n",
    "    print('\\n',m2, m1, )"
   ]
  },
  {
   "cell_type": "code",
   "execution_count": 48,
   "metadata": {
    "collapsed": false
   },
   "outputs": [
    {
     "data": {
      "application/pdf": "[encoded data removed]",
      "image/png": "[encoded data removed]",
      "text/plain": [
       "<matplotlib.figure.Figure at 0x10ca740f0>"
      ]
     },
     "metadata": {},
     "output_type": "display_data"
    }
   ],
   "source": [
    "# input data\n",
    "cd = CD\n",
    "limits=(25,1)\n",
    "fig, ax = plt.subplots(figsize=(25,10))\n",
    "plt.subplots_adjust(left=0.2, right=0.8)\n",
    "\n",
    "# set up plot\n",
    "ax.set_xlim(limits)\n",
    "ax.set_ylim(0,1)\n",
    "ax.spines['top'].set_position(('axes', 0.6))\n",
    "#ax.xaxis.tick_top()\n",
    "ax.xaxis.set_ticks_position('top')\n",
    "ax.yaxis.set_visible(False)\n",
    "for pos in [\"bottom\", \"left\", \"right\"]:\n",
    "    ax.spines[pos].set_visible(False)\n",
    "\n",
    "# CD bar\n",
    "ax.plot([limits[0],limits[0]-cd], [.9,.9], color=\"k\")\n",
    "ax.plot([limits[0],limits[0]], [.9-0.03,.9+0.03], color=\"k\")\n",
    "ax.plot([limits[0]-cd,limits[0]-cd], [.9-0.03,.9+0.03], color=\"k\") \n",
    "ax.text(limits[0]-cd/2., 0.92, \"Critical Difference (CD)\", ha=\"center\", va=\"bottom\") \n",
    "\n",
    "# annotations\n",
    "bbox_props = dict(boxstyle=\"square,pad=0.3\", fc=\"w\", ec=\"k\", lw=0.72)\n",
    "arrowprops=dict(arrowstyle=\"-\",connectionstyle=\"angle,angleA=0,angleB=90\")\n",
    "kw = dict(xycoords='data',textcoords=\"axes fraction\",\n",
    "          arrowprops=arrowprops, bbox=bbox_props, va=\"center\")\n",
    "\n",
    "ax.annotate(\"SVM\", xy=(meanRanks[2], 0.6), xytext=(0,-1.0),ha=\"right\",  **kw, color=\"k\")\n",
    "ax.annotate(\"UCB1\", xy=(meanRanks[17], 0.6), xytext=(0,-0.9),ha=\"right\",  **kw, color=\"r\")\n",
    "ax.annotate(\"NN\", xy=(meanRanks[16], 0.6), xytext=(0,-0.8),ha=\"right\",  **kw, color=\"0\")\n",
    "ax.annotate(\"GP Class\", xy=(meanRanks[13], 0.6), xytext=(0,-0.7),ha=\"right\",  **kw, color=\"k\")\n",
    "ax.annotate(\"Thomp. Sampl.\", xy=(meanRanks[22], 0.6), xytext=(0,-0.6),ha=\"right\",  **kw, color=\"g\")\n",
    "ax.annotate(\"Decay E. G.\", xy=(meanRanks[19], 0.6), xytext=(0,-0.5),ha=\"right\",  **kw, color=\"b\")\n",
    "ax.annotate(\"Epsilon G.\", xy=(meanRanks[18], 0.6), xytext=(0,-0.4),ha=\"right\",  **kw, color=\"y\")\n",
    "ax.annotate(\"Softmax\", xy=(meanRanks[20], 0.6), xytext=(0,-0.3),ha=\"right\",  **kw, color=\"m\")\n",
    "ax.annotate(\"Decay SM\", xy=(meanRanks[21], 0.6), xytext=(0,-0.2),ha=\"right\",  **kw, color=\"c\")\n",
    "ax.annotate(\"Random Forest\", xy=(meanRanks[7], 0.6), xytext=(0,-0.1),ha=\"right\",  **kw, color=\"k\")\n",
    "ax.annotate(\"Hedge\", xy=(meanRanks[23], 0.6), xytext=(0,0),ha=\"right\",  **kw, color=\"0.75\")\n",
    "ax.annotate(\"KNN\", xy=(meanRanks[0], 0.6), xytext=(0,0.2),ha=\"right\",  **kw, color=\"k\")\n",
    "ax.annotate(\"LightGBM\", xy=(meanRanks[14], 0.6), xytext=(0,0.4),ha=\"right\",  **kw, color=\"k\")\n",
    "\n",
    "ax.annotate(\"NB\", xy=(meanRanks[9], 0.6), xytext=(1,-0.9),ha=\"left\",  **kw, color=\"k\")\n",
    "ax.annotate(\"Ada Boost\", xy=(meanRanks[8], 0.6), xytext=(1,-0.8),ha=\"left\",  **kw, color=\"k\")\n",
    "ax.annotate(\"LSVM\", xy=(meanRanks[1], 0.6), xytext=(1,-0.7),ha=\"left\",  **kw, color=\"k\")\n",
    "ax.annotate(\"LDA\", xy=(meanRanks[10], 0.6), xytext=(1,-0.6),ha=\"left\",  **kw, color=\"k\")\n",
    "ax.annotate(\"Log. Reg.\", xy=(meanRanks[12], 0.6), xytext=(1,-0.5),ha=\"left\",  **kw, color=\"k\")\n",
    "ax.annotate(\"QDA\", xy=(meanRanks[11], 0.6), xytext=(1,-0.4),ha=\"left\",  **kw, color=\"k\")\n",
    "ax.annotate(\"DT gini\", xy=(meanRanks[3], 0.6), xytext=(1,-0.3),ha=\"left\",  **kw, color=\"k\")\n",
    "ax.annotate(\"Bagging DT\", xy=(meanRanks[6], 0.6), xytext=(1,-0.2),ha=\"left\",  **kw, color=\"k\")\n",
    "ax.annotate(\"DT Entorpy\", xy=(meanRanks[4], 0.6), xytext=(1,-0.1),ha=\"left\",  **kw, color=\"k\")\n",
    "ax.annotate(\"EXP3\", xy=(meanRanks[24], 0.6), xytext=(1,0),ha=\"left\",  **kw, color=\"0.10\")\n",
    "ax.annotate(\"Bagging KNN\", xy=(meanRanks[5], 0.6), xytext=(1,0.2),ha=\"left\",  **kw, color=\"k\")\n",
    "ax.annotate(\"Xgboost\", xy=(meanRanks[15], 0.6), xytext=(1,0.4),ha=\"right\",  **kw, color=\"k\")\n",
    "\n",
    "#bars\n",
    "ax.plot([meanRanks[17],meanRanks[17]-CD],[0.55,0.55], color=\"r\", lw=3)\n",
    "ax.plot([meanRanks[22],meanRanks[22]-CD],[0.50,0.50], color=\"g\", lw=3)\n",
    "ax.plot([meanRanks[19],meanRanks[19]-CD],[0.45,0.45], color=\"b\", lw=3)\n",
    "ax.plot([meanRanks[18],meanRanks[18]-CD],[0.35,0.35], color=\"y\", lw=3)\n",
    "ax.plot([meanRanks[20],meanRanks[20]-CD],[0.25,0.25], color=\"m\", lw=3)\n",
    "ax.plot([meanRanks[21],meanRanks[21]-CD],[0.19,0.19], color=\"c\", lw=3)\n",
    "ax.plot([meanRanks[23],meanRanks[23]-CD],[0.15,0.15], color=\"0.75\", lw=3)\n",
    "ax.plot([meanRanks[24],meanRanks[24]-CD],[0.10,0.10], color=\"0.10\", lw=3)\n",
    "ax.plot([meanRanks[16],meanRanks[16]-CD],[0.05,0.05], color=\"0\", lw=5)\n",
    "\n",
    "\n",
    "\n",
    "\n",
    "plt.show()"
   ]
  },
  {
   "cell_type": "markdown",
   "metadata": {},
   "source": [
    "# 4. Recall"
   ]
  },
  {
   "cell_type": "code",
   "execution_count": 49,
   "metadata": {
    "collapsed": true
   },
   "outputs": [],
   "source": [
    "df1 = df_recall.copy()"
   ]
  },
  {
   "cell_type": "code",
   "execution_count": 50,
   "metadata": {
    "collapsed": true
   },
   "outputs": [],
   "source": [
    "data =  np.stack((df1['Knn'], df1['LSVM'], df1['SVM'], df1['DT_gini'], df1['DT_entorpy'], \n",
    "               df1['Bagging Knn'],df1['Bagging DT'], df1['Random Forest'], \n",
    "               df1['Ada Boost'], df1['NB'], df1['LDA'], df1['QDA'],\n",
    "               df1['Log. Reg.'], df1['GP Class.'], df1['LightGBM'], df1['Xgboost'],\n",
    "               df1['NN'], df1['UCB1'],df1['E Greedy'], df1['Decay E Gr.'],\n",
    "               df1['Softmax'], df1['Decay SM'], df1['Tomp. Sampling'],\n",
    "               df1['Hedge'], df1['EXP3']))"
   ]
  },
  {
   "cell_type": "code",
   "execution_count": 51,
   "metadata": {
    "collapsed": false
   },
   "outputs": [
    {
     "name": "stdout",
     "output_type": "stream",
     "text": [
      "FriedmanchisquareResult(statistic=71.599949488571895, pvalue=1.2482424215975254e-06)\n"
     ]
    }
   ],
   "source": [
    "print(friedmanchisquare(df1['Knn'], df1['LSVM'], df1['SVM'], df1['DT_gini'], df1['DT_entorpy'], \n",
    "               df1['Bagging Knn'],df1['Bagging DT'], df1['Random Forest'], \n",
    "               df1['Ada Boost'], df1['NB'], df1['LDA'], df1['QDA'],\n",
    "               df1['Log. Reg.'], df1['GP Class.'], df1['LightGBM'], df1['Xgboost'],\n",
    "               df1['NN'], df1['UCB1'],df1['E Greedy'], df1['Decay E Gr.'],\n",
    "               df1['Softmax'], df1['Decay SM'], df1['Tomp. Sampling'],\n",
    "               df1['Hedge'], df1['EXP3']))"
   ]
  },
  {
   "cell_type": "code",
   "execution_count": 52,
   "metadata": {
    "collapsed": true
   },
   "outputs": [],
   "source": [
    "exec(open(\"nemopy.py\").read())\n",
    "nemenyi = NemenyiTestPostHoc(data)\n",
    "meanRanks, pValues = nemenyi.do()"
   ]
  },
  {
   "cell_type": "code",
   "execution_count": 53,
   "metadata": {
    "collapsed": false
   },
   "outputs": [
    {
     "name": "stdout",
     "output_type": "stream",
     "text": [
      "\n",
      " Knn 14.3125\n",
      "\n",
      " LSVM 8.875\n",
      "\n",
      " SVM 18.65625\n",
      "\n",
      " DT_gini 16.0625\n",
      "\n",
      " DT_entorpy 14.46875\n",
      "\n",
      " Bagging Knn 11.03125\n",
      "\n",
      " Bagging DT 8.125\n",
      "\n",
      " Random Forest 12.75\n",
      "\n",
      " Ada Boost 10.40625\n",
      "\n",
      " NB 9.71875\n",
      "\n",
      " LDA 8.3125\n",
      "\n",
      " QDA 13.03125\n",
      "\n",
      " Log. Reg. 8.40625\n",
      "\n",
      " GP Class. 17.21875\n",
      "\n",
      " LightGBM 10.90625\n",
      "\n",
      " Xgboost 11.9375\n",
      "\n",
      " NN 17.21875\n",
      "\n",
      " UCB1 18.0625\n",
      "\n",
      " E Greedy 14.625\n",
      "\n",
      " Decay E Gr. 14.3125\n",
      "\n",
      " Softmax 13.71875\n",
      "\n",
      " Decay SM 12.71875\n",
      "\n",
      " Tomp. Sampling 15.53125\n",
      "\n",
      " Hedge 13.03125\n",
      "\n",
      " EXP3 11.5625\n"
     ]
    }
   ],
   "source": [
    "new_model_pairs = []\n",
    "for m1,m2 in zip(meanRanks,lst): \n",
    "    print('\\n',m2, m1, )"
   ]
  },
  {
   "cell_type": "code",
   "execution_count": 54,
   "metadata": {
    "collapsed": false
   },
   "outputs": [
    {
     "data": {
      "application/pdf": "[encoded data removed]",
      "image/png": "[encoded data removed]",
      "text/plain": [
       "<matplotlib.figure.Figure at 0x10d934048>"
      ]
     },
     "metadata": {},
     "output_type": "display_data"
    }
   ],
   "source": [
    "# input data\n",
    "cd = CD\n",
    "limits=(25,1)\n",
    "fig, ax = plt.subplots(figsize=(25,10))\n",
    "plt.subplots_adjust(left=0.2, right=0.8)\n",
    "\n",
    "# set up plot\n",
    "ax.set_xlim(limits)\n",
    "ax.set_ylim(0,1)\n",
    "ax.spines['top'].set_position(('axes', 0.6))\n",
    "#ax.xaxis.tick_top()\n",
    "ax.xaxis.set_ticks_position('top')\n",
    "ax.yaxis.set_visible(False)\n",
    "for pos in [\"bottom\", \"left\", \"right\"]:\n",
    "    ax.spines[pos].set_visible(False)\n",
    "\n",
    "# CD bar\n",
    "ax.plot([limits[0],limits[0]-cd], [.9,.9], color=\"k\")\n",
    "ax.plot([limits[0],limits[0]], [.9-0.03,.9+0.03], color=\"k\")\n",
    "ax.plot([limits[0]-cd,limits[0]-cd], [.9-0.03,.9+0.03], color=\"k\") \n",
    "ax.text(limits[0]-cd/2., 0.92, \"Critical Difference (CD)\", ha=\"center\", va=\"bottom\") \n",
    "\n",
    "# annotations\n",
    "bbox_props = dict(boxstyle=\"square,pad=0.3\", fc=\"w\", ec=\"k\", lw=0.72)\n",
    "arrowprops=dict(arrowstyle=\"-\",connectionstyle=\"angle,angleA=0,angleB=90\")\n",
    "kw = dict(xycoords='data',textcoords=\"axes fraction\",\n",
    "          arrowprops=arrowprops, bbox=bbox_props, va=\"center\")\n",
    "\n",
    "ax.annotate(\"SVM\", xy=(meanRanks[2], 0.6), xytext=(0,-1.0),ha=\"right\",  **kw, color=\"k\")\n",
    "ax.annotate(\"UCB1\", xy=(meanRanks[17], 0.6), xytext=(0,-0.9),ha=\"right\",  **kw, color=\"r\")\n",
    "ax.annotate(\"NN\", xy=(meanRanks[16], 0.6), xytext=(0,-0.8),ha=\"right\",  **kw, color=\"0\")\n",
    "ax.annotate(\"GP Class\", xy=(meanRanks[13], 0.6), xytext=(0,-0.7),ha=\"right\",  **kw, color=\"k\")\n",
    "ax.annotate(\"Thomp. Sampl.\", xy=(meanRanks[22], 0.6), xytext=(0,-0.6),ha=\"right\",  **kw, color=\"g\")\n",
    "ax.annotate(\"Decay E. G.\", xy=(meanRanks[19], 0.6), xytext=(0,-0.5),ha=\"right\",  **kw, color=\"b\")\n",
    "ax.annotate(\"Epsilon G.\", xy=(meanRanks[18], 0.6), xytext=(0,-0.4),ha=\"right\",  **kw, color=\"y\")\n",
    "ax.annotate(\"Softmax\", xy=(meanRanks[20], 0.6), xytext=(0,-0.3),ha=\"right\",  **kw, color=\"m\")\n",
    "ax.annotate(\"Decay SM\", xy=(meanRanks[21], 0.6), xytext=(0,-0.2),ha=\"right\",  **kw, color=\"c\")\n",
    "ax.annotate(\"Random Forest\", xy=(meanRanks[7], 0.6), xytext=(0,-0.1),ha=\"right\",  **kw, color=\"k\")\n",
    "ax.annotate(\"Hedge\", xy=(meanRanks[23], 0.6), xytext=(0,0),ha=\"right\",  **kw, color=\"0.75\")\n",
    "ax.annotate(\"KNN\", xy=(meanRanks[0], 0.6), xytext=(0,0.2),ha=\"right\",  **kw, color=\"k\")\n",
    "ax.annotate(\"LightGBM\", xy=(meanRanks[14], 0.6), xytext=(0,0.4),ha=\"right\",  **kw, color=\"k\")\n",
    "\n",
    "ax.annotate(\"NB\", xy=(meanRanks[9], 0.6), xytext=(1,-0.9),ha=\"left\",  **kw, color=\"k\")\n",
    "ax.annotate(\"Ada Boost\", xy=(meanRanks[8], 0.6), xytext=(1,-0.8),ha=\"left\",  **kw, color=\"k\")\n",
    "ax.annotate(\"LSVM\", xy=(meanRanks[1], 0.6), xytext=(1,-0.7),ha=\"left\",  **kw, color=\"k\")\n",
    "ax.annotate(\"LDA\", xy=(meanRanks[10], 0.6), xytext=(1,-0.6),ha=\"left\",  **kw, color=\"k\")\n",
    "ax.annotate(\"Log. Reg.\", xy=(meanRanks[12], 0.6), xytext=(1,-0.5),ha=\"left\",  **kw, color=\"k\")\n",
    "ax.annotate(\"QDA\", xy=(meanRanks[11], 0.6), xytext=(1,-0.4),ha=\"left\",  **kw, color=\"k\")\n",
    "ax.annotate(\"DT gini\", xy=(meanRanks[3], 0.6), xytext=(1,-0.3),ha=\"left\",  **kw, color=\"k\")\n",
    "ax.annotate(\"Bagging DT\", xy=(meanRanks[6], 0.6), xytext=(1,-0.2),ha=\"left\",  **kw, color=\"k\")\n",
    "ax.annotate(\"DT Entorpy\", xy=(meanRanks[4], 0.6), xytext=(1,-0.1),ha=\"left\",  **kw, color=\"k\")\n",
    "ax.annotate(\"EXP3\", xy=(meanRanks[24], 0.6), xytext=(1,0),ha=\"left\",  **kw, color=\"0.10\")\n",
    "ax.annotate(\"Bagging KNN\", xy=(meanRanks[5], 0.6), xytext=(1,0.2),ha=\"left\",  **kw, color=\"k\")\n",
    "ax.annotate(\"Xgboost\", xy=(meanRanks[15], 0.6), xytext=(1,0.4),ha=\"right\",  **kw, color=\"k\")\n",
    "\n",
    "#bars\n",
    "ax.plot([meanRanks[17],meanRanks[17]-CD],[0.55,0.55], color=\"r\", lw=3)\n",
    "ax.plot([meanRanks[22],meanRanks[22]-CD],[0.50,0.50], color=\"g\", lw=3)\n",
    "ax.plot([meanRanks[19],meanRanks[19]-CD],[0.45,0.45], color=\"b\", lw=3)\n",
    "ax.plot([meanRanks[18],meanRanks[18]-CD],[0.35,0.35], color=\"y\", lw=3)\n",
    "ax.plot([meanRanks[20],meanRanks[20]-CD],[0.25,0.25], color=\"m\", lw=3)\n",
    "ax.plot([meanRanks[21],meanRanks[21]-CD],[0.19,0.19], color=\"c\", lw=3)\n",
    "ax.plot([meanRanks[23],meanRanks[23]-CD],[0.15,0.15], color=\"0.75\", lw=3)\n",
    "ax.plot([meanRanks[24],meanRanks[24]-CD],[0.10,0.10], color=\"0.10\", lw=3)\n",
    "ax.plot([meanRanks[16],meanRanks[16]-CD],[0.05,0.05], color=\"0\", lw=5)\n",
    "\n",
    "\n",
    "\n",
    "\n",
    "plt.show()"
   ]
  }
 ],
 "metadata": {
  "kernelspec": {
   "display_name": "Python 3",
   "language": "python",
   "name": "python3"
  },
  "language_info": {
   "codemirror_mode": {
    "name": "ipython",
    "version": 3
   },
   "file_extension": ".py",
   "mimetype": "text/x-python",
   "name": "python",
   "nbconvert_exporter": "python",
   "pygments_lexer": "ipython3",
   "version": "3.6.0"
  }
 },
 "nbformat": 4,
 "nbformat_minor": 2
}
