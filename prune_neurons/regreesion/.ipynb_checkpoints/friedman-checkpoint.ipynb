{
 "cells": [
  {
   "cell_type": "markdown",
   "metadata": {
    "collapsed": true
   },
   "source": [
    "# Import needed libraries"
   ]
  },
  {
   "cell_type": "markdown",
   "metadata": {
    "collapsed": true
   },
   "source": [
    "## Import libraries for manipulating the data and statistic"
   ]
  },
  {
   "cell_type": "code",
   "execution_count": 1,
   "metadata": {
    "collapsed": false
   },
   "outputs": [],
   "source": [
    "import numpy as np\n",
    "import pandas as pd\n",
    "import matplotlib.pyplot as plt\n",
    "import scipy.stats as stats\n",
    "from statsmodels.stats.weightstats import  ttest_ind as t_test\n",
    "from scipy.stats import ttest_1samp, wilcoxon, ttest_ind, mannwhitneyu\n",
    "import scipy.special as special\n",
    "import emoji\n",
    "from math import pi\n",
    "from statsmodels.stats.multicomp import pairwise_tukeyhsd, MultiComparison\n",
    "from statsmodels.formula.api import ols\n",
    "import statsmodels.stats.api as sms\n",
    "from scipy.stats import friedmanchisquare, rankdata, norm\n",
    "from scipy.special import gammaln\n",
    "from math import sqrt"
   ]
  },
  {
   "cell_type": "markdown",
   "metadata": {
    "collapsed": true
   },
   "source": [
    "## Import libraries for static ploting"
   ]
  },
  {
   "cell_type": "code",
   "execution_count": 2,
   "metadata": {
    "collapsed": true
   },
   "outputs": [],
   "source": [
    "import matplotlib.pyplot as plt\n",
    "import matplotlib.gridspec as gridspec\n",
    "%matplotlib inline\n",
    "from IPython.display import set_matplotlib_formats\n",
    "set_matplotlib_formats('png', 'pdf')\n",
    "# some nice colors from http://colorbrewer2.org/\n",
    "COLOR1 = '#7fc97f'\n",
    "COLOR2 = '#beaed4'\n",
    "COLOR3 = '#fdc086'\n",
    "COLOR4 = '#ffff99'\n",
    "COLOR5 = '#386cb0'"
   ]
  },
  {
   "cell_type": "markdown",
   "metadata": {
    "collapsed": true
   },
   "source": [
    "# Statring the test and visulize the data"
   ]
  },
  {
   "cell_type": "markdown",
   "metadata": {
    "collapsed": true
   },
   "source": [
    "## Load the data"
   ]
  },
  {
   "cell_type": "code",
   "execution_count": 3,
   "metadata": {
    "collapsed": false
   },
   "outputs": [],
   "source": [
    "datafile = \"./results/result_naomy.xlsx\"\n",
    "df = pd.read_excel(datafile)"
   ]
  },
  {
   "cell_type": "code",
   "execution_count": 4,
   "metadata": {
    "collapsed": false
   },
   "outputs": [],
   "source": [
    "df1 = df.copy()"
   ]
  },
  {
   "cell_type": "markdown",
   "metadata": {},
   "source": [
    "## Using Nonparametric tests\n",
    "\n",
    "I am not sure the data comes from Guassian distribution  and less than 30 sample \n",
    "\n",
    "### alternative to paired t-test when data has an ordinary scale or when not\n",
    "### normally distributed"
   ]
  },
  {
   "cell_type": "markdown",
   "metadata": {},
   "source": [
    "## Start comparining all pruning algorithms"
   ]
  },
  {
   "cell_type": "markdown",
   "metadata": {},
   "source": [
    "### Compute friedman test test by ranks between pruning methods"
   ]
  },
  {
   "cell_type": "code",
   "execution_count": 5,
   "metadata": {
    "collapsed": false
   },
   "outputs": [
    {
     "data": {
      "text/html": [
       "<div>\n",
       "<table border=\"1\" class=\"dataframe\">\n",
       "  <thead>\n",
       "    <tr style=\"text-align: right;\">\n",
       "      <th></th>\n",
       "      <th>Methods</th>\n",
       "      <th>Ada boost</th>\n",
       "      <th>bagging</th>\n",
       "      <th>DT</th>\n",
       "      <th>KNN</th>\n",
       "      <th>Kernel Ridge</th>\n",
       "      <th>LASSO</th>\n",
       "      <th>Ordi. Least Sq</th>\n",
       "      <th>SVM</th>\n",
       "      <th>Xgboost</th>\n",
       "      <th>Bayesian Ridge</th>\n",
       "      <th>NN</th>\n",
       "      <th>UCB1</th>\n",
       "      <th>E Greedy</th>\n",
       "      <th>Decay E Gr.</th>\n",
       "      <th>Softmax</th>\n",
       "      <th>Decay SM</th>\n",
       "      <th>Hedge</th>\n",
       "      <th>EXP3</th>\n",
       "      <th>Tomp. Sampling</th>\n",
       "    </tr>\n",
       "  </thead>\n",
       "  <tbody>\n",
       "    <tr>\n",
       "      <th>0</th>\n",
       "      <td>Airfoil_Self-Noise</td>\n",
       "      <td>0.576318</td>\n",
       "      <td>0.897589</td>\n",
       "      <td>0.782260</td>\n",
       "      <td>0.827584</td>\n",
       "      <td>0.795809</td>\n",
       "      <td>0.540892</td>\n",
       "      <td>0.558556</td>\n",
       "      <td>0.535367</td>\n",
       "      <td>0.835737</td>\n",
       "      <td>0.558382</td>\n",
       "      <td>0.669025</td>\n",
       "      <td>0.6701</td>\n",
       "      <td>0.63</td>\n",
       "      <td>0.67</td>\n",
       "      <td>0.61</td>\n",
       "      <td>0.65</td>\n",
       "      <td>0.66</td>\n",
       "      <td>0.601</td>\n",
       "      <td>0.670</td>\n",
       "    </tr>\n",
       "    <tr>\n",
       "      <th>1</th>\n",
       "      <td>Auto_MPG</td>\n",
       "      <td>0.860166</td>\n",
       "      <td>0.847571</td>\n",
       "      <td>0.827065</td>\n",
       "      <td>0.846142</td>\n",
       "      <td>0.898774</td>\n",
       "      <td>0.826202</td>\n",
       "      <td>0.824825</td>\n",
       "      <td>0.823997</td>\n",
       "      <td>0.889015</td>\n",
       "      <td>0.824553</td>\n",
       "      <td>0.871923</td>\n",
       "      <td>0.8900</td>\n",
       "      <td>0.88</td>\n",
       "      <td>0.88</td>\n",
       "      <td>0.87</td>\n",
       "      <td>0.89</td>\n",
       "      <td>0.87</td>\n",
       "      <td>0.880</td>\n",
       "      <td>0.888</td>\n",
       "    </tr>\n",
       "    <tr>\n",
       "      <th>2</th>\n",
       "      <td>computer_hardware</td>\n",
       "      <td>0.843750</td>\n",
       "      <td>0.897310</td>\n",
       "      <td>0.909935</td>\n",
       "      <td>0.890526</td>\n",
       "      <td>0.807478</td>\n",
       "      <td>0.904368</td>\n",
       "      <td>0.902125</td>\n",
       "      <td>0.937192</td>\n",
       "      <td>0.920265</td>\n",
       "      <td>-0.017883</td>\n",
       "      <td>0.940692</td>\n",
       "      <td>0.9500</td>\n",
       "      <td>0.95</td>\n",
       "      <td>0.95</td>\n",
       "      <td>0.96</td>\n",
       "      <td>0.95</td>\n",
       "      <td>0.95</td>\n",
       "      <td>0.950</td>\n",
       "      <td>0.951</td>\n",
       "    </tr>\n",
       "    <tr>\n",
       "      <th>3</th>\n",
       "      <td>Concrete_Compressive_Strength</td>\n",
       "      <td>0.691765</td>\n",
       "      <td>0.894533</td>\n",
       "      <td>0.754727</td>\n",
       "      <td>0.712071</td>\n",
       "      <td>0.873189</td>\n",
       "      <td>0.637443</td>\n",
       "      <td>0.636898</td>\n",
       "      <td>0.585774</td>\n",
       "      <td>0.903616</td>\n",
       "      <td>0.637510</td>\n",
       "      <td>0.859807</td>\n",
       "      <td>0.8600</td>\n",
       "      <td>0.85</td>\n",
       "      <td>0.85</td>\n",
       "      <td>0.86</td>\n",
       "      <td>0.86</td>\n",
       "      <td>0.84</td>\n",
       "      <td>0.860</td>\n",
       "      <td>0.857</td>\n",
       "    </tr>\n",
       "    <tr>\n",
       "      <th>4</th>\n",
       "      <td>Parkinsons_Telemonitoring</td>\n",
       "      <td>0.554433</td>\n",
       "      <td>0.996657</td>\n",
       "      <td>0.948223</td>\n",
       "      <td>0.873043</td>\n",
       "      <td>0.808362</td>\n",
       "      <td>0.182522</td>\n",
       "      <td>0.202453</td>\n",
       "      <td>0.175652</td>\n",
       "      <td>0.931751</td>\n",
       "      <td>0.204229</td>\n",
       "      <td>0.885860</td>\n",
       "      <td>0.8800</td>\n",
       "      <td>0.87</td>\n",
       "      <td>0.88</td>\n",
       "      <td>0.88</td>\n",
       "      <td>0.83</td>\n",
       "      <td>0.88</td>\n",
       "      <td>0.860</td>\n",
       "      <td>0.879</td>\n",
       "    </tr>\n",
       "    <tr>\n",
       "      <th>5</th>\n",
       "      <td>Boston house</td>\n",
       "      <td>0.653758</td>\n",
       "      <td>0.708991</td>\n",
       "      <td>0.580578</td>\n",
       "      <td>0.526797</td>\n",
       "      <td>0.783276</td>\n",
       "      <td>0.539139</td>\n",
       "      <td>0.589222</td>\n",
       "      <td>0.526312</td>\n",
       "      <td>0.736362</td>\n",
       "      <td>0.581739</td>\n",
       "      <td>0.738885</td>\n",
       "      <td>0.7900</td>\n",
       "      <td>0.77</td>\n",
       "      <td>0.75</td>\n",
       "      <td>0.75</td>\n",
       "      <td>0.71</td>\n",
       "      <td>0.76</td>\n",
       "      <td>0.660</td>\n",
       "      <td>0.779</td>\n",
       "    </tr>\n",
       "  </tbody>\n",
       "</table>\n",
       "</div>"
      ],
      "text/plain": [
       "                         Methods  Ada boost   bagging        DT       KNN  \\\n",
       "0             Airfoil_Self-Noise   0.576318  0.897589  0.782260  0.827584   \n",
       "1                       Auto_MPG   0.860166  0.847571  0.827065  0.846142   \n",
       "2              computer_hardware   0.843750  0.897310  0.909935  0.890526   \n",
       "3  Concrete_Compressive_Strength   0.691765  0.894533  0.754727  0.712071   \n",
       "4      Parkinsons_Telemonitoring   0.554433  0.996657  0.948223  0.873043   \n",
       "5                   Boston house   0.653758  0.708991  0.580578  0.526797   \n",
       "\n",
       "   Kernel Ridge     LASSO  Ordi. Least Sq       SVM   Xgboost  Bayesian Ridge  \\\n",
       "0      0.795809  0.540892        0.558556  0.535367  0.835737        0.558382   \n",
       "1      0.898774  0.826202        0.824825  0.823997  0.889015        0.824553   \n",
       "2      0.807478  0.904368        0.902125  0.937192  0.920265       -0.017883   \n",
       "3      0.873189  0.637443        0.636898  0.585774  0.903616        0.637510   \n",
       "4      0.808362  0.182522        0.202453  0.175652  0.931751        0.204229   \n",
       "5      0.783276  0.539139        0.589222  0.526312  0.736362        0.581739   \n",
       "\n",
       "         NN    UCB1  E Greedy  Decay E Gr.  Softmax  Decay SM  Hedge   EXP3  \\\n",
       "0  0.669025  0.6701      0.63         0.67     0.61      0.65   0.66  0.601   \n",
       "1  0.871923  0.8900      0.88         0.88     0.87      0.89   0.87  0.880   \n",
       "2  0.940692  0.9500      0.95         0.95     0.96      0.95   0.95  0.950   \n",
       "3  0.859807  0.8600      0.85         0.85     0.86      0.86   0.84  0.860   \n",
       "4  0.885860  0.8800      0.87         0.88     0.88      0.83   0.88  0.860   \n",
       "5  0.738885  0.7900      0.77         0.75     0.75      0.71   0.76  0.660   \n",
       "\n",
       "   Tomp. Sampling  \n",
       "0           0.670  \n",
       "1           0.888  \n",
       "2           0.951  \n",
       "3           0.857  \n",
       "4           0.879  \n",
       "5           0.779  "
      ]
     },
     "execution_count": 5,
     "metadata": {},
     "output_type": "execute_result"
    }
   ],
   "source": [
    "df1"
   ]
  },
  {
   "cell_type": "code",
   "execution_count": 6,
   "metadata": {
    "collapsed": false
   },
   "outputs": [],
   "source": [
    "data =  np.stack((df1['Ada boost'], df1['bagging'], df1['DT'], \n",
    "                  df1['KNN'], df1['Kernel Ridge'], \n",
    "               df1['LASSO'],df1['Ordi. Least Sq'], df1['SVM'], \n",
    "               df1['Xgboost'], df1['Bayesian Ridge'], \n",
    "               df1['NN'], df1['UCB1'],df1['E Greedy'], df1['Decay E Gr.'],\n",
    "               df1['Softmax'], df1['Decay SM'], df1['Tomp. Sampling'],\n",
    "               df1['Hedge'], df1['EXP3']))"
   ]
  },
  {
   "cell_type": "code",
   "execution_count": 7,
   "metadata": {
    "collapsed": false
   },
   "outputs": [
    {
     "name": "stdout",
     "output_type": "stream",
     "text": [
      "FriedmanchisquareResult(statistic=62.697166469893723, pvalue=7.4463726616538139e-07)\n"
     ]
    }
   ],
   "source": [
    "print(friedmanchisquare(df1['Ada boost'], df1['bagging'], df1['DT'], \n",
    "                  df1['KNN'], df1['Kernel Ridge'], \n",
    "               df1['LASSO'],df1['Ordi. Least Sq'], df1['SVM'], \n",
    "               df1['Xgboost'], df1['Bayesian Ridge'], \n",
    "               df1['NN'], df1['UCB1'],df1['E Greedy'], df1['Decay E Gr.'],\n",
    "               df1['Softmax'], df1['Decay SM'], df1['Tomp. Sampling'],\n",
    "               df1['Hedge'], df1['EXP3']))"
   ]
  },
  {
   "cell_type": "code",
   "execution_count": 8,
   "metadata": {
    "collapsed": false
   },
   "outputs": [],
   "source": [
    "exec(open(\"nemopy.py\").read())\n",
    "nemenyi = NemenyiTestPostHoc(data)\n",
    "meanRanks, pValues = nemenyi.do()"
   ]
  },
  {
   "cell_type": "code",
   "execution_count": 9,
   "metadata": {
    "collapsed": true
   },
   "outputs": [],
   "source": [
    "lst = list(df1.columns.values)\n",
    "lst.remove('Methods')"
   ]
  },
  {
   "cell_type": "code",
   "execution_count": 10,
   "metadata": {
    "collapsed": false
   },
   "outputs": [
    {
     "data": {
      "text/plain": [
       "19"
      ]
     },
     "execution_count": 10,
     "metadata": {},
     "output_type": "execute_result"
    }
   ],
   "source": [
    "len(lst)"
   ]
  },
  {
   "cell_type": "code",
   "execution_count": 11,
   "metadata": {
    "collapsed": false
   },
   "outputs": [
    {
     "data": {
      "text/plain": [
       "20"
      ]
     },
     "execution_count": 11,
     "metadata": {},
     "output_type": "execute_result"
    }
   ],
   "source": [
    "df1.iloc[1].size"
   ]
  },
  {
   "cell_type": "code",
   "execution_count": 25,
   "metadata": {
    "collapsed": false
   },
   "outputs": [],
   "source": [
    "q = 3.10# pvalue = 0.05 and number of datasets 3.426041249\n",
    "#q = 3.029694463 # pvalue = 0.1\n",
    "N = (df1['NN'].size)\n",
    "k = (df1.iloc[1].size)-1"
   ]
  },
  {
   "cell_type": "code",
   "execution_count": 26,
   "metadata": {
    "collapsed": false
   },
   "outputs": [],
   "source": [
    "CD = q * sqrt(k*(k+1)/(6.0*N))"
   ]
  },
  {
   "cell_type": "code",
   "execution_count": 27,
   "metadata": {
    "collapsed": false
   },
   "outputs": [
    {
     "data": {
      "text/plain": [
       "10.071687489635929"
      ]
     },
     "execution_count": 27,
     "metadata": {},
     "output_type": "execute_result"
    }
   ],
   "source": [
    "CD"
   ]
  },
  {
   "cell_type": "code",
   "execution_count": 28,
   "metadata": {
    "collapsed": false
   },
   "outputs": [
    {
     "data": {
      "text/plain": [
       "['Ada boost',\n",
       " 'bagging',\n",
       " 'DT',\n",
       " 'KNN',\n",
       " 'Kernel Ridge',\n",
       " 'LASSO',\n",
       " 'Ordi. Least Sq',\n",
       " 'SVM',\n",
       " 'Xgboost',\n",
       " 'Bayesian Ridge',\n",
       " 'NN',\n",
       " 'UCB1',\n",
       " 'E Greedy',\n",
       " 'Decay E Gr.',\n",
       " 'Softmax',\n",
       " 'Decay SM',\n",
       " 'Hedge',\n",
       " 'EXP3',\n",
       " 'Tomp. Sampling']"
      ]
     },
     "execution_count": 28,
     "metadata": {},
     "output_type": "execute_result"
    }
   ],
   "source": [
    "lst"
   ]
  },
  {
   "cell_type": "code",
   "execution_count": 29,
   "metadata": {
    "collapsed": false
   },
   "outputs": [
    {
     "name": "stdout",
     "output_type": "stream",
     "text": [
      "\n",
      " Ada boost 5.5\n",
      "\n",
      " bagging 12.8333333333\n",
      "\n",
      " DT 9.5\n",
      "\n",
      " KNN 7.5\n",
      "\n",
      " Kernel Ridge 13.0\n",
      "\n",
      " LASSO 3.5\n",
      "\n",
      " Ordi. Least Sq 4.0\n",
      "\n",
      " SVM 2.5\n",
      "\n",
      " Xgboost 15.0\n",
      "\n",
      " Bayesian Ridge 3.16666666667\n",
      "\n",
      " NN 12.1666666667\n",
      "\n",
      " UCB1 15.5\n",
      "\n",
      " E Greedy 11.6666666667\n",
      "\n",
      " Decay E Gr. 12.75\n",
      "\n",
      " Softmax 12.8333333333\n",
      "\n",
      " Decay SM 12.0833333333\n",
      "\n",
      " Hedge 14.0833333333\n",
      "\n",
      " EXP3 11.75\n",
      "\n",
      " Tomp. Sampling 10.6666666667\n"
     ]
    }
   ],
   "source": [
    "new_model_pairs = []\n",
    "for m1,m2 in zip(meanRanks,lst): \n",
    "    print('\\n',m2, m1, )"
   ]
  },
  {
   "cell_type": "code",
   "execution_count": 70,
   "metadata": {
    "collapsed": false
   },
   "outputs": [
    {
     "data": {
      "application/pdf": "[encoded data removed]",
      "image/png": "[encoded data removed]",
      "text/plain": [
       "<matplotlib.figure.Figure at 0x10f964eb8>"
      ]
     },
     "metadata": {},
     "output_type": "display_data"
    }
   ],
   "source": [
    "# input data\n",
    "cd = CD\n",
    "limits=(16,-1)\n",
    "fig, ax = plt.subplots(figsize=(18,10))\n",
    "plt.subplots_adjust(left=0.2, right=0.8)\n",
    "\n",
    "# set up plot\n",
    "ax.set_xlim(limits)\n",
    "ax.set_ylim(0,1)\n",
    "ax.spines['top'].set_position(('axes', 0.6))\n",
    "#ax.xaxis.tick_top()\n",
    "ax.xaxis.set_ticks_position('top')\n",
    "ax.yaxis.set_visible(False)\n",
    "for pos in [\"bottom\", \"left\", \"right\"]:\n",
    "    ax.spines[pos].set_visible(False)\n",
    "\n",
    "# CD bar\n",
    "ax.plot([limits[0],limits[0]-cd], [.9,.9], color=\"k\")\n",
    "ax.plot([limits[0],limits[0]], [.9-0.03,.9+0.03], color=\"k\")\n",
    "ax.plot([limits[0]-cd,limits[0]-cd], [.9-0.03,.9+0.03], color=\"k\") \n",
    "ax.text(limits[0]-cd/2., 0.92, \"Critical Difference (CD)\", ha=\"center\", va=\"bottom\") \n",
    "\n",
    "# annotations\n",
    "bbox_props = dict(boxstyle=\"square,pad=0.3\", fc=\"w\", ec=\"k\", lw=0.72)\n",
    "arrowprops=dict(arrowstyle=\"-\",connectionstyle=\"angle,angleA=0,angleB=90\")\n",
    "kw = dict(xycoords='data',textcoords=\"axes fraction\",\n",
    "          arrowprops=arrowprops, bbox=bbox_props, va=\"center\")\n",
    "\n",
    "ax.annotate(\"UCB1\", xy=(meanRanks[11], 0.6), xytext=(0,-0.5),ha=\"right\",  **kw, color=\"r\")\n",
    "ax.annotate(\"Xgboost \", xy=(meanRanks[8], 0.6), xytext=(0,-0.4),ha=\"right\",  **kw, color=\"k\")\n",
    "ax.annotate(\"Hedge\", xy=(meanRanks[16], 0.6), xytext=(0,-0.3),ha=\"right\",  **kw, color=\"g\")\n",
    "ax.annotate(\"Kernel Ridge\", xy=(meanRanks[4], 0.6), xytext=(0,-0.2),ha=\"right\",  **kw, color=\"k\")\n",
    "ax.annotate(\"bagging\", xy=(meanRanks[1], 0.6), xytext=(0,-0.1),ha=\"right\",  **kw, color=\"k\")\n",
    "ax.annotate(\"Softmax\", xy=(meanRanks[14], 0.6), xytext=(0,0),ha=\"right\",  **kw, color=\"b\")\n",
    "ax.annotate(\"Decay E Gr.\", xy=(meanRanks[13], 0.6), xytext=(0,0.1),ha=\"right\",  **kw, color=\"y\")\n",
    "ax.annotate(\"NN\", xy=(meanRanks[10], 0.6), xytext=(0,0.2),ha=\"right\",  **kw, color=\"m\")\n",
    "ax.annotate(\"Decay SM\", xy=(meanRanks[15], 0.6), xytext=(0,0.3),ha=\"right\",  **kw, color=\"c\")\n",
    "ax.annotate(\"EXP3\", xy=(meanRanks[17], 0.6), xytext=(0,0.4),ha=\"right\",  **kw, color=\"0.75\")\n",
    "\n",
    "\n",
    "ax.annotate(\"svm\", xy=(meanRanks[7], 0.6), xytext=(1,-0.4),ha=\"left\",  **kw, color=\"k\")\n",
    "ax.annotate(\"Bayesian Ridge\", xy=(meanRanks[9], 0.6), xytext=(1,-0.3),ha=\"left\",  **kw, color=\"k\")\n",
    "ax.annotate(\"LASSO\", xy=(meanRanks[5], 0.6), xytext=(1,-0.2),ha=\"left\",  **kw, color=\"k\")\n",
    "ax.annotate(\"Ordi. Least Sq\", xy=(meanRanks[6], 0.6), xytext=(1,-0.1),ha=\"left\",  **kw, color=\"k\")\n",
    "ax.annotate(\"Ada boost\", xy=(meanRanks[0], 0.6), xytext=(1,0),ha=\"left\",  **kw, color=\"k\")\n",
    "ax.annotate(\"KNN\", xy=(meanRanks[3], 0.6), xytext=(1,0.1),ha=\"left\",  **kw, color=\"k\")\n",
    "ax.annotate(\"DT\", xy=(meanRanks[2], 0.6), xytext=(1,0.2),ha=\"left\",  **kw, color=\"k\")\n",
    "ax.annotate(\"Tomp. Sampling\", xy=(meanRanks[18], 0.6), xytext=(1,0.3),ha=\"right\",  **kw, color=\"g\")\n",
    "ax.annotate(\"E Greedy\", xy=(meanRanks[12], 0.6), xytext=(1,0.4),ha=\"right\",  **kw, color=\"r\")\n",
    "\n",
    "#bars\n",
    "ax.plot([meanRanks[11],meanRanks[11]-CD],[0.58,0.58], color=\"r\", lw=3)\n",
    "ax.plot([meanRanks[16],meanRanks[16]-CD],[0.56,0.56], color=\"g\", lw=3)\n",
    "ax.plot([meanRanks[14],meanRanks[14]-CD],[0.54,0.54], color=\"b\", lw=3)\n",
    "ax.plot([meanRanks[13],meanRanks[13]-CD],[0.52,0.52], color=\"y\", lw=3)\n",
    "ax.plot([meanRanks[10],meanRanks[10]-CD],[0.5,0.5], color=\"m\", lw=3)\n",
    "ax.plot([meanRanks[15],meanRanks[15]-CD],[0.48,0.48], color=\"c\", lw=3)\n",
    "ax.plot([meanRanks[17],meanRanks[17]-CD],[0.46,0.46], color=\"0.75\", lw=3)\n",
    "ax.plot([meanRanks[12],meanRanks[12]-CD],[0.44,0.44], color=\"r\", lw=3)\n",
    "ax.plot([meanRanks[18],meanRanks[18]-CD],[0.42,0.42], color=\"g\", lw=3)\n",
    "\n",
    "\n",
    "\n",
    "\n",
    "plt.show()"
   ]
  },
  {
   "cell_type": "code",
   "execution_count": null,
   "metadata": {
    "collapsed": true
   },
   "outputs": [],
   "source": []
  }
 ],
 "metadata": {
  "kernelspec": {
   "display_name": "Python 3",
   "language": "python",
   "name": "python3"
  },
  "language_info": {
   "codemirror_mode": {
    "name": "ipython",
    "version": 3
   },
   "file_extension": ".py",
   "mimetype": "text/x-python",
   "name": "python",
   "nbconvert_exporter": "python",
   "pygments_lexer": "ipython3",
   "version": "3.6.0"
  }
 },
 "nbformat": 4,
 "nbformat_minor": 2
}
