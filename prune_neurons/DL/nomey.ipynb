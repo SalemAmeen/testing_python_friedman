{
 "cells": [
  {
   "cell_type": "markdown",
   "metadata": {
    "collapsed": true
   },
   "source": [
    "# Import needed libraries"
   ]
  },
  {
   "cell_type": "markdown",
   "metadata": {
    "collapsed": true
   },
   "source": [
    "## Import libraries for manipulating the data and statistic"
   ]
  },
  {
   "cell_type": "code",
   "execution_count": 1,
   "metadata": {
    "collapsed": false
   },
   "outputs": [],
   "source": [
    "import numpy as np\n",
    "import pandas as pd\n",
    "import matplotlib.pyplot as plt\n",
    "import scipy.stats as stats\n",
    "from statsmodels.stats.weightstats import  ttest_ind as t_test\n",
    "from scipy.stats import ttest_1samp, wilcoxon, ttest_ind, mannwhitneyu\n",
    "import scipy.special as special\n",
    "import emoji\n",
    "from math import pi\n",
    "from statsmodels.stats.multicomp import pairwise_tukeyhsd, MultiComparison\n",
    "from statsmodels.formula.api import ols\n",
    "import statsmodels.stats.api as sms\n",
    "from scipy.stats import friedmanchisquare, rankdata, norm\n",
    "from scipy.special import gammaln\n",
    "from math import sqrt"
   ]
  },
  {
   "cell_type": "markdown",
   "metadata": {
    "collapsed": true
   },
   "source": [
    "## Import libraries for static ploting"
   ]
  },
  {
   "cell_type": "code",
   "execution_count": 2,
   "metadata": {
    "collapsed": true
   },
   "outputs": [],
   "source": [
    "import matplotlib.pyplot as plt\n",
    "import matplotlib.gridspec as gridspec\n",
    "%matplotlib inline\n",
    "from IPython.display import set_matplotlib_formats\n",
    "set_matplotlib_formats('png', 'pdf')\n",
    "# some nice colors from http://colorbrewer2.org/\n",
    "COLOR1 = '#7fc97f'\n",
    "COLOR2 = '#beaed4'\n",
    "COLOR3 = '#fdc086'\n",
    "COLOR4 = '#ffff99'\n",
    "COLOR5 = '#386cb0'"
   ]
  },
  {
   "cell_type": "markdown",
   "metadata": {
    "collapsed": true
   },
   "source": [
    "# Statring the test and visulize the data"
   ]
  },
  {
   "cell_type": "markdown",
   "metadata": {
    "collapsed": true
   },
   "source": [
    "## Load the data for pruning the weights using random expoloration"
   ]
  },
  {
   "cell_type": "code",
   "execution_count": 3,
   "metadata": {
    "collapsed": false
   },
   "outputs": [
    {
     "data": {
      "text/html": [
       "<div>\n",
       "<table border=\"1\" class=\"dataframe\">\n",
       "  <thead>\n",
       "    <tr style=\"text-align: right;\">\n",
       "      <th></th>\n",
       "      <th>Dataset</th>\n",
       "      <th>Model</th>\n",
       "      <th>E.Greedy</th>\n",
       "      <th>WSLS</th>\n",
       "      <th>UCB1</th>\n",
       "      <th>KLUCB</th>\n",
       "      <th>BayUCB</th>\n",
       "      <th>OBD</th>\n",
       "      <th>OBS</th>\n",
       "      <th>Thom. Sam</th>\n",
       "      <th>Magnitude</th>\n",
       "      <th>random</th>\n",
       "    </tr>\n",
       "  </thead>\n",
       "  <tbody>\n",
       "    <tr>\n",
       "      <th>0</th>\n",
       "      <td>banknote authentication</td>\n",
       "      <td>0.86</td>\n",
       "      <td>0.86</td>\n",
       "      <td>0.89</td>\n",
       "      <td>0.86</td>\n",
       "      <td>0.86</td>\n",
       "      <td>0.86</td>\n",
       "      <td>0.89</td>\n",
       "      <td>0.87</td>\n",
       "      <td>0.86</td>\n",
       "      <td>4.08</td>\n",
       "      <td>5.98</td>\n",
       "    </tr>\n",
       "    <tr>\n",
       "      <th>1</th>\n",
       "      <td>Blood Tra. Service Centre</td>\n",
       "      <td>0.94</td>\n",
       "      <td>0.93</td>\n",
       "      <td>1.05</td>\n",
       "      <td>0.93</td>\n",
       "      <td>0.93</td>\n",
       "      <td>0.93</td>\n",
       "      <td>0.93</td>\n",
       "      <td>0.93</td>\n",
       "      <td>0.93</td>\n",
       "      <td>1.29</td>\n",
       "      <td>0.93</td>\n",
       "    </tr>\n",
       "    <tr>\n",
       "      <th>2</th>\n",
       "      <td>Credit Approval</td>\n",
       "      <td>0.97</td>\n",
       "      <td>0.95</td>\n",
       "      <td>0.93</td>\n",
       "      <td>0.93</td>\n",
       "      <td>0.96</td>\n",
       "      <td>0.96</td>\n",
       "      <td>1.98</td>\n",
       "      <td>9.47</td>\n",
       "      <td>1.63</td>\n",
       "      <td>3.40</td>\n",
       "      <td>23.04</td>\n",
       "    </tr>\n",
       "    <tr>\n",
       "      <th>3</th>\n",
       "      <td>Haberman's Survival</td>\n",
       "      <td>0.94</td>\n",
       "      <td>0.93</td>\n",
       "      <td>0.94</td>\n",
       "      <td>0.93</td>\n",
       "      <td>0.93</td>\n",
       "      <td>0.93</td>\n",
       "      <td>0.93</td>\n",
       "      <td>0.93</td>\n",
       "      <td>0.93</td>\n",
       "      <td>1.48</td>\n",
       "      <td>1.50</td>\n",
       "    </tr>\n",
       "    <tr>\n",
       "      <th>4</th>\n",
       "      <td>Liver Disorders</td>\n",
       "      <td>0.95</td>\n",
       "      <td>0.95</td>\n",
       "      <td>0.96</td>\n",
       "      <td>0.95</td>\n",
       "      <td>0.95</td>\n",
       "      <td>0.95</td>\n",
       "      <td>0.95</td>\n",
       "      <td>1.70</td>\n",
       "      <td>0.95</td>\n",
       "      <td>1.47</td>\n",
       "      <td>1.00</td>\n",
       "    </tr>\n",
       "    <tr>\n",
       "      <th>5</th>\n",
       "      <td>MAGIC Gamma Tele.</td>\n",
       "      <td>0.91</td>\n",
       "      <td>0.95</td>\n",
       "      <td>1.17</td>\n",
       "      <td>0.91</td>\n",
       "      <td>0.91</td>\n",
       "      <td>0.91</td>\n",
       "      <td>0.92</td>\n",
       "      <td>0.97</td>\n",
       "      <td>0.91</td>\n",
       "      <td>3.34</td>\n",
       "      <td>1.28</td>\n",
       "    </tr>\n",
       "    <tr>\n",
       "      <th>6</th>\n",
       "      <td>Mammographic Mass</td>\n",
       "      <td>0.94</td>\n",
       "      <td>0.94</td>\n",
       "      <td>0.94</td>\n",
       "      <td>0.94</td>\n",
       "      <td>0.94</td>\n",
       "      <td>0.94</td>\n",
       "      <td>0.94</td>\n",
       "      <td>0.94</td>\n",
       "      <td>0.94</td>\n",
       "      <td>3.44</td>\n",
       "      <td>0.98</td>\n",
       "    </tr>\n",
       "    <tr>\n",
       "      <th>7</th>\n",
       "      <td>MONK's Problems</td>\n",
       "      <td>0.95</td>\n",
       "      <td>0.97</td>\n",
       "      <td>1.14</td>\n",
       "      <td>0.95</td>\n",
       "      <td>0.95</td>\n",
       "      <td>0.95</td>\n",
       "      <td>0.95</td>\n",
       "      <td>6.13</td>\n",
       "      <td>0.95</td>\n",
       "      <td>1.00</td>\n",
       "      <td>0.98</td>\n",
       "    </tr>\n",
       "    <tr>\n",
       "      <th>8</th>\n",
       "      <td>Connectionist Bench</td>\n",
       "      <td>0.97</td>\n",
       "      <td>1.14</td>\n",
       "      <td>0.97</td>\n",
       "      <td>0.97</td>\n",
       "      <td>0.97</td>\n",
       "      <td>0.97</td>\n",
       "      <td>0.97</td>\n",
       "      <td>0.97</td>\n",
       "      <td>1.92</td>\n",
       "      <td>1.01</td>\n",
       "      <td>1.01</td>\n",
       "    </tr>\n",
       "    <tr>\n",
       "      <th>9</th>\n",
       "      <td>Spambase</td>\n",
       "      <td>0.93</td>\n",
       "      <td>0.95</td>\n",
       "      <td>0.94</td>\n",
       "      <td>0.94</td>\n",
       "      <td>0.94</td>\n",
       "      <td>0.94</td>\n",
       "      <td>0.95</td>\n",
       "      <td>5.22</td>\n",
       "      <td>0.94</td>\n",
       "      <td>2.52</td>\n",
       "      <td>5.86</td>\n",
       "    </tr>\n",
       "    <tr>\n",
       "      <th>10</th>\n",
       "      <td>SPECTF Heart</td>\n",
       "      <td>0.91</td>\n",
       "      <td>0.92</td>\n",
       "      <td>0.91</td>\n",
       "      <td>0.91</td>\n",
       "      <td>0.91</td>\n",
       "      <td>0.91</td>\n",
       "      <td>0.91</td>\n",
       "      <td>0.99</td>\n",
       "      <td>0.93</td>\n",
       "      <td>13.10</td>\n",
       "      <td>0.91</td>\n",
       "    </tr>\n",
       "    <tr>\n",
       "      <th>11</th>\n",
       "      <td>Tic-Tac-Toe Endgame</td>\n",
       "      <td>0.91</td>\n",
       "      <td>0.91</td>\n",
       "      <td>2.43</td>\n",
       "      <td>0.91</td>\n",
       "      <td>0.91</td>\n",
       "      <td>0.91</td>\n",
       "      <td>0.91</td>\n",
       "      <td>0.92</td>\n",
       "      <td>0.91</td>\n",
       "      <td>22.15</td>\n",
       "      <td>12.77</td>\n",
       "    </tr>\n",
       "  </tbody>\n",
       "</table>\n",
       "</div>"
      ],
      "text/plain": [
       "                      Dataset  Model  E.Greedy  WSLS  UCB1  KLUCB  BayUCB  \\\n",
       "0     banknote authentication   0.86      0.86  0.89  0.86   0.86    0.86   \n",
       "1   Blood Tra. Service Centre   0.94      0.93  1.05  0.93   0.93    0.93   \n",
       "2             Credit Approval   0.97      0.95  0.93  0.93   0.96    0.96   \n",
       "3         Haberman's Survival   0.94      0.93  0.94  0.93   0.93    0.93   \n",
       "4             Liver Disorders   0.95      0.95  0.96  0.95   0.95    0.95   \n",
       "5           MAGIC Gamma Tele.   0.91      0.95  1.17  0.91   0.91    0.91   \n",
       "6           Mammographic Mass   0.94      0.94  0.94  0.94   0.94    0.94   \n",
       "7             MONK's Problems   0.95      0.97  1.14  0.95   0.95    0.95   \n",
       "8         Connectionist Bench   0.97      1.14  0.97  0.97   0.97    0.97   \n",
       "9                    Spambase   0.93      0.95  0.94  0.94   0.94    0.94   \n",
       "10               SPECTF Heart   0.91      0.92  0.91  0.91   0.91    0.91   \n",
       "11        Tic-Tac-Toe Endgame   0.91      0.91  2.43  0.91   0.91    0.91   \n",
       "\n",
       "     OBD   OBS  Thom. Sam  Magnitude  random  \n",
       "0   0.89  0.87       0.86       4.08    5.98  \n",
       "1   0.93  0.93       0.93       1.29    0.93  \n",
       "2   1.98  9.47       1.63       3.40   23.04  \n",
       "3   0.93  0.93       0.93       1.48    1.50  \n",
       "4   0.95  1.70       0.95       1.47    1.00  \n",
       "5   0.92  0.97       0.91       3.34    1.28  \n",
       "6   0.94  0.94       0.94       3.44    0.98  \n",
       "7   0.95  6.13       0.95       1.00    0.98  \n",
       "8   0.97  0.97       1.92       1.01    1.01  \n",
       "9   0.95  5.22       0.94       2.52    5.86  \n",
       "10  0.91  0.99       0.93      13.10    0.91  \n",
       "11  0.91  0.92       0.91      22.15   12.77  "
      ]
     },
     "execution_count": 3,
     "metadata": {},
     "output_type": "execute_result"
    }
   ],
   "source": [
    "datafile = \"all.csv\"\n",
    "datafileLeNet = \"LecunPruningWeights.csv\"\n",
    "df1 = pd.read_csv(datafile)\n",
    "dfLcun = pd.read_csv(datafileLeNet)\n",
    "df1"
   ]
  },
  {
   "cell_type": "code",
   "execution_count": 4,
   "metadata": {
    "collapsed": false
   },
   "outputs": [
    {
     "data": {
      "text/html": [
       "<div>\n",
       "<table border=\"1\" class=\"dataframe\">\n",
       "  <thead>\n",
       "    <tr style=\"text-align: right;\">\n",
       "      <th></th>\n",
       "      <th>Layer</th>\n",
       "      <th>Model</th>\n",
       "      <th>TS Prune half the weights</th>\n",
       "      <th>EG Prune half the weights</th>\n",
       "      <th>UCB1 Prune half the weights</th>\n",
       "    </tr>\n",
       "  </thead>\n",
       "  <tbody>\n",
       "    <tr>\n",
       "      <th>0</th>\n",
       "      <td>FC</td>\n",
       "      <td>0.9906</td>\n",
       "      <td>0.993</td>\n",
       "      <td>0.9908</td>\n",
       "      <td>0.994</td>\n",
       "    </tr>\n",
       "    <tr>\n",
       "      <th>1</th>\n",
       "      <td>Conv</td>\n",
       "      <td>0.9906</td>\n",
       "      <td>0.991</td>\n",
       "      <td>0.9907</td>\n",
       "      <td>0.992</td>\n",
       "    </tr>\n",
       "  </tbody>\n",
       "</table>\n",
       "</div>"
      ],
      "text/plain": [
       "  Layer   Model  TS Prune half the weights  EG Prune half the weights  \\\n",
       "0    FC  0.9906                      0.993                     0.9908   \n",
       "1  Conv  0.9906                      0.991                     0.9907   \n",
       "\n",
       "   UCB1 Prune half the weights  \n",
       "0                        0.994  \n",
       "1                        0.992  "
      ]
     },
     "execution_count": 4,
     "metadata": {},
     "output_type": "execute_result"
    }
   ],
   "source": [
    "dfLcun"
   ]
  },
  {
   "cell_type": "markdown",
   "metadata": {},
   "source": [
    "## Using Nonparametric tests\n",
    "\n",
    "I am not sure the data comes from Guassian distribution  and less than 30 sample \n",
    "\n",
    "### alternative to paired t-test when data has an ordinary scale or when not\n",
    "### normally distributed"
   ]
  },
  {
   "cell_type": "markdown",
   "metadata": {},
   "source": [
    "## Start comparining all pruning algorithms"
   ]
  },
  {
   "cell_type": "markdown",
   "metadata": {},
   "source": [
    "### Compute friedman test test by ranks between pruning methods"
   ]
  },
  {
   "cell_type": "code",
   "execution_count": 5,
   "metadata": {
    "collapsed": true
   },
   "outputs": [],
   "source": [
    "data =  np.stack((df1['Model'], df1['E.Greedy'],df1['WSLS'],df1['UCB1'],\n",
    "                 df1['KLUCB'],df1['BayUCB'],df1['OBD'],df1['OBS'],\n",
    "                 df1['Thom. Sam'],df1['Magnitude'],df1['random']))"
   ]
  },
  {
   "cell_type": "code",
   "execution_count": 6,
   "metadata": {
    "collapsed": true
   },
   "outputs": [],
   "source": [
    "df_copy = df1.copy()\n",
    "del df_copy['Dataset']\n",
    "data =  np.stack([df_copy[col] for col in df_copy.columns])"
   ]
  },
  {
   "cell_type": "code",
   "execution_count": 7,
   "metadata": {
    "collapsed": false
   },
   "outputs": [
    {
     "name": "stdout",
     "output_type": "stream",
     "text": [
      "FriedmanchisquareResult(statistic=63.759803921568682, pvalue=6.9943841457143223e-10)\n"
     ]
    }
   ],
   "source": [
    "print(friedmanchisquare(data[0], data[1], data[2], data[3], data[4], data[5], data[6],data[7],\n",
    "                            data[8],data[9],data[10]))"
   ]
  },
  {
   "cell_type": "code",
   "execution_count": 8,
   "metadata": {
    "collapsed": false
   },
   "outputs": [],
   "source": [
    "exec(open(\"nemopy.py\").read())\n",
    "nemenyi = NemenyiTestPostHoc(data)\n",
    "meanRanks, pValues = nemenyi.do()"
   ]
  },
  {
   "cell_type": "code",
   "execution_count": 9,
   "metadata": {
    "collapsed": true
   },
   "outputs": [],
   "source": [
    "lst = list(df1.columns.values)\n",
    "lst.remove('Dataset')"
   ]
  },
  {
   "cell_type": "code",
   "execution_count": 10,
   "metadata": {
    "collapsed": false
   },
   "outputs": [
    {
     "data": {
      "text/plain": [
       "11"
      ]
     },
     "execution_count": 10,
     "metadata": {},
     "output_type": "execute_result"
    }
   ],
   "source": [
    "len(lst)"
   ]
  },
  {
   "cell_type": "code",
   "execution_count": 11,
   "metadata": {
    "collapsed": false
   },
   "outputs": [
    {
     "data": {
      "text/plain": [
       "12"
      ]
     },
     "execution_count": 11,
     "metadata": {},
     "output_type": "execute_result"
    }
   ],
   "source": [
    "df1.iloc[1].size"
   ]
  },
  {
   "cell_type": "code",
   "execution_count": 12,
   "metadata": {
    "collapsed": false
   },
   "outputs": [],
   "source": [
    "q = 3.268003591 # pvalue = 0.05 and number of datasets\n",
    "#q = 3.029694463 # pvalue = 0.1\n",
    "N = (df1['Model'].size)\n",
    "k = (df1.iloc[1].size)-1"
   ]
  },
  {
   "cell_type": "code",
   "execution_count": 13,
   "metadata": {
    "collapsed": false
   },
   "outputs": [],
   "source": [
    "CD = q * sqrt(k*(k+1)/(6.0*N))"
   ]
  },
  {
   "cell_type": "code",
   "execution_count": 14,
   "metadata": {
    "collapsed": false
   },
   "outputs": [
    {
     "data": {
      "text/plain": [
       "4.424897779962038"
      ]
     },
     "execution_count": 14,
     "metadata": {},
     "output_type": "execute_result"
    }
   ],
   "source": [
    "CD"
   ]
  },
  {
   "cell_type": "code",
   "execution_count": 15,
   "metadata": {
    "collapsed": false
   },
   "outputs": [
    {
     "data": {
      "text/plain": [
       "['Model',\n",
       " 'E.Greedy',\n",
       " 'WSLS',\n",
       " 'UCB1',\n",
       " 'KLUCB',\n",
       " 'BayUCB',\n",
       " 'OBD',\n",
       " 'OBS',\n",
       " 'Thom. Sam',\n",
       " 'Magnitude',\n",
       " 'random']"
      ]
     },
     "execution_count": 15,
     "metadata": {},
     "output_type": "execute_result"
    }
   ],
   "source": [
    "lst"
   ]
  },
  {
   "cell_type": "code",
   "execution_count": 16,
   "metadata": {
    "collapsed": false
   },
   "outputs": [
    {
     "name": "stdout",
     "output_type": "stream",
     "text": [
      "\n",
      " Model 4.625\n",
      "\n",
      " E.Greedy 5.625\n",
      "\n",
      " WSLS 6.79166666667\n",
      "\n",
      " UCB1 3.75\n",
      "\n",
      " KLUCB 4.0\n",
      "\n",
      " BayUCB 4.0\n",
      "\n",
      " OBD 5.25\n",
      "\n",
      " OBS 7.70833333333\n",
      "\n",
      " Thom. Sam 5.20833333333\n",
      "\n",
      " Magnitude 10.0416666667\n",
      "\n",
      " random 9.0\n"
     ]
    }
   ],
   "source": [
    "new_model_pairs = []\n",
    "for m1,m2 in zip(meanRanks,lst): \n",
    "    print('\\n',m2, m1, )"
   ]
  },
  {
   "cell_type": "code",
   "execution_count": 17,
   "metadata": {
    "collapsed": false
   },
   "outputs": [
    {
     "data": {
      "application/pdf": "[encoded data removed]",
      "image/png": "[encoded data removed]",
      "text/plain": [
       "<matplotlib.figure.Figure at 0x10c9b38d0>"
      ]
     },
     "metadata": {},
     "output_type": "display_data"
    }
   ],
   "source": [
    "# input data\n",
    "cd = CD\n",
    "\n",
    "limits=(15,1)\n",
    "\n",
    "fig, ax = plt.subplots(figsize=(20,3.6))\n",
    "plt.subplots_adjust(left=0.2, right=0.8)\n",
    "\n",
    "# set up plot\n",
    "ax.set_xlim(limits)\n",
    "ax.set_ylim(0,1)\n",
    "ax.spines['top'].set_position(('axes', 0.6))\n",
    "#ax.xaxis.tick_top()\n",
    "ax.xaxis.set_ticks_position('top')\n",
    "ax.yaxis.set_visible(False)\n",
    "for pos in [\"bottom\", \"left\", \"right\"]:\n",
    "    ax.spines[pos].set_visible(False)\n",
    "\n",
    "# CD bar\n",
    "ax.plot([limits[0],limits[0]-cd], [.9,.9], color=\"k\")\n",
    "ax.plot([limits[0],limits[0]], [.9-0.03,.9+0.03], color=\"k\")\n",
    "ax.plot([limits[0]-cd,limits[0]-cd], [.9-0.03,.9+0.03], color=\"k\") \n",
    "ax.text(limits[0]-cd/2., 0.92, \"Critical Difference = 4.425\", ha=\"center\", va=\"bottom\") \n",
    "\n",
    "# annotations\n",
    "bbox_props = dict(boxstyle=\"square,pad=0.3\", fc=\"w\", ec=\"k\", lw=0.72)\n",
    "arrowprops=dict(arrowstyle=\"-\",connectionstyle=\"angle,angleA=0,angleB=90\")\n",
    "kw = dict(xycoords='data',textcoords=\"axes fraction\",\n",
    "          arrowprops=arrowprops, bbox=bbox_props, va=\"center\")\n",
    "\n",
    "ax.annotate(\"OBD\", xy=(meanRanks[6], 0.6), xytext=(0,-0.6),ha=\"right\",  **kw, color=\"k\")\n",
    "ax.annotate(\"E.Greedy\", xy=(meanRanks[1], 0.6), xytext=(0,-0.4),ha=\"right\",  **kw, color=\"m\")\n",
    "ax.annotate(\"WSLS\", xy=(meanRanks[2], 0.6), xytext=(0,-0.2),ha=\"right\",  **kw, color=\"y\")\n",
    "ax.annotate(\"OBS\", xy=(meanRanks[7], 0.6), xytext=(0,0),ha=\"right\",  **kw, color=\"k\")\n",
    "ax.annotate(\"Random\", xy=(meanRanks[10], 0.6), xytext=(0,0.2),ha=\"right\",  **kw, color=\"k\")\n",
    "ax.annotate(\"Magnitude\", xy=(meanRanks[9], 0.6), xytext=(0,0.4),ha=\"right\",  **kw, color=\"k\")\n",
    "\n",
    "ax.annotate(\"Thom. Sam\", xy=(meanRanks[8], 0.6), xytext=(1,-0.4),ha=\"left\",  **kw, color=\"b\")\n",
    "ax.annotate(\"Model\", xy=(meanRanks[0], 0.6), xytext=(1,-0.2),ha=\"left\",  **kw, color=\"k\")\n",
    "ax.annotate(\"KLUCB\", xy=(meanRanks[4], 0.6), xytext=(1,0),ha=\"left\",  **kw, color=\"g\")\n",
    "ax.annotate(\"BayesUCB\", xy=(meanRanks[5], 0.6), xytext=(1,0.2),ha=\"left\",  **kw, color=\"g\")\n",
    "ax.annotate(\"UCB1\", xy=(meanRanks[3], 0.6), xytext=(1,0.4),ha=\"left\",  **kw, color=\"r\")\n",
    "\n",
    "\n",
    "#bars\n",
    "ax.plot([meanRanks[3],meanRanks[3]+CD],[0.55,0.55], color=\"r\", lw=3)\n",
    "ax.plot([meanRanks[5],meanRanks[5]+CD],[0.45,0.45], color=\"g\", lw=3)\n",
    "ax.plot([meanRanks[8],meanRanks[8]+CD],[0.35,0.35], color=\"b\", lw=3)\n",
    "ax.plot([meanRanks[2],meanRanks[2]+CD],[0.15,0.15], color=\"y\", lw=3)\n",
    "ax.plot([meanRanks[1],meanRanks[1]+CD],[0.08,0.08], color=\"m\", lw=3)\n",
    "\n",
    "\n",
    "plt.show()"
   ]
  },
  {
   "cell_type": "markdown",
   "metadata": {},
   "source": [
    "# Compute friedman test test by UCB1 ranks between pruning methods"
   ]
  },
  {
   "cell_type": "code",
   "execution_count": 18,
   "metadata": {
    "collapsed": false
   },
   "outputs": [
    {
     "name": "stdout",
     "output_type": "stream",
     "text": [
      "H-statistic: 35.1160220994\n",
      "P-Value: 4.39727996319e-07\n",
      "Reject NULL hypothesis - Significant differences exist between groups.\n"
     ]
    }
   ],
   "source": [
    "from scipy.stats import mstats\n",
    "H, pval = mstats.friedmanchisquare(df1['UCB1'], df1['BayUCB'],  df1['OBD'], \n",
    "                               df1['OBS'], \n",
    "                               df1['Magnitude'])\n",
    "print(\"H-statistic:\", H)\n",
    "print(\"P-Value:\", pval)\n",
    "if pval < 0.05:\n",
    "    print(\"Reject NULL hypothesis - Significant differences exist between groups.\")\n",
    "if pval > 0.05:\n",
    "    print(\"Accept NULL hypothesis - No significant difference between groups.\")"
   ]
  },
  {
   "cell_type": "markdown",
   "metadata": {},
   "source": [
    "# Compute friedman test test by Thompson Sampling ranks between pruning methods"
   ]
  },
  {
   "cell_type": "code",
   "execution_count": 19,
   "metadata": {
    "collapsed": false
   },
   "outputs": [
    {
     "name": "stdout",
     "output_type": "stream",
     "text": [
      "H-statistic: 21.7924528302\n",
      "P-Value: 0.000220413512575\n",
      "Reject NULL hypothesis - Significant differences exist between groups.\n"
     ]
    }
   ],
   "source": [
    "from scipy.stats import mstats\n",
    "H, pval = mstats.friedmanchisquare(df1['Thom. Sam'], df1['OBS'],  df1['OBD'], \n",
    "                               df1['WSLS'], \n",
    "                               df1['Magnitude'])\n",
    "print(\"H-statistic:\", H)\n",
    "print(\"P-Value:\", pval)\n",
    "if pval < 0.05:\n",
    "    print(\"Reject NULL hypothesis - Significant differences exist between groups.\")\n",
    "if pval > 0.05:\n",
    "    print(\"Accept NULL hypothesis - No significant difference between groups.\")"
   ]
  },
  {
   "cell_type": "markdown",
   "metadata": {},
   "source": [
    "# Compute friedman test test by Spsilon Greedy and WSLS ranks between pruning methods"
   ]
  },
  {
   "cell_type": "code",
   "execution_count": 20,
   "metadata": {
    "collapsed": false
   },
   "outputs": [
    {
     "name": "stdout",
     "output_type": "stream",
     "text": [
      "H-statistic: 21.4647887324\n",
      "P-Value: 0.000256074894131\n",
      "Reject NULL hypothesis - Significant differences exist between groups.\n"
     ]
    }
   ],
   "source": [
    "from scipy.stats import mstats\n",
    "H, pval = mstats.friedmanchisquare(df1['E.Greedy'], df1['WSLS'], df1['Magnitude'], df1['OBD'], df1['OBS'])\n",
    "print(\"H-statistic:\", H)\n",
    "print(\"P-Value:\", pval)\n",
    "if pval < 0.05:\n",
    "    print(\"Reject NULL hypothesis - Significant differences exist between groups.\")\n",
    "if pval > 0.05:\n",
    "    print(\"Accept NULL hypothesis - No significant difference between groups.\")"
   ]
  },
  {
   "cell_type": "markdown",
   "metadata": {},
   "source": [
    "## Between our method and other methods separately as both are independent"
   ]
  },
  {
   "cell_type": "code",
   "execution_count": 21,
   "metadata": {
    "collapsed": false
   },
   "outputs": [
    {
     "name": "stdout",
     "output_type": "stream",
     "text": [
      "UCB vs random Pruning\n",
      "H-statistic:\t-3.23316150746\n",
      "P-value:\t0.00122428326443\n",
      "Reject NULL hypothesis - Significant differences exist between groups.\n"
     ]
    }
   ],
   "source": [
    "print('UCB vs random Pruning')\n",
    "H, pval = stats.ranksums(df1['UCB1'], df1['random'])\n",
    "print (\"H-statistic:\\t%s\\nP-value:\\t%s\" % (str(H),str(pval)))\n",
    "if pval < 0.05:\n",
    "    print(\"Reject NULL hypothesis - Significant differences exist between groups.\")\n",
    "if pval > 0.05:\n",
    "    print(\"Accept NULL hypothesis - No significant difference between groups.\")"
   ]
  },
  {
   "cell_type": "code",
   "execution_count": 22,
   "metadata": {
    "collapsed": false
   },
   "outputs": [
    {
     "name": "stdout",
     "output_type": "stream",
     "text": [
      "UCB vs Optimal Brain Damage\n",
      "H-statistic:\t-0.606217782649\n",
      "P-value:\t0.544370145857\n",
      "Accept NULL hypothesis - No significant difference between groups.\n"
     ]
    }
   ],
   "source": [
    "print('UCB vs Optimal Brain Damage')\n",
    "H, pval = stats.ranksums(df1['UCB1'], df1['OBD'])\n",
    "print (\"H-statistic:\\t%s\\nP-value:\\t%s\" % (str(H),str(pval)))\n",
    "if pval < 0.05:\n",
    "    print(\"Reject NULL hypothesis - Significant differences exist between groups.\")\n",
    "if pval > 0.05:\n",
    "    print(\"Accept NULL hypothesis - No significant difference between groups.\")"
   ]
  },
  {
   "cell_type": "code",
   "execution_count": 23,
   "metadata": {
    "collapsed": false
   },
   "outputs": [
    {
     "name": "stdout",
     "output_type": "stream",
     "text": [
      "UCB vs Optimal Brain Surgeon\n",
      "H-statistic:\t-2.02072594216\n",
      "P-value:\t0.0433081428108\n",
      "Reject NULL hypothesis - Significant differences exist between groups.\n"
     ]
    }
   ],
   "source": [
    "print('UCB vs Optimal Brain Surgeon')\n",
    "H, pval = stats.ranksums(df1['UCB1'], df1['OBS'])\n",
    "print (\"H-statistic:\\t%s\\nP-value:\\t%s\" % (str(H),str(pval)))\n",
    "if pval < 0.05:\n",
    "    print(\"Reject NULL hypothesis - Significant differences exist between groups.\")\n",
    "if pval > 0.05:\n",
    "    print(\"Accept NULL hypothesis - No significant difference between groups.\")"
   ]
  },
  {
   "cell_type": "code",
   "execution_count": 24,
   "metadata": {
    "collapsed": false
   },
   "outputs": [
    {
     "name": "stdout",
     "output_type": "stream",
     "text": [
      "UCB vs Deep Compression\n",
      "H-statistic:\t-4.15692193817\n",
      "P-value:\t3.22564145624e-05\n",
      "Reject NULL hypothesis - Significant differences exist between groups.\n"
     ]
    }
   ],
   "source": [
    "print('UCB vs Deep Compression')\n",
    "H, pval = stats.ranksums(df1['UCB1'], df1['Magnitude'])\n",
    "print (\"H-statistic:\\t%s\\nP-value:\\t%s\" % (str(H),str(pval)))\n",
    "if pval < 0.05:\n",
    "    print(\"Reject NULL hypothesis - Significant differences exist between groups.\")\n",
    "if pval > 0.05:\n",
    "    print(\"Accept NULL hypothesis - No significant difference between groups.\")"
   ]
  },
  {
   "cell_type": "markdown",
   "metadata": {},
   "source": [
    "## ranksums test between KLUCB and other pruning methods."
   ]
  },
  {
   "cell_type": "code",
   "execution_count": 25,
   "metadata": {
    "collapsed": false
   },
   "outputs": [
    {
     "name": "stdout",
     "output_type": "stream",
     "text": [
      "KLUCB vs random Pruning\n",
      "H-statistic:\t-3.204293994\n",
      "P-value:\t0.00135394144309\n",
      "Reject NULL hypothesis - Significant differences exist between groups.\n"
     ]
    }
   ],
   "source": [
    "print('KLUCB vs random Pruning')\n",
    "H, pval = stats.ranksums(df1['KLUCB'], df1['random'])\n",
    "print (\"H-statistic:\\t%s\\nP-value:\\t%s\" % (str(H),str(pval)))\n",
    "if pval < 0.05:\n",
    "    print(\"Reject NULL hypothesis - Significant differences exist between groups.\")\n",
    "if pval > 0.05:\n",
    "    print(\"Accept NULL hypothesis - No significant difference between groups.\")"
   ]
  },
  {
   "cell_type": "code",
   "execution_count": 26,
   "metadata": {
    "collapsed": false
   },
   "outputs": [
    {
     "name": "stdout",
     "output_type": "stream",
     "text": [
      "KLUCB vs Optimal Brain Damage\n",
      "H-statistic:\t-0.317542648054\n",
      "P-value:\t0.750831884089\n",
      "Accept NULL hypothesis - No significant difference between groups.\n"
     ]
    }
   ],
   "source": [
    "print('KLUCB vs Optimal Brain Damage')\n",
    "H, pval = stats.ranksums(df1['KLUCB'], df1['OBD'])\n",
    "print (\"H-statistic:\\t%s\\nP-value:\\t%s\" % (str(H),str(pval)))\n",
    "if pval < 0.05:\n",
    "    print(\"Reject NULL hypothesis - Significant differences exist between groups.\")\n",
    "if pval > 0.05:\n",
    "    print(\"Accept NULL hypothesis - No significant difference between groups.\")"
   ]
  },
  {
   "cell_type": "code",
   "execution_count": 27,
   "metadata": {
    "collapsed": false
   },
   "outputs": [
    {
     "name": "stdout",
     "output_type": "stream",
     "text": [
      "KLUCB vs Optimal Brain Surgeon\n",
      "H-statistic:\t-1.90525588833\n",
      "P-value:\t0.0567468164894\n",
      "Accept NULL hypothesis - No significant difference between groups.\n"
     ]
    }
   ],
   "source": [
    "print('KLUCB vs Optimal Brain Surgeon')\n",
    "H, pval = stats.ranksums(df1['KLUCB'], df1['OBS'])\n",
    "print (\"H-statistic:\\t%s\\nP-value:\\t%s\" % (str(H),str(pval)))\n",
    "if pval < 0.05:\n",
    "    print(\"Reject NULL hypothesis - Significant differences exist between groups.\")\n",
    "if pval > 0.05:\n",
    "    print(\"Accept NULL hypothesis - No significant difference between groups.\")"
   ]
  },
  {
   "cell_type": "code",
   "execution_count": 28,
   "metadata": {
    "collapsed": false
   },
   "outputs": [
    {
     "name": "stdout",
     "output_type": "stream",
     "text": [
      "KLUCB vs Deep Compression\n",
      "H-statistic:\t-4.15692193817\n",
      "P-value:\t3.22564145624e-05\n",
      "Reject NULL hypothesis - Significant differences exist between groups.\n"
     ]
    }
   ],
   "source": [
    "print('KLUCB vs Deep Compression')\n",
    "H, pval = stats.ranksums(df1['KLUCB'], df1['Magnitude'])\n",
    "print (\"H-statistic:\\t%s\\nP-value:\\t%s\" % (str(H),str(pval)))\n",
    "if pval < 0.05:\n",
    "    print(\"Reject NULL hypothesis - Significant differences exist between groups.\")\n",
    "if pval > 0.05:\n",
    "    print(\"Accept NULL hypothesis - No significant difference between groups.\")"
   ]
  },
  {
   "cell_type": "markdown",
   "metadata": {},
   "source": [
    "## ranksums test between BayUCB and other pruning methods."
   ]
  },
  {
   "cell_type": "code",
   "execution_count": 29,
   "metadata": {
    "collapsed": false
   },
   "outputs": [
    {
     "name": "stdout",
     "output_type": "stream",
     "text": [
      "BayUCB vs random Pruning\n",
      "H-statistic:\t-3.204293994\n",
      "P-value:\t0.00135394144309\n",
      "Reject NULL hypothesis - Significant differences exist between groups.\n"
     ]
    }
   ],
   "source": [
    "print('BayUCB vs random Pruning')\n",
    "H, pval = stats.ranksums(df1['BayUCB'], df1['random'])\n",
    "print (\"H-statistic:\\t%s\\nP-value:\\t%s\" % (str(H),str(pval)))\n",
    "if pval < 0.05:\n",
    "    print(\"Reject NULL hypothesis - Significant differences exist between groups.\")\n",
    "if pval > 0.05:\n",
    "    print(\"Accept NULL hypothesis - No significant difference between groups.\")"
   ]
  },
  {
   "cell_type": "code",
   "execution_count": 30,
   "metadata": {
    "collapsed": false
   },
   "outputs": [
    {
     "name": "stdout",
     "output_type": "stream",
     "text": [
      "BayUCB vs Optimal Brain Damage\n",
      "H-statistic:\t-0.317542648054\n",
      "P-value:\t0.750831884089\n",
      "Accept NULL hypothesis - No significant difference between groups.\n"
     ]
    }
   ],
   "source": [
    "print('BayUCB vs Optimal Brain Damage')\n",
    "H, pval = stats.ranksums(df1['BayUCB'], df1['OBD'])\n",
    "print (\"H-statistic:\\t%s\\nP-value:\\t%s\" % (str(H),str(pval)))\n",
    "if pval < 0.05:\n",
    "    print(\"Reject NULL hypothesis - Significant differences exist between groups.\")\n",
    "if pval > 0.05:\n",
    "    print(\"Accept NULL hypothesis - No significant difference between groups.\")"
   ]
  },
  {
   "cell_type": "code",
   "execution_count": 31,
   "metadata": {
    "collapsed": false
   },
   "outputs": [
    {
     "name": "stdout",
     "output_type": "stream",
     "text": [
      "BayUCB vs Optimal Brain Surgeon\n",
      "H-statistic:\t-1.90525588833\n",
      "P-value:\t0.0567468164894\n",
      "Accept NULL hypothesis - No significant difference between groups.\n"
     ]
    }
   ],
   "source": [
    "print('BayUCB vs Optimal Brain Surgeon')\n",
    "H, pval = stats.ranksums(df1['BayUCB'], df1['OBS'])\n",
    "print (\"H-statistic:\\t%s\\nP-value:\\t%s\" % (str(H),str(pval)))\n",
    "if pval < 0.05:\n",
    "    print(\"Reject NULL hypothesis - Significant differences exist between groups.\")\n",
    "if pval > 0.05:\n",
    "    print(\"Accept NULL hypothesis - No significant difference between groups.\")"
   ]
  },
  {
   "cell_type": "code",
   "execution_count": 32,
   "metadata": {
    "collapsed": false
   },
   "outputs": [
    {
     "name": "stdout",
     "output_type": "stream",
     "text": [
      "BayUCB vs Deep Compression\n",
      "H-statistic:\t-4.15692193817\n",
      "P-value:\t3.22564145624e-05\n",
      "Reject NULL hypothesis - Significant differences exist between groups.\n"
     ]
    }
   ],
   "source": [
    "print('BayUCB vs Deep Compression')\n",
    "H, pval = stats.ranksums(df1['BayUCB'], df1['Magnitude'])\n",
    "print (\"H-statistic:\\t%s\\nP-value:\\t%s\" % (str(H),str(pval)))\n",
    "if pval < 0.05:\n",
    "    print(\"Reject NULL hypothesis - Significant differences exist between groups.\")\n",
    "if pval > 0.05:\n",
    "    print(\"Accept NULL hypothesis - No significant difference between groups.\")"
   ]
  },
  {
   "cell_type": "code",
   "execution_count": 33,
   "metadata": {
    "collapsed": false,
    "scrolled": false
   },
   "outputs": [
    {
     "name": "stdout",
     "output_type": "stream",
     "text": [
      "\n",
      " Model E.Greedy\n",
      "RanksumsResult(statistic=-0.54848275573014438, pvalue=0.58336046670270325)\n",
      "\n",
      " Model WSLS\n",
      "RanksumsResult(statistic=-1.414508159514583, pvalue=0.15721275334000387)\n",
      "\n",
      " Model UCB1\n",
      "RanksumsResult(statistic=0.49074772881118184, pvalue=0.62360488439568895)\n",
      "\n",
      " Model KLUCB\n",
      "RanksumsResult(statistic=0.1732050807568877, pvalue=0.86249023013592163)\n",
      "\n",
      " Model BayUCB\n",
      "RanksumsResult(statistic=0.1732050807568877, pvalue=0.86249023013592163)\n",
      "\n",
      " Model OBD\n",
      "RanksumsResult(statistic=-0.202072594216369, pvalue=0.83985997254000344)\n",
      "\n",
      " Model OBS\n",
      "RanksumsResult(statistic=-1.7609183210283583, pvalue=0.078252228526237047)\n",
      "\n",
      " Model Thom. Sam\n",
      "RanksumsResult(statistic=-0.11547005383792514, pvalue=0.90807255525597519)\n",
      "\n",
      " Model Magnitude\n",
      "RanksumsResult(statistic=-4.1569219381653051, pvalue=3.2256414562437673e-05)\n",
      "\n",
      " Model random\n",
      "RanksumsResult(statistic=-3.1754264805429413, pvalue=0.0014961642897455532)\n",
      "\n",
      " E.Greedy WSLS\n",
      "RanksumsResult(statistic=-1.0392304845413263, pvalue=0.29869755599497017)\n",
      "\n",
      " E.Greedy UCB1\n",
      "RanksumsResult(statistic=1.0103629710818449, pvalue=0.31232142167621613)\n",
      "\n",
      " E.Greedy KLUCB\n",
      "RanksumsResult(statistic=0.66395280956806957, pvalue=0.50672051487785841)\n",
      "\n",
      " E.Greedy BayUCB\n",
      "RanksumsResult(statistic=0.66395280956806957, pvalue=0.50672051487785841)\n",
      "\n",
      " E.Greedy OBD\n",
      "RanksumsResult(statistic=0.31754264805429416, pvalue=0.75083188408911694)\n",
      "\n",
      " E.Greedy OBS\n",
      "RanksumsResult(statistic=-1.4433756729740643, pvalue=0.14891467317876572)\n",
      "\n",
      " E.Greedy Thom. Sam\n",
      "RanksumsResult(statistic=0.31754264805429416, pvalue=0.75083188408911694)\n",
      "\n",
      " E.Greedy Magnitude\n",
      "RanksumsResult(statistic=-4.0414518843273797, pvalue=5.3121281594117241e-05)\n",
      "\n",
      " E.Greedy random\n",
      "RanksumsResult(statistic=-2.8578838324886471, pvalue=0.0042647649140305378)\n",
      "\n",
      " WSLS UCB1\n",
      "RanksumsResult(statistic=1.818653347947321, pvalue=0.068964333339054079)\n",
      "\n",
      " WSLS KLUCB\n",
      "RanksumsResult(statistic=1.5877132402714706, pvalue=0.11235119769046395)\n",
      "\n",
      " WSLS BayUCB\n",
      "RanksumsResult(statistic=1.5877132402714706, pvalue=0.11235119769046395)\n",
      "\n",
      " WSLS OBD\n",
      "RanksumsResult(statistic=1.1835680518387326, pvalue=0.23658409332187613)\n",
      "\n",
      " WSLS OBS\n",
      "RanksumsResult(statistic=-0.54848275573014438, pvalue=0.58336046670270325)\n",
      "\n",
      " WSLS Thom. Sam\n",
      "RanksumsResult(statistic=1.0680979980008076, pvalue=0.28547630885188247)\n",
      "\n",
      " WSLS Magnitude\n",
      "RanksumsResult(statistic=-3.5218366420567166, pvalue=0.00042856814449695465)\n",
      "\n",
      " WSLS random\n",
      "RanksumsResult(statistic=-1.9629909152447274, pvalue=0.049647229657456209)\n",
      "\n",
      " UCB1 KLUCB\n",
      "RanksumsResult(statistic=-0.31754264805429416, pvalue=0.75083188408911694)\n",
      "\n",
      " UCB1 BayUCB\n",
      "RanksumsResult(statistic=-0.31754264805429416, pvalue=0.75083188408911694)\n",
      "\n",
      " UCB1 OBD\n",
      "RanksumsResult(statistic=-0.60621778264910697, pvalue=0.54437014585660981)\n",
      "\n",
      " UCB1 OBS\n",
      "RanksumsResult(statistic=-2.0207259421636898, pvalue=0.043308142810791976)\n",
      "\n",
      " UCB1 Thom. Sam\n",
      "RanksumsResult(statistic=-0.57735026918962573, pvalue=0.5637028616507731)\n",
      "\n",
      " UCB1 Magnitude\n",
      "RanksumsResult(statistic=-4.1569219381653051, pvalue=3.2256414562437673e-05)\n",
      "\n",
      " UCB1 random\n",
      "RanksumsResult(statistic=-3.233161507461904, pvalue=0.0012242832644312096)\n",
      "\n",
      " KLUCB BayUCB\n",
      "RanksumsResult(statistic=0.0, pvalue=1.0)\n",
      "\n",
      " KLUCB OBD\n",
      "RanksumsResult(statistic=-0.31754264805429416, pvalue=0.75083188408911694)\n",
      "\n",
      " KLUCB OBS\n",
      "RanksumsResult(statistic=-1.9052558883257649, pvalue=0.056746816489381423)\n",
      "\n",
      " KLUCB Thom. Sam\n",
      "RanksumsResult(statistic=-0.25980762113533157, pvalue=0.79501217196423812)\n",
      "\n",
      " KLUCB Magnitude\n",
      "RanksumsResult(statistic=-4.1569219381653051, pvalue=3.2256414562437673e-05)\n",
      "\n",
      " KLUCB random\n",
      "RanksumsResult(statistic=-3.2042939940024229, pvalue=0.0013539414430926307)\n",
      "\n",
      " BayUCB OBD\n",
      "RanksumsResult(statistic=-0.31754264805429416, pvalue=0.75083188408911694)\n",
      "\n",
      " BayUCB OBS\n",
      "RanksumsResult(statistic=-1.9052558883257649, pvalue=0.056746816489381423)\n",
      "\n",
      " BayUCB Thom. Sam\n",
      "RanksumsResult(statistic=-0.25980762113533157, pvalue=0.79501217196423812)\n",
      "\n",
      " BayUCB Magnitude\n",
      "RanksumsResult(statistic=-4.1569219381653051, pvalue=3.2256414562437673e-05)\n",
      "\n",
      " BayUCB random\n",
      "RanksumsResult(statistic=-3.2042939940024229, pvalue=0.0013539414430926307)\n",
      "\n",
      " OBD OBS\n",
      "RanksumsResult(statistic=-1.5588457268119895, pvalue=0.11903289845700783)\n",
      "\n",
      " OBD Thom. Sam\n",
      "RanksumsResult(statistic=0.057735026918962568, pvalue=0.95395969277203863)\n",
      "\n",
      " OBD Magnitude\n",
      "RanksumsResult(statistic=-3.8682468035704924, pvalue=0.00010962068302139599)\n",
      "\n",
      " OBD random\n",
      "RanksumsResult(statistic=-2.8290163190291659, pvalue=0.0046691318050232113)\n",
      "\n",
      " OBS Thom. Sam\n",
      "RanksumsResult(statistic=1.4433756729740643, pvalue=0.14891467317876572)\n",
      "\n",
      " OBS Magnitude\n",
      "RanksumsResult(statistic=-2.1361959960016152, pvalue=0.03266344168491133)\n",
      "\n",
      " OBS random\n",
      "RanksumsResult(statistic=-1.2701705922171767, pvalue=0.2040238704744366)\n",
      "\n",
      " Thom. Sam Magnitude\n",
      "RanksumsResult(statistic=-3.5795716689756794, pvalue=0.00034415785384659113)\n",
      "\n",
      " Thom. Sam random\n",
      "RanksumsResult(statistic=-2.4537386440559095, pvalue=0.014137969455911484)\n",
      "\n",
      " Magnitude random\n",
      "RanksumsResult(statistic=1.2124355652982139, pvalue=0.22534569370166679)\n"
     ]
    }
   ],
   "source": [
    "# Get all models pairs\n",
    "interstModel = ['BayUCB', 'UCB1', 'KLUCB',\n",
    "               'E.Greedy', 'WSLS', 'Thom. Sam']\n",
    "lst = list(df1.columns.values)\n",
    "lst.remove('Dataset')\n",
    "model_pairs = []\n",
    "\n",
    "for m1 in range(len(df1.columns)-2):\n",
    "    for m2  in range(m1+1,len(df1.columns)-1):\n",
    "        model_pairs.append((lst[m1], lst[m2]))\n",
    "\n",
    "pvalueList = []\n",
    "new_model_pairs = []\n",
    "for m1, m2 in model_pairs: \n",
    "    print('\\n',m1, m2)\n",
    "    pvalue = stats.ranksums(df1[m1], df1[m2])\n",
    "    #print(pvalue[1])\n",
    "    if (m1 in interstModel or m2 in interstModel):\n",
    "        new_model_pairs.append((m1,m2))\n",
    "        pvalueList.append(pvalue[1])\n",
    "    print(pvalue)   "
   ]
  },
  {
   "cell_type": "code",
   "execution_count": 34,
   "metadata": {
    "collapsed": false
   },
   "outputs": [
    {
     "name": "stdout",
     "output_type": "stream",
     "text": [
      "The pvalue between ('Model', 'E.Greedy') is 0.583360466703 > 0.05 then FAIL to REJECT the NULL Hypothesis 👎\n",
      "The pvalue between ('Model', 'WSLS') is 0.15721275334 > 0.05 then FAIL to REJECT the NULL Hypothesis 👎\n",
      "The pvalue between ('Model', 'UCB1') is 0.623604884396 > 0.05 then FAIL to REJECT the NULL Hypothesis 👎\n",
      "The pvalue between ('Model', 'KLUCB') is 0.862490230136 > 0.05 then FAIL to REJECT the NULL Hypothesis 👎\n",
      "The pvalue between ('Model', 'BayUCB') is 0.862490230136 > 0.05 then FAIL to REJECT the NULL Hypothesis 👎\n",
      "The pvalue between ('Model', 'Thom. Sam') is 0.908072555256 > 0.05 then FAIL to REJECT the NULL Hypothesis 👎\n",
      "The pvalue between ('E.Greedy', 'WSLS') is 0.298697555995 > 0.05 then FAIL to REJECT the NULL Hypothesis 👎\n",
      "The pvalue between ('E.Greedy', 'UCB1') is 0.312321421676 > 0.05 then FAIL to REJECT the NULL Hypothesis 👎\n",
      "The pvalue between ('E.Greedy', 'KLUCB') is 0.506720514878 > 0.05 then FAIL to REJECT the NULL Hypothesis 👎\n",
      "The pvalue between ('E.Greedy', 'BayUCB') is 0.506720514878 > 0.05 then FAIL to REJECT the NULL Hypothesis 👎\n",
      "The pvalue between ('E.Greedy', 'OBD') is 0.750831884089 > 0.05 then FAIL to REJECT the NULL Hypothesis 👎\n",
      "The pvalue between ('E.Greedy', 'OBS') is 0.148914673179 > 0.05 then FAIL to REJECT the NULL Hypothesis 👎\n",
      "The pvalue between ('E.Greedy', 'Thom. Sam') is 0.750831884089 > 0.05 then FAIL to REJECT the NULL Hypothesis 👎\n",
      "The pvalue between ('E.Greedy', 'Magnitude') is 5.31212815941e-05 < 0.05 then REJECT the NULL Hypothesis 👍\n",
      "The pvalue between ('E.Greedy', 'random') is 0.00426476491403 < 0.05 then REJECT the NULL Hypothesis 👍\n",
      "The pvalue between ('WSLS', 'UCB1') is 0.0689643333391 > 0.05 then FAIL to REJECT the NULL Hypothesis 👎\n",
      "The pvalue between ('WSLS', 'KLUCB') is 0.11235119769 > 0.05 then FAIL to REJECT the NULL Hypothesis 👎\n",
      "The pvalue between ('WSLS', 'BayUCB') is 0.11235119769 > 0.05 then FAIL to REJECT the NULL Hypothesis 👎\n",
      "The pvalue between ('WSLS', 'OBD') is 0.236584093322 > 0.05 then FAIL to REJECT the NULL Hypothesis 👎\n",
      "The pvalue between ('WSLS', 'OBS') is 0.583360466703 > 0.05 then FAIL to REJECT the NULL Hypothesis 👎\n",
      "The pvalue between ('WSLS', 'Thom. Sam') is 0.285476308852 > 0.05 then FAIL to REJECT the NULL Hypothesis 👎\n",
      "The pvalue between ('WSLS', 'Magnitude') is 0.000428568144497 < 0.05 then REJECT the NULL Hypothesis 👍\n",
      "The pvalue between ('WSLS', 'random') is 0.0496472296575 < 0.05 then REJECT the NULL Hypothesis 👍\n",
      "The pvalue between ('UCB1', 'KLUCB') is 0.750831884089 > 0.05 then FAIL to REJECT the NULL Hypothesis 👎\n",
      "The pvalue between ('UCB1', 'BayUCB') is 0.750831884089 > 0.05 then FAIL to REJECT the NULL Hypothesis 👎\n",
      "The pvalue between ('UCB1', 'OBD') is 0.544370145857 > 0.05 then FAIL to REJECT the NULL Hypothesis 👎\n",
      "The pvalue between ('UCB1', 'OBS') is 0.0433081428108 < 0.05 then REJECT the NULL Hypothesis 👍\n",
      "The pvalue between ('UCB1', 'Thom. Sam') is 0.563702861651 > 0.05 then FAIL to REJECT the NULL Hypothesis 👎\n",
      "The pvalue between ('UCB1', 'Magnitude') is 3.22564145624e-05 < 0.05 then REJECT the NULL Hypothesis 👍\n",
      "The pvalue between ('UCB1', 'random') is 0.00122428326443 < 0.05 then REJECT the NULL Hypothesis 👍\n",
      "The pvalue between ('KLUCB', 'BayUCB') is 1.0 > 0.05 then FAIL to REJECT the NULL Hypothesis 👎\n",
      "The pvalue between ('KLUCB', 'OBD') is 0.750831884089 > 0.05 then FAIL to REJECT the NULL Hypothesis 👎\n",
      "The pvalue between ('KLUCB', 'OBS') is 0.0567468164894 > 0.05 then FAIL to REJECT the NULL Hypothesis 👎\n",
      "The pvalue between ('KLUCB', 'Thom. Sam') is 0.795012171964 > 0.05 then FAIL to REJECT the NULL Hypothesis 👎\n",
      "The pvalue between ('KLUCB', 'Magnitude') is 3.22564145624e-05 < 0.05 then REJECT the NULL Hypothesis 👍\n",
      "The pvalue between ('KLUCB', 'random') is 0.00135394144309 < 0.05 then REJECT the NULL Hypothesis 👍\n",
      "The pvalue between ('BayUCB', 'OBD') is 0.750831884089 > 0.05 then FAIL to REJECT the NULL Hypothesis 👎\n",
      "The pvalue between ('BayUCB', 'OBS') is 0.0567468164894 > 0.05 then FAIL to REJECT the NULL Hypothesis 👎\n",
      "The pvalue between ('BayUCB', 'Thom. Sam') is 0.795012171964 > 0.05 then FAIL to REJECT the NULL Hypothesis 👎\n",
      "The pvalue between ('BayUCB', 'Magnitude') is 3.22564145624e-05 < 0.05 then REJECT the NULL Hypothesis 👍\n",
      "The pvalue between ('BayUCB', 'random') is 0.00135394144309 < 0.05 then REJECT the NULL Hypothesis 👍\n",
      "The pvalue between ('OBD', 'Thom. Sam') is 0.953959692772 > 0.05 then FAIL to REJECT the NULL Hypothesis 👎\n",
      "The pvalue between ('OBS', 'Thom. Sam') is 0.148914673179 > 0.05 then FAIL to REJECT the NULL Hypothesis 👎\n",
      "The pvalue between ('Thom. Sam', 'Magnitude') is 0.000344157853847 < 0.05 then REJECT the NULL Hypothesis 👍\n",
      "The pvalue between ('Thom. Sam', 'random') is 0.0141379694559 < 0.05 then REJECT the NULL Hypothesis 👍\n"
     ]
    }
   ],
   "source": [
    "for pair, p in zip(new_model_pairs, pvalueList):\n",
    "    if p < 0.05:\n",
    "        print('The pvalue between',pair, 'is', p, '< 0.05 then', \n",
    "              emoji.emojize('REJECT the NULL Hypothesis :thumbs_up_sign:'))\n",
    "    else:\n",
    "        print('The pvalue between',pair, 'is', p, '> 0.05 then',\n",
    "              emoji.emojize('FAIL to REJECT the NULL Hypothesis :thumbs_down_sign:'))"
   ]
  },
  {
   "cell_type": "markdown",
   "metadata": {},
   "source": [
    "## Prune LeCun Model"
   ]
  },
  {
   "cell_type": "code",
   "execution_count": 35,
   "metadata": {
    "collapsed": false
   },
   "outputs": [
    {
     "name": "stdout",
     "output_type": "stream",
     "text": [
      "\n",
      " Model <--- VS ---> TS Prune half the weights\n",
      "RanksumsResult(statistic=-1.5491933384829668, pvalue=0.12133525035848211)\n",
      "\n",
      " Model <--- VS ---> EG Prune half the weights\n",
      "RanksumsResult(statistic=-1.5491933384829668, pvalue=0.12133525035848211)\n",
      "\n",
      " Model <--- VS ---> UCB1 Prune half the weights\n",
      "RanksumsResult(statistic=-1.5491933384829668, pvalue=0.12133525035848211)\n",
      "\n",
      " TS Prune half the weights <--- VS ---> EG Prune half the weights\n",
      "RanksumsResult(statistic=1.5491933384829668, pvalue=0.12133525035848211)\n",
      "\n",
      " TS Prune half the weights <--- VS ---> UCB1 Prune half the weights\n",
      "RanksumsResult(statistic=-0.7745966692414834, pvalue=0.43857802608099983)\n",
      "\n",
      " EG Prune half the weights <--- VS ---> UCB1 Prune half the weights\n",
      "RanksumsResult(statistic=-1.5491933384829668, pvalue=0.12133525035848211)\n"
     ]
    }
   ],
   "source": [
    "# Get all models pairs\n",
    "interstModel = ['TS Prune half the weights', 'EG Prune half the weights', \n",
    "                'UCB1 Prune half the weights']\n",
    "lst = list(dfLcun.columns.values)\n",
    "lst.remove('Layer')\n",
    "model_pairs = []\n",
    "\n",
    "for m1 in range(len(dfLcun.columns)-2):\n",
    "    for m2  in range(m1+1,len(dfLcun.columns)-1):\n",
    "        model_pairs.append((lst[m1], lst[m2]))\n",
    "\n",
    "# Conduct t-test on each pair\n",
    "pvalueList = []\n",
    "new_model_pairs = []\n",
    "for m1, m2 in model_pairs: \n",
    "    print('\\n',m1,'<--- VS --->', m2)\n",
    "    pvalue = stats.ranksums(dfLcun[m1], dfLcun[m2])\n",
    "    #print(pvalue[1])\n",
    "    if (m1 in interstModel or m2 in interstModel):\n",
    "        new_model_pairs.append((m1,m2))\n",
    "        pvalueList.append(pvalue[1])\n",
    "    print(pvalue)   "
   ]
  },
  {
   "cell_type": "code",
   "execution_count": 36,
   "metadata": {
    "collapsed": false
   },
   "outputs": [
    {
     "name": "stdout",
     "output_type": "stream",
     "text": [
      "The pvalue between ('Model', 'TS Prune half the weights') is 0.121335250358 > 0.05 then FAIL to REJECT the NULL Hypothesis 👎\n",
      "The pvalue between ('Model', 'EG Prune half the weights') is 0.121335250358 > 0.05 then FAIL to REJECT the NULL Hypothesis 👎\n",
      "The pvalue between ('Model', 'UCB1 Prune half the weights') is 0.121335250358 > 0.05 then FAIL to REJECT the NULL Hypothesis 👎\n",
      "The pvalue between ('TS Prune half the weights', 'EG Prune half the weights') is 0.121335250358 > 0.05 then FAIL to REJECT the NULL Hypothesis 👎\n",
      "The pvalue between ('TS Prune half the weights', 'UCB1 Prune half the weights') is 0.438578026081 > 0.05 then FAIL to REJECT the NULL Hypothesis 👎\n",
      "The pvalue between ('EG Prune half the weights', 'UCB1 Prune half the weights') is 0.121335250358 > 0.05 then FAIL to REJECT the NULL Hypothesis 👎\n"
     ]
    }
   ],
   "source": [
    "for pair, p in zip(new_model_pairs, pvalueList):\n",
    "    if p < 0.05:\n",
    "        print('The pvalue between',pair, 'is', p, '< 0.05 then', \n",
    "              emoji.emojize('REJECT the NULL Hypothesis :thumbs_up_sign:'))\n",
    "    else:\n",
    "        print('The pvalue between',pair, 'is', p, '> 0.05 then',\n",
    "              emoji.emojize('FAIL to REJECT the NULL Hypothesis :thumbs_down_sign:'))"
   ]
  }
 ],
 "metadata": {
  "kernelspec": {
   "display_name": "Python 3",
   "language": "python",
   "name": "python3"
  },
  "language_info": {
   "codemirror_mode": {
    "name": "ipython",
    "version": 3
   },
   "file_extension": ".py",
   "mimetype": "text/x-python",
   "name": "python",
   "nbconvert_exporter": "python",
   "pygments_lexer": "ipython3",
   "version": "3.6.0"
  }
 },
 "nbformat": 4,
 "nbformat_minor": 2
}
