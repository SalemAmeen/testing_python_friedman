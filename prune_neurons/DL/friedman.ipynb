{
 "cells": [
  {
   "cell_type": "markdown",
   "metadata": {
    "collapsed": true
   },
   "source": [
    "# Import needed libraries"
   ]
  },
  {
   "cell_type": "markdown",
   "metadata": {
    "collapsed": true
   },
   "source": [
    "## Import libraries for manipulating the data and statistic"
   ]
  },
  {
   "cell_type": "code",
   "execution_count": 51,
   "metadata": {
    "collapsed": false
   },
   "outputs": [],
   "source": [
    "import numpy as np\n",
    "import pandas as pd\n",
    "import matplotlib.pyplot as plt\n",
    "import scipy.stats as stats\n",
    "from statsmodels.stats.weightstats import  ttest_ind as t_test\n",
    "from scipy.stats import ttest_1samp, wilcoxon, ttest_ind, mannwhitneyu\n",
    "import scipy.special as special\n",
    "import emoji\n",
    "from math import pi\n",
    "from statsmodels.stats.multicomp import pairwise_tukeyhsd, MultiComparison\n",
    "from statsmodels.formula.api import ols\n",
    "import statsmodels.stats.api as sms\n",
    "from scipy.stats import friedmanchisquare, rankdata, norm\n",
    "from scipy.special import gammaln\n",
    "from math import sqrt"
   ]
  },
  {
   "cell_type": "markdown",
   "metadata": {
    "collapsed": true
   },
   "source": [
    "## Import libraries for static ploting"
   ]
  },
  {
   "cell_type": "code",
   "execution_count": 52,
   "metadata": {
    "collapsed": true
   },
   "outputs": [],
   "source": [
    "import matplotlib.pyplot as plt\n",
    "import matplotlib.gridspec as gridspec\n",
    "%matplotlib inline\n",
    "from IPython.display import set_matplotlib_formats\n",
    "set_matplotlib_formats('png', 'pdf')\n",
    "# some nice colors from http://colorbrewer2.org/\n",
    "COLOR1 = '#7fc97f'\n",
    "COLOR2 = '#beaed4'\n",
    "COLOR3 = '#fdc086'\n",
    "COLOR4 = '#ffff99'\n",
    "COLOR5 = '#386cb0'"
   ]
  },
  {
   "cell_type": "markdown",
   "metadata": {
    "collapsed": true
   },
   "source": [
    "# Statring the test and visulize the data"
   ]
  },
  {
   "cell_type": "markdown",
   "metadata": {
    "collapsed": true
   },
   "source": [
    "## Load the data"
   ]
  },
  {
   "cell_type": "code",
   "execution_count": 53,
   "metadata": {
    "collapsed": false
   },
   "outputs": [],
   "source": [
    "datafile = \"./results/result_naomy3.csv\"\n",
    "df = pd.read_csv(datafile)"
   ]
  },
  {
   "cell_type": "code",
   "execution_count": 54,
   "metadata": {
    "collapsed": false
   },
   "outputs": [
    {
     "data": {
      "text/html": [
       "<div>\n",
       "<table border=\"1\" class=\"dataframe\">\n",
       "  <thead>\n",
       "    <tr style=\"text-align: right;\">\n",
       "      <th></th>\n",
       "      <th>Methods</th>\n",
       "      <th>Model</th>\n",
       "      <th>Epsilon</th>\n",
       "      <th>Decay Epsilon</th>\n",
       "      <th>Softmax</th>\n",
       "      <th>Decay Softmax</th>\n",
       "      <th>UCB1</th>\n",
       "      <th>Tomp. Sampl.</th>\n",
       "      <th>Hedge</th>\n",
       "      <th>EXP3</th>\n",
       "      <th>Less Magn.</th>\n",
       "      <th>G. Prune</th>\n",
       "    </tr>\n",
       "  </thead>\n",
       "  <tbody>\n",
       "    <tr>\n",
       "      <th>0</th>\n",
       "      <td>MLP (Reuters)</td>\n",
       "      <td>0.786</td>\n",
       "      <td>0.79</td>\n",
       "      <td>0.79</td>\n",
       "      <td>0.79</td>\n",
       "      <td>0.79</td>\n",
       "      <td>0.79</td>\n",
       "      <td>0.79</td>\n",
       "      <td>0.79</td>\n",
       "      <td>0.79</td>\n",
       "      <td>0.75</td>\n",
       "      <td>0.74</td>\n",
       "    </tr>\n",
       "    <tr>\n",
       "      <th>1</th>\n",
       "      <td>LeCun (MNIST)</td>\n",
       "      <td>0.980</td>\n",
       "      <td>0.99</td>\n",
       "      <td>0.99</td>\n",
       "      <td>0.99</td>\n",
       "      <td>0.99</td>\n",
       "      <td>0.99</td>\n",
       "      <td>0.99</td>\n",
       "      <td>0.99</td>\n",
       "      <td>0.99</td>\n",
       "      <td>0.97</td>\n",
       "      <td>0.95</td>\n",
       "    </tr>\n",
       "    <tr>\n",
       "      <th>2</th>\n",
       "      <td>AlexNet  (IMAGNET)</td>\n",
       "      <td>0.500</td>\n",
       "      <td>0.57</td>\n",
       "      <td>0.57</td>\n",
       "      <td>0.55</td>\n",
       "      <td>0.55</td>\n",
       "      <td>0.58</td>\n",
       "      <td>0.58</td>\n",
       "      <td>0.53</td>\n",
       "      <td>0.54</td>\n",
       "      <td>0.53</td>\n",
       "      <td>0.57</td>\n",
       "    </tr>\n",
       "    <tr>\n",
       "      <th>3</th>\n",
       "      <td>AlexNet  (IMAGNET)</td>\n",
       "      <td>0.560</td>\n",
       "      <td>0.58</td>\n",
       "      <td>0.58</td>\n",
       "      <td>0.56</td>\n",
       "      <td>0.56</td>\n",
       "      <td>0.57</td>\n",
       "      <td>0.57</td>\n",
       "      <td>0.56</td>\n",
       "      <td>0.56</td>\n",
       "      <td>0.55</td>\n",
       "      <td>0.54</td>\n",
       "    </tr>\n",
       "    <tr>\n",
       "      <th>4</th>\n",
       "      <td>Conv (Cifar10)</td>\n",
       "      <td>0.810</td>\n",
       "      <td>0.82</td>\n",
       "      <td>0.82</td>\n",
       "      <td>0.82</td>\n",
       "      <td>0.82</td>\n",
       "      <td>0.82</td>\n",
       "      <td>0.82</td>\n",
       "      <td>0.82</td>\n",
       "      <td>0.82</td>\n",
       "      <td>0.81</td>\n",
       "      <td>0.80</td>\n",
       "    </tr>\n",
       "    <tr>\n",
       "      <th>5</th>\n",
       "      <td>Conv (Cifar100)</td>\n",
       "      <td>0.430</td>\n",
       "      <td>0.45</td>\n",
       "      <td>0.45</td>\n",
       "      <td>0.44</td>\n",
       "      <td>0.45</td>\n",
       "      <td>0.45</td>\n",
       "      <td>0.45</td>\n",
       "      <td>0.44</td>\n",
       "      <td>0.44</td>\n",
       "      <td>0.43</td>\n",
       "      <td>0.41</td>\n",
       "    </tr>\n",
       "    <tr>\n",
       "      <th>6</th>\n",
       "      <td>Conv (IMDB)</td>\n",
       "      <td>0.870</td>\n",
       "      <td>0.89</td>\n",
       "      <td>0.89</td>\n",
       "      <td>0.88</td>\n",
       "      <td>0.89</td>\n",
       "      <td>0.89</td>\n",
       "      <td>0.89</td>\n",
       "      <td>0.89</td>\n",
       "      <td>0.88</td>\n",
       "      <td>0.83</td>\n",
       "      <td>0.84</td>\n",
       "    </tr>\n",
       "    <tr>\n",
       "      <th>7</th>\n",
       "      <td>Conv (SVHN)</td>\n",
       "      <td>0.960</td>\n",
       "      <td>0.97</td>\n",
       "      <td>0.97</td>\n",
       "      <td>0.97</td>\n",
       "      <td>0.97</td>\n",
       "      <td>0.97</td>\n",
       "      <td>0.97</td>\n",
       "      <td>0.97</td>\n",
       "      <td>0.97</td>\n",
       "      <td>0.90</td>\n",
       "      <td>0.92</td>\n",
       "    </tr>\n",
       "    <tr>\n",
       "      <th>8</th>\n",
       "      <td>Siamese Graph (MNIST)</td>\n",
       "      <td>0.990</td>\n",
       "      <td>1.00</td>\n",
       "      <td>0.99</td>\n",
       "      <td>0.99</td>\n",
       "      <td>0.99</td>\n",
       "      <td>1.00</td>\n",
       "      <td>1.00</td>\n",
       "      <td>0.99</td>\n",
       "      <td>0.99</td>\n",
       "      <td>0.93</td>\n",
       "      <td>0.93</td>\n",
       "    </tr>\n",
       "    <tr>\n",
       "      <th>9</th>\n",
       "      <td>LSTM (IMDB)</td>\n",
       "      <td>0.800</td>\n",
       "      <td>0.81</td>\n",
       "      <td>0.81</td>\n",
       "      <td>0.81</td>\n",
       "      <td>0.81</td>\n",
       "      <td>0.81</td>\n",
       "      <td>0.81</td>\n",
       "      <td>0.81</td>\n",
       "      <td>0.81</td>\n",
       "      <td>0.79</td>\n",
       "      <td>0.78</td>\n",
       "    </tr>\n",
       "    <tr>\n",
       "      <th>10</th>\n",
       "      <td>Bi. LSTM_1 (IMDB)</td>\n",
       "      <td>0.820</td>\n",
       "      <td>0.84</td>\n",
       "      <td>0.83</td>\n",
       "      <td>0.83</td>\n",
       "      <td>0.83</td>\n",
       "      <td>0.84</td>\n",
       "      <td>0.84</td>\n",
       "      <td>0.83</td>\n",
       "      <td>0.80</td>\n",
       "      <td>0.80</td>\n",
       "      <td>0.81</td>\n",
       "    </tr>\n",
       "    <tr>\n",
       "      <th>11</th>\n",
       "      <td>Bi. LSTM_2 (IMDB)</td>\n",
       "      <td>0.820</td>\n",
       "      <td>0.83</td>\n",
       "      <td>0.83</td>\n",
       "      <td>0.83</td>\n",
       "      <td>0.83</td>\n",
       "      <td>0.83</td>\n",
       "      <td>0.83</td>\n",
       "      <td>0.83</td>\n",
       "      <td>0.80</td>\n",
       "      <td>0.80</td>\n",
       "      <td>0.80</td>\n",
       "    </tr>\n",
       "    <tr>\n",
       "      <th>12</th>\n",
       "      <td>EtoE Mem (bAbI)</td>\n",
       "      <td>0.860</td>\n",
       "      <td>0.87</td>\n",
       "      <td>0.88</td>\n",
       "      <td>0.87</td>\n",
       "      <td>0.87</td>\n",
       "      <td>0.88</td>\n",
       "      <td>0.87</td>\n",
       "      <td>0.87</td>\n",
       "      <td>0.88</td>\n",
       "      <td>0.81</td>\n",
       "      <td>0.83</td>\n",
       "    </tr>\n",
       "    <tr>\n",
       "      <th>13</th>\n",
       "      <td>Hierar. RNN (MNIST)</td>\n",
       "      <td>0.960</td>\n",
       "      <td>0.97</td>\n",
       "      <td>0.95</td>\n",
       "      <td>0.98</td>\n",
       "      <td>0.97</td>\n",
       "      <td>0.98</td>\n",
       "      <td>0.97</td>\n",
       "      <td>0.98</td>\n",
       "      <td>0.98</td>\n",
       "      <td>0.90</td>\n",
       "      <td>0.92</td>\n",
       "    </tr>\n",
       "  </tbody>\n",
       "</table>\n",
       "</div>"
      ],
      "text/plain": [
       "                  Methods  Model  Epsilon  Decay Epsilon  Softmax  \\\n",
       "0           MLP (Reuters)  0.786     0.79           0.79     0.79   \n",
       "1           LeCun (MNIST)  0.980     0.99           0.99     0.99   \n",
       "2      AlexNet  (IMAGNET)  0.500     0.57           0.57     0.55   \n",
       "3      AlexNet  (IMAGNET)  0.560     0.58           0.58     0.56   \n",
       "4          Conv (Cifar10)  0.810     0.82           0.82     0.82   \n",
       "5         Conv (Cifar100)  0.430     0.45           0.45     0.44   \n",
       "6             Conv (IMDB)  0.870     0.89           0.89     0.88   \n",
       "7             Conv (SVHN)  0.960     0.97           0.97     0.97   \n",
       "8   Siamese Graph (MNIST)  0.990     1.00           0.99     0.99   \n",
       "9             LSTM (IMDB)  0.800     0.81           0.81     0.81   \n",
       "10      Bi. LSTM_1 (IMDB)  0.820     0.84           0.83     0.83   \n",
       "11      Bi. LSTM_2 (IMDB)  0.820     0.83           0.83     0.83   \n",
       "12        EtoE Mem (bAbI)  0.860     0.87           0.88     0.87   \n",
       "13    Hierar. RNN (MNIST)  0.960     0.97           0.95     0.98   \n",
       "\n",
       "    Decay Softmax  UCB1  Tomp. Sampl.  Hedge  EXP3  Less Magn.  G. Prune  \n",
       "0            0.79  0.79          0.79   0.79  0.79        0.75      0.74  \n",
       "1            0.99  0.99          0.99   0.99  0.99        0.97      0.95  \n",
       "2            0.55  0.58          0.58   0.53  0.54        0.53      0.57  \n",
       "3            0.56  0.57          0.57   0.56  0.56        0.55      0.54  \n",
       "4            0.82  0.82          0.82   0.82  0.82        0.81      0.80  \n",
       "5            0.45  0.45          0.45   0.44  0.44        0.43      0.41  \n",
       "6            0.89  0.89          0.89   0.89  0.88        0.83      0.84  \n",
       "7            0.97  0.97          0.97   0.97  0.97        0.90      0.92  \n",
       "8            0.99  1.00          1.00   0.99  0.99        0.93      0.93  \n",
       "9            0.81  0.81          0.81   0.81  0.81        0.79      0.78  \n",
       "10           0.83  0.84          0.84   0.83  0.80        0.80      0.81  \n",
       "11           0.83  0.83          0.83   0.83  0.80        0.80      0.80  \n",
       "12           0.87  0.88          0.87   0.87  0.88        0.81      0.83  \n",
       "13           0.97  0.98          0.97   0.98  0.98        0.90      0.92  "
      ]
     },
     "execution_count": 54,
     "metadata": {},
     "output_type": "execute_result"
    }
   ],
   "source": [
    "df"
   ]
  },
  {
   "cell_type": "code",
   "execution_count": 55,
   "metadata": {
    "collapsed": false
   },
   "outputs": [],
   "source": [
    "df1 = df.copy()"
   ]
  },
  {
   "cell_type": "markdown",
   "metadata": {
    "collapsed": false
   },
   "source": [
    "\n",
    "\n",
    "## Using Nonparametric tests\n",
    "\n",
    "I am not sure the data comes from Guassian distribution  and less than 30 sample \n",
    "\n",
    "### alternative to paired t-test when data has an ordinary scale or when not\n",
    "### normally distributed"
   ]
  },
  {
   "cell_type": "markdown",
   "metadata": {},
   "source": [
    "## Start comparining all pruning algorithms"
   ]
  },
  {
   "cell_type": "markdown",
   "metadata": {},
   "source": [
    "### Compute friedman test test by ranks between pruning methods"
   ]
  },
  {
   "cell_type": "code",
   "execution_count": 56,
   "metadata": {
    "collapsed": false
   },
   "outputs": [
    {
     "data": {
      "text/html": [
       "<div>\n",
       "<table border=\"1\" class=\"dataframe\">\n",
       "  <thead>\n",
       "    <tr style=\"text-align: right;\">\n",
       "      <th></th>\n",
       "      <th>Model</th>\n",
       "      <th>Epsilon</th>\n",
       "      <th>Decay Epsilon</th>\n",
       "      <th>Softmax</th>\n",
       "      <th>Decay Softmax</th>\n",
       "      <th>UCB1</th>\n",
       "      <th>Tomp. Sampl.</th>\n",
       "      <th>Hedge</th>\n",
       "      <th>EXP3</th>\n",
       "      <th>Less Magn.</th>\n",
       "      <th>G. Prune</th>\n",
       "    </tr>\n",
       "  </thead>\n",
       "  <tbody>\n",
       "    <tr>\n",
       "      <th>0</th>\n",
       "      <td>3.0</td>\n",
       "      <td>7.5</td>\n",
       "      <td>7.5</td>\n",
       "      <td>7.5</td>\n",
       "      <td>7.5</td>\n",
       "      <td>7.5</td>\n",
       "      <td>7.5</td>\n",
       "      <td>7.5</td>\n",
       "      <td>7.5</td>\n",
       "      <td>2.0</td>\n",
       "      <td>1.0</td>\n",
       "    </tr>\n",
       "    <tr>\n",
       "      <th>1</th>\n",
       "      <td>3.0</td>\n",
       "      <td>7.5</td>\n",
       "      <td>7.5</td>\n",
       "      <td>7.5</td>\n",
       "      <td>7.5</td>\n",
       "      <td>7.5</td>\n",
       "      <td>7.5</td>\n",
       "      <td>7.5</td>\n",
       "      <td>7.5</td>\n",
       "      <td>2.0</td>\n",
       "      <td>1.0</td>\n",
       "    </tr>\n",
       "    <tr>\n",
       "      <th>2</th>\n",
       "      <td>1.0</td>\n",
       "      <td>8.0</td>\n",
       "      <td>8.0</td>\n",
       "      <td>5.5</td>\n",
       "      <td>5.5</td>\n",
       "      <td>10.5</td>\n",
       "      <td>10.5</td>\n",
       "      <td>2.5</td>\n",
       "      <td>4.0</td>\n",
       "      <td>2.5</td>\n",
       "      <td>8.0</td>\n",
       "    </tr>\n",
       "    <tr>\n",
       "      <th>3</th>\n",
       "      <td>5.0</td>\n",
       "      <td>10.5</td>\n",
       "      <td>10.5</td>\n",
       "      <td>5.0</td>\n",
       "      <td>5.0</td>\n",
       "      <td>8.5</td>\n",
       "      <td>8.5</td>\n",
       "      <td>5.0</td>\n",
       "      <td>5.0</td>\n",
       "      <td>2.0</td>\n",
       "      <td>1.0</td>\n",
       "    </tr>\n",
       "    <tr>\n",
       "      <th>4</th>\n",
       "      <td>2.5</td>\n",
       "      <td>7.5</td>\n",
       "      <td>7.5</td>\n",
       "      <td>7.5</td>\n",
       "      <td>7.5</td>\n",
       "      <td>7.5</td>\n",
       "      <td>7.5</td>\n",
       "      <td>7.5</td>\n",
       "      <td>7.5</td>\n",
       "      <td>2.5</td>\n",
       "      <td>1.0</td>\n",
       "    </tr>\n",
       "    <tr>\n",
       "      <th>5</th>\n",
       "      <td>2.5</td>\n",
       "      <td>9.0</td>\n",
       "      <td>9.0</td>\n",
       "      <td>5.0</td>\n",
       "      <td>9.0</td>\n",
       "      <td>9.0</td>\n",
       "      <td>9.0</td>\n",
       "      <td>5.0</td>\n",
       "      <td>5.0</td>\n",
       "      <td>2.5</td>\n",
       "      <td>1.0</td>\n",
       "    </tr>\n",
       "    <tr>\n",
       "      <th>6</th>\n",
       "      <td>3.0</td>\n",
       "      <td>8.5</td>\n",
       "      <td>8.5</td>\n",
       "      <td>4.5</td>\n",
       "      <td>8.5</td>\n",
       "      <td>8.5</td>\n",
       "      <td>8.5</td>\n",
       "      <td>8.5</td>\n",
       "      <td>4.5</td>\n",
       "      <td>1.0</td>\n",
       "      <td>2.0</td>\n",
       "    </tr>\n",
       "    <tr>\n",
       "      <th>7</th>\n",
       "      <td>3.0</td>\n",
       "      <td>7.5</td>\n",
       "      <td>7.5</td>\n",
       "      <td>7.5</td>\n",
       "      <td>7.5</td>\n",
       "      <td>7.5</td>\n",
       "      <td>7.5</td>\n",
       "      <td>7.5</td>\n",
       "      <td>7.5</td>\n",
       "      <td>1.0</td>\n",
       "      <td>2.0</td>\n",
       "    </tr>\n",
       "    <tr>\n",
       "      <th>8</th>\n",
       "      <td>5.5</td>\n",
       "      <td>10.0</td>\n",
       "      <td>5.5</td>\n",
       "      <td>5.5</td>\n",
       "      <td>5.5</td>\n",
       "      <td>10.0</td>\n",
       "      <td>10.0</td>\n",
       "      <td>5.5</td>\n",
       "      <td>5.5</td>\n",
       "      <td>1.5</td>\n",
       "      <td>1.5</td>\n",
       "    </tr>\n",
       "    <tr>\n",
       "      <th>9</th>\n",
       "      <td>3.0</td>\n",
       "      <td>7.5</td>\n",
       "      <td>7.5</td>\n",
       "      <td>7.5</td>\n",
       "      <td>7.5</td>\n",
       "      <td>7.5</td>\n",
       "      <td>7.5</td>\n",
       "      <td>7.5</td>\n",
       "      <td>7.5</td>\n",
       "      <td>2.0</td>\n",
       "      <td>1.0</td>\n",
       "    </tr>\n",
       "    <tr>\n",
       "      <th>10</th>\n",
       "      <td>4.0</td>\n",
       "      <td>10.0</td>\n",
       "      <td>6.5</td>\n",
       "      <td>6.5</td>\n",
       "      <td>6.5</td>\n",
       "      <td>10.0</td>\n",
       "      <td>10.0</td>\n",
       "      <td>6.5</td>\n",
       "      <td>1.5</td>\n",
       "      <td>1.5</td>\n",
       "      <td>3.0</td>\n",
       "    </tr>\n",
       "    <tr>\n",
       "      <th>11</th>\n",
       "      <td>4.0</td>\n",
       "      <td>8.0</td>\n",
       "      <td>8.0</td>\n",
       "      <td>8.0</td>\n",
       "      <td>8.0</td>\n",
       "      <td>8.0</td>\n",
       "      <td>8.0</td>\n",
       "      <td>8.0</td>\n",
       "      <td>2.0</td>\n",
       "      <td>2.0</td>\n",
       "      <td>2.0</td>\n",
       "    </tr>\n",
       "    <tr>\n",
       "      <th>12</th>\n",
       "      <td>3.0</td>\n",
       "      <td>6.0</td>\n",
       "      <td>10.0</td>\n",
       "      <td>6.0</td>\n",
       "      <td>6.0</td>\n",
       "      <td>10.0</td>\n",
       "      <td>6.0</td>\n",
       "      <td>6.0</td>\n",
       "      <td>10.0</td>\n",
       "      <td>1.0</td>\n",
       "      <td>2.0</td>\n",
       "    </tr>\n",
       "    <tr>\n",
       "      <th>13</th>\n",
       "      <td>4.0</td>\n",
       "      <td>6.0</td>\n",
       "      <td>3.0</td>\n",
       "      <td>9.5</td>\n",
       "      <td>6.0</td>\n",
       "      <td>9.5</td>\n",
       "      <td>6.0</td>\n",
       "      <td>9.5</td>\n",
       "      <td>9.5</td>\n",
       "      <td>1.0</td>\n",
       "      <td>2.0</td>\n",
       "    </tr>\n",
       "  </tbody>\n",
       "</table>\n",
       "</div>"
      ],
      "text/plain": [
       "    Model  Epsilon  Decay Epsilon  Softmax  Decay Softmax  UCB1  Tomp. Sampl.  \\\n",
       "0     3.0      7.5            7.5      7.5            7.5   7.5           7.5   \n",
       "1     3.0      7.5            7.5      7.5            7.5   7.5           7.5   \n",
       "2     1.0      8.0            8.0      5.5            5.5  10.5          10.5   \n",
       "3     5.0     10.5           10.5      5.0            5.0   8.5           8.5   \n",
       "4     2.5      7.5            7.5      7.5            7.5   7.5           7.5   \n",
       "5     2.5      9.0            9.0      5.0            9.0   9.0           9.0   \n",
       "6     3.0      8.5            8.5      4.5            8.5   8.5           8.5   \n",
       "7     3.0      7.5            7.5      7.5            7.5   7.5           7.5   \n",
       "8     5.5     10.0            5.5      5.5            5.5  10.0          10.0   \n",
       "9     3.0      7.5            7.5      7.5            7.5   7.5           7.5   \n",
       "10    4.0     10.0            6.5      6.5            6.5  10.0          10.0   \n",
       "11    4.0      8.0            8.0      8.0            8.0   8.0           8.0   \n",
       "12    3.0      6.0           10.0      6.0            6.0  10.0           6.0   \n",
       "13    4.0      6.0            3.0      9.5            6.0   9.5           6.0   \n",
       "\n",
       "    Hedge  EXP3  Less Magn.  G. Prune  \n",
       "0     7.5   7.5         2.0       1.0  \n",
       "1     7.5   7.5         2.0       1.0  \n",
       "2     2.5   4.0         2.5       8.0  \n",
       "3     5.0   5.0         2.0       1.0  \n",
       "4     7.5   7.5         2.5       1.0  \n",
       "5     5.0   5.0         2.5       1.0  \n",
       "6     8.5   4.5         1.0       2.0  \n",
       "7     7.5   7.5         1.0       2.0  \n",
       "8     5.5   5.5         1.5       1.5  \n",
       "9     7.5   7.5         2.0       1.0  \n",
       "10    6.5   1.5         1.5       3.0  \n",
       "11    8.0   2.0         2.0       2.0  \n",
       "12    6.0  10.0         1.0       2.0  \n",
       "13    9.5   9.5         1.0       2.0  "
      ]
     },
     "execution_count": 56,
     "metadata": {},
     "output_type": "execute_result"
    }
   ],
   "source": [
    "df1.rank(axis=1)"
   ]
  },
  {
   "cell_type": "code",
   "execution_count": 57,
   "metadata": {
    "collapsed": false
   },
   "outputs": [
    {
     "data": {
      "text/plain": [
       "Model            3.321429\n",
       "Epsilon          8.107143\n",
       "Decay Epsilon    7.607143\n",
       "Softmax          6.642857\n",
       "Decay Softmax    6.964286\n",
       "UCB1             8.678571\n",
       "Tomp. Sampl.     8.142857\n",
       "Hedge            6.714286\n",
       "EXP3             6.035714\n",
       "Less Magn.       1.750000\n",
       "G. Prune         2.035714\n",
       "dtype: float64"
      ]
     },
     "execution_count": 57,
     "metadata": {},
     "output_type": "execute_result"
    }
   ],
   "source": [
    "df1.rank(axis=1).mean()"
   ]
  },
  {
   "cell_type": "code",
   "execution_count": 58,
   "metadata": {
    "collapsed": false
   },
   "outputs": [
    {
     "data": {
      "text/html": [
       "<div>\n",
       "<table border=\"1\" class=\"dataframe\">\n",
       "  <thead>\n",
       "    <tr style=\"text-align: right;\">\n",
       "      <th></th>\n",
       "      <th>Methods</th>\n",
       "      <th>Model</th>\n",
       "      <th>Epsilon</th>\n",
       "      <th>Decay Epsilon</th>\n",
       "      <th>Softmax</th>\n",
       "      <th>Decay Softmax</th>\n",
       "      <th>UCB1</th>\n",
       "      <th>Tomp. Sampl.</th>\n",
       "      <th>Hedge</th>\n",
       "      <th>EXP3</th>\n",
       "      <th>Less Magn.</th>\n",
       "      <th>G. Prune</th>\n",
       "    </tr>\n",
       "  </thead>\n",
       "  <tbody>\n",
       "    <tr>\n",
       "      <th>0</th>\n",
       "      <td>MLP (Reuters)</td>\n",
       "      <td>0.786</td>\n",
       "      <td>0.79</td>\n",
       "      <td>0.79</td>\n",
       "      <td>0.79</td>\n",
       "      <td>0.79</td>\n",
       "      <td>0.79</td>\n",
       "      <td>0.79</td>\n",
       "      <td>0.79</td>\n",
       "      <td>0.79</td>\n",
       "      <td>0.75</td>\n",
       "      <td>0.74</td>\n",
       "    </tr>\n",
       "    <tr>\n",
       "      <th>1</th>\n",
       "      <td>LeCun (MNIST)</td>\n",
       "      <td>0.980</td>\n",
       "      <td>0.99</td>\n",
       "      <td>0.99</td>\n",
       "      <td>0.99</td>\n",
       "      <td>0.99</td>\n",
       "      <td>0.99</td>\n",
       "      <td>0.99</td>\n",
       "      <td>0.99</td>\n",
       "      <td>0.99</td>\n",
       "      <td>0.97</td>\n",
       "      <td>0.95</td>\n",
       "    </tr>\n",
       "  </tbody>\n",
       "</table>\n",
       "</div>"
      ],
      "text/plain": [
       "         Methods  Model  Epsilon  Decay Epsilon  Softmax  Decay Softmax  UCB1  \\\n",
       "0  MLP (Reuters)  0.786     0.79           0.79     0.79           0.79  0.79   \n",
       "1  LeCun (MNIST)  0.980     0.99           0.99     0.99           0.99  0.99   \n",
       "\n",
       "   Tomp. Sampl.  Hedge  EXP3  Less Magn.  G. Prune  \n",
       "0          0.79   0.79  0.79        0.75      0.74  \n",
       "1          0.99   0.99  0.99        0.97      0.95  "
      ]
     },
     "execution_count": 58,
     "metadata": {},
     "output_type": "execute_result"
    }
   ],
   "source": [
    "df1.head(2)"
   ]
  },
  {
   "cell_type": "code",
   "execution_count": 59,
   "metadata": {
    "collapsed": false
   },
   "outputs": [],
   "source": [
    "data =  np.stack((\n",
    "               df1['Model'], df1['Epsilon'],df1['Decay Epsilon'], df1['Softmax'],\n",
    "               df1['Decay Softmax'], df1['UCB1'], df1['Tomp. Sampl.'],\n",
    "               df1['Hedge'], df1['EXP3'], df1['Less Magn.'], df1['G. Prune']))"
   ]
  },
  {
   "cell_type": "code",
   "execution_count": 60,
   "metadata": {
    "collapsed": false
   },
   "outputs": [
    {
     "name": "stdout",
     "output_type": "stream",
     "text": [
      "FriedmanchisquareResult(statistic=99.942052980132459, pvalue=5.5971866072224732e-17)\n"
     ]
    }
   ],
   "source": [
    "print(friedmanchisquare(df1['Model'], df1['Epsilon'],df1['Decay Epsilon'], df1['Softmax'],\n",
    "               df1['Decay Softmax'], df1['UCB1'], df1['Tomp. Sampl.'],\n",
    "               df1['Hedge'], df1['EXP3'], df1['Less Magn.'], df1['G. Prune']))"
   ]
  },
  {
   "cell_type": "markdown",
   "metadata": {
    "collapsed": false
   },
   "source": [
    "exec(open(\"nemopy.py\").read())\n",
    "nemenyi = NemenyiTestPostHoc(data)\n",
    "meanRanks, pValues = nemenyi.do()"
   ]
  },
  {
   "cell_type": "code",
   "execution_count": 61,
   "metadata": {
    "collapsed": false
   },
   "outputs": [],
   "source": [
    "meanRanks = df1.rank(axis=1).mean() "
   ]
  },
  {
   "cell_type": "code",
   "execution_count": 62,
   "metadata": {
    "collapsed": false
   },
   "outputs": [],
   "source": [
    "lst = list(df1.columns.values)\n",
    "lst.remove('Methods')"
   ]
  },
  {
   "cell_type": "code",
   "execution_count": 63,
   "metadata": {
    "collapsed": false
   },
   "outputs": [
    {
     "data": {
      "text/plain": [
       "11"
      ]
     },
     "execution_count": 63,
     "metadata": {},
     "output_type": "execute_result"
    }
   ],
   "source": [
    "len(lst)"
   ]
  },
  {
   "cell_type": "code",
   "execution_count": 64,
   "metadata": {
    "collapsed": false
   },
   "outputs": [
    {
     "data": {
      "text/plain": [
       "12"
      ]
     },
     "execution_count": 64,
     "metadata": {},
     "output_type": "execute_result"
    }
   ],
   "source": [
    "df1.iloc[1].size"
   ]
  },
  {
   "cell_type": "code",
   "execution_count": 65,
   "metadata": {
    "collapsed": false
   },
   "outputs": [],
   "source": [
    "q = 3.21865# pvalue = 0.05 and number of datasets 3.426041249\n",
    "#q = 3.029694463 # pvalue = 0.1\n",
    "N = (df1['Model'].size)\n",
    "k = (df1.iloc[1].size)-1"
   ]
  },
  {
   "cell_type": "code",
   "execution_count": 66,
   "metadata": {
    "collapsed": false
   },
   "outputs": [],
   "source": [
    "CD = q * sqrt(k*(k+1)/(6.0*N))"
   ]
  },
  {
   "cell_type": "code",
   "execution_count": 67,
   "metadata": {
    "collapsed": false
   },
   "outputs": [
    {
     "data": {
      "text/plain": [
       "4.03479130363995"
      ]
     },
     "execution_count": 67,
     "metadata": {},
     "output_type": "execute_result"
    }
   ],
   "source": [
    "CD"
   ]
  },
  {
   "cell_type": "code",
   "execution_count": 68,
   "metadata": {
    "collapsed": false
   },
   "outputs": [
    {
     "data": {
      "text/plain": [
       "['Model',\n",
       " 'Epsilon',\n",
       " 'Decay Epsilon',\n",
       " 'Softmax',\n",
       " 'Decay Softmax',\n",
       " 'UCB1',\n",
       " 'Tomp. Sampl.',\n",
       " 'Hedge',\n",
       " 'EXP3',\n",
       " 'Less Magn.',\n",
       " 'G. Prune']"
      ]
     },
     "execution_count": 68,
     "metadata": {},
     "output_type": "execute_result"
    }
   ],
   "source": [
    "lst"
   ]
  },
  {
   "cell_type": "code",
   "execution_count": 69,
   "metadata": {
    "collapsed": false
   },
   "outputs": [
    {
     "name": "stdout",
     "output_type": "stream",
     "text": [
      "\n",
      " Model 3.32142857143\n",
      "\n",
      " Epsilon 8.10714285714\n",
      "\n",
      " Decay Epsilon 7.60714285714\n",
      "\n",
      " Softmax 6.64285714286\n",
      "\n",
      " Decay Softmax 6.96428571429\n",
      "\n",
      " UCB1 8.67857142857\n",
      "\n",
      " Tomp. Sampl. 8.14285714286\n",
      "\n",
      " Hedge 6.71428571429\n",
      "\n",
      " EXP3 6.03571428571\n",
      "\n",
      " Less Magn. 1.75\n",
      "\n",
      " G. Prune 2.03571428571\n"
     ]
    }
   ],
   "source": [
    "new_model_pairs = []\n",
    "for m1,m2 in zip(meanRanks,lst): \n",
    "    print('\\n',m2, m1, )"
   ]
  },
  {
   "cell_type": "code",
   "execution_count": 70,
   "metadata": {
    "collapsed": false
   },
   "outputs": [
    {
     "data": {
      "application/pdf": "[encoded data removed]",
      "image/png": "[encoded data removed]",
      "text/plain": [
       "<matplotlib.figure.Figure at 0x10e132518>"
      ]
     },
     "metadata": {},
     "output_type": "display_data"
    }
   ],
   "source": [
    "# input data\n",
    "cd = CD\n",
    "limits=(10,-1)\n",
    "fig, ax = plt.subplots(figsize=(20,10))\n",
    "plt.subplots_adjust(left=0.2, right=0.8)\n",
    "\n",
    "# set up plot\n",
    "ax.set_xlim(limits)\n",
    "ax.set_ylim(0,1)\n",
    "ax.spines['top'].set_position(('axes', 0.6))\n",
    "#ax.xaxis.tick_top()\n",
    "ax.xaxis.set_ticks_position('top')\n",
    "ax.yaxis.set_visible(False)\n",
    "for pos in [\"bottom\", \"left\", \"right\"]:\n",
    "    ax.spines[pos].set_visible(False)\n",
    "\n",
    "# CD bar\n",
    "ax.plot([limits[0],limits[0]-cd], [.9,.9], color=\"k\")\n",
    "ax.plot([limits[0],limits[0]], [.9-0.03,.9+0.03], color=\"k\")\n",
    "ax.plot([limits[0]-cd,limits[0]-cd], [.9-0.03,.9+0.03], color=\"k\") \n",
    "ax.text(limits[0]-cd/2., 0.92, \"Critical Difference (CD) = 3.21865\", ha=\"center\", va=\"bottom\") \n",
    "\n",
    "# annotations\n",
    "bbox_props = dict(boxstyle=\"square,pad=0.3\", fc=\"w\", ec=\"k\", lw=0.72)\n",
    "arrowprops=dict(arrowstyle=\"-\",connectionstyle=\"angle,angleA=0,angleB=90\")\n",
    "kw = dict(xycoords='data',textcoords=\"axes fraction\",\n",
    "          arrowprops=arrowprops, bbox=bbox_props, va=\"center\")\n",
    "\n",
    "\n",
    "ax.annotate(\"UCB1\", xy=(meanRanks[5], 0.6), xytext=(0,-0.2),ha=\"right\",  **kw, color=\"r\")\n",
    "ax.annotate(\"Thmop. Sampling\", xy=(meanRanks[6], 0.6), xytext=(0,-0.1),ha=\"right\",  **kw, color=\"g\")\n",
    "ax.annotate(\"E Greedy\", xy=(meanRanks[1], 0.6), xytext=(0,0),ha=\"right\",  **kw, color=\"b\")\n",
    "ax.annotate(\"Decay E Gr.\", xy=(meanRanks[2], 0.6), xytext=(0,0.1),ha=\"right\",  **kw, color=\"y\")\n",
    "ax.annotate(\"Decay SM\", xy=(meanRanks[4], 0.6), xytext=(0,0.2),ha=\"right\",  **kw, color=\"m\")\n",
    "ax.annotate(\"Hedge\", xy=(meanRanks[7], 0.6), xytext=(0,0.3),ha=\"right\",  **kw, color=\"0.75\")\n",
    "\n",
    "ax.annotate(\"Softmax\", xy=(meanRanks[3], 0.6), xytext=(1,-0.1),ha=\"left\",  **kw, color=\"r\")\n",
    "ax.annotate(\"EXP3\", xy=(meanRanks[8], 0.6), xytext=(1,0),ha=\"left\",  **kw, color=\"g\")\n",
    "ax.annotate(\"Model\", xy=(meanRanks[0], 0.6), xytext=(1,0.1),ha=\"left\",  **kw, color=\"b\")\n",
    "ax.annotate(\"Greedy Prune\", xy=(meanRanks[10], 0.6), xytext=(1,0.2),ha=\"right\",  **kw, color=\"y\")\n",
    "ax.annotate(\"Less Magm.\", xy=(meanRanks[9], 0.6), xytext=(1,0.3),ha=\"right\",  **kw, color=\"m\")\n",
    "\n",
    "#bars\n",
    "ax.plot([meanRanks[5],meanRanks[5]-CD],[0.58,0.58], color=\"r\", lw=3)\n",
    "ax.plot([meanRanks[6],meanRanks[6]-CD],[0.56,0.56], color=\"g\", lw=3)\n",
    "ax.plot([meanRanks[1],meanRanks[1]-CD],[0.54,0.54], color=\"b\", lw=3)\n",
    "ax.plot([meanRanks[2],meanRanks[2]-CD],[0.52,0.52], color=\"y\", lw=3)\n",
    "ax.plot([meanRanks[4],meanRanks[4]-CD],[0.5,0.5], color=\"m\", lw=3)\n",
    "ax.plot([meanRanks[7],meanRanks[7]-CD],[0.48,0.48], color=\"0.75\", lw=3)\n",
    "ax.plot([meanRanks[3],meanRanks[3]-CD],[0.46,0.46], color=\"r\", lw=3)\n",
    "ax.plot([meanRanks[8],meanRanks[8]-CD],[0.44,0.44], color=\"g\", lw=3)\n",
    "ax.plot([meanRanks[0],meanRanks[0]-CD],[0.42,0.42], color=\"b\", lw=3)\n",
    "ax.plot([meanRanks[10],meanRanks[10]-CD],[0.40,0.40], color=\"y\", lw=3)\n",
    "ax.plot([meanRanks[9],meanRanks[9]-CD],[0.38,0.38], color=\"m\", lw=3)\n",
    "\n",
    "\n",
    "\n",
    "\n",
    "\n",
    "\n",
    "plt.show()"
   ]
  },
  {
   "cell_type": "code",
   "execution_count": null,
   "metadata": {
    "collapsed": true
   },
   "outputs": [],
   "source": []
  }
 ],
 "metadata": {
  "kernelspec": {
   "display_name": "Python 3",
   "language": "python",
   "name": "python3"
  },
  "language_info": {
   "codemirror_mode": {
    "name": "ipython",
    "version": 3
   },
   "file_extension": ".py",
   "mimetype": "text/x-python",
   "name": "python",
   "nbconvert_exporter": "python",
   "pygments_lexer": "ipython3",
   "version": "3.6.0"
  }
 },
 "nbformat": 4,
 "nbformat_minor": 2
}
