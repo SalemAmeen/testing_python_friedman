{
 "cells": [
  {
   "cell_type": "markdown",
   "metadata": {
    "collapsed": true
   },
   "source": [
    "# Import needed libraries"
   ]
  },
  {
   "cell_type": "markdown",
   "metadata": {
    "collapsed": true
   },
   "source": [
    "## Import libraries for manipulating the data and statistic"
   ]
  },
  {
   "cell_type": "code",
   "execution_count": 25,
   "metadata": {
    "collapsed": false
   },
   "outputs": [],
   "source": [
    "import numpy as np\n",
    "import pandas as pd\n",
    "import matplotlib.pyplot as plt\n",
    "import scipy.stats as stats\n",
    "from statsmodels.stats.weightstats import  ttest_ind as t_test\n",
    "from scipy.stats import ttest_1samp, wilcoxon, ttest_ind, mannwhitneyu\n",
    "import scipy.special as special\n",
    "import emoji\n",
    "from math import pi\n",
    "from statsmodels.stats.multicomp import pairwise_tukeyhsd, MultiComparison\n",
    "from statsmodels.formula.api import ols\n",
    "import statsmodels.stats.api as sms\n",
    "from scipy.stats import friedmanchisquare, rankdata, norm\n",
    "from scipy.special import gammaln\n",
    "from math import sqrt"
   ]
  },
  {
   "cell_type": "markdown",
   "metadata": {
    "collapsed": true
   },
   "source": [
    "## Import libraries for static ploting"
   ]
  },
  {
   "cell_type": "code",
   "execution_count": 26,
   "metadata": {
    "collapsed": true
   },
   "outputs": [],
   "source": [
    "import matplotlib.pyplot as plt\n",
    "import matplotlib.gridspec as gridspec\n",
    "%matplotlib inline\n",
    "from IPython.display import set_matplotlib_formats\n",
    "set_matplotlib_formats('png', 'pdf')\n",
    "# some nice colors from http://colorbrewer2.org/\n",
    "COLOR1 = '#7fc97f'\n",
    "COLOR2 = '#beaed4'\n",
    "COLOR3 = '#fdc086'\n",
    "COLOR4 = '#ffff99'\n",
    "COLOR5 = '#386cb0'"
   ]
  },
  {
   "cell_type": "markdown",
   "metadata": {
    "collapsed": true
   },
   "source": [
    "# Statring the test and visulize the data"
   ]
  },
  {
   "cell_type": "markdown",
   "metadata": {
    "collapsed": true
   },
   "source": [
    "## Load the data for pruning the weights using random expoloration"
   ]
  },
  {
   "cell_type": "code",
   "execution_count": 27,
   "metadata": {
    "collapsed": false
   },
   "outputs": [
    {
     "data": {
      "text/html": [
       "<div>\n",
       "<table border=\"1\" class=\"dataframe\">\n",
       "  <thead>\n",
       "    <tr style=\"text-align: right;\">\n",
       "      <th></th>\n",
       "      <th>Dataset</th>\n",
       "      <th>Model</th>\n",
       "      <th>E.Greedy</th>\n",
       "      <th>WSLS</th>\n",
       "      <th>UCB1</th>\n",
       "      <th>KLUCB</th>\n",
       "      <th>BayUCB</th>\n",
       "      <th>OBD</th>\n",
       "      <th>OBS</th>\n",
       "      <th>Thom. Sam</th>\n",
       "      <th>Magnitude</th>\n",
       "      <th>random</th>\n",
       "    </tr>\n",
       "  </thead>\n",
       "  <tbody>\n",
       "    <tr>\n",
       "      <th>0</th>\n",
       "      <td>banknote authentication</td>\n",
       "      <td>0.86</td>\n",
       "      <td>0.86</td>\n",
       "      <td>0.89</td>\n",
       "      <td>0.86</td>\n",
       "      <td>0.86</td>\n",
       "      <td>0.86</td>\n",
       "      <td>0.89</td>\n",
       "      <td>0.87</td>\n",
       "      <td>0.86</td>\n",
       "      <td>4.08</td>\n",
       "      <td>5.98</td>\n",
       "    </tr>\n",
       "    <tr>\n",
       "      <th>1</th>\n",
       "      <td>Blood Tra. Service Centre</td>\n",
       "      <td>0.94</td>\n",
       "      <td>0.93</td>\n",
       "      <td>1.05</td>\n",
       "      <td>0.93</td>\n",
       "      <td>0.93</td>\n",
       "      <td>0.93</td>\n",
       "      <td>0.93</td>\n",
       "      <td>0.93</td>\n",
       "      <td>0.93</td>\n",
       "      <td>1.29</td>\n",
       "      <td>0.93</td>\n",
       "    </tr>\n",
       "    <tr>\n",
       "      <th>2</th>\n",
       "      <td>Credit Approval</td>\n",
       "      <td>0.97</td>\n",
       "      <td>0.95</td>\n",
       "      <td>0.93</td>\n",
       "      <td>0.93</td>\n",
       "      <td>0.96</td>\n",
       "      <td>0.96</td>\n",
       "      <td>1.98</td>\n",
       "      <td>9.47</td>\n",
       "      <td>1.63</td>\n",
       "      <td>3.40</td>\n",
       "      <td>23.04</td>\n",
       "    </tr>\n",
       "    <tr>\n",
       "      <th>3</th>\n",
       "      <td>Haberman's Survival</td>\n",
       "      <td>0.94</td>\n",
       "      <td>0.93</td>\n",
       "      <td>0.94</td>\n",
       "      <td>0.93</td>\n",
       "      <td>0.93</td>\n",
       "      <td>0.93</td>\n",
       "      <td>0.93</td>\n",
       "      <td>0.93</td>\n",
       "      <td>0.93</td>\n",
       "      <td>1.48</td>\n",
       "      <td>1.50</td>\n",
       "    </tr>\n",
       "    <tr>\n",
       "      <th>4</th>\n",
       "      <td>Liver Disorders</td>\n",
       "      <td>0.95</td>\n",
       "      <td>0.95</td>\n",
       "      <td>0.96</td>\n",
       "      <td>0.95</td>\n",
       "      <td>0.95</td>\n",
       "      <td>0.95</td>\n",
       "      <td>0.95</td>\n",
       "      <td>1.70</td>\n",
       "      <td>0.95</td>\n",
       "      <td>1.47</td>\n",
       "      <td>1.00</td>\n",
       "    </tr>\n",
       "    <tr>\n",
       "      <th>5</th>\n",
       "      <td>MAGIC Gamma Tele.</td>\n",
       "      <td>0.91</td>\n",
       "      <td>0.95</td>\n",
       "      <td>1.17</td>\n",
       "      <td>0.91</td>\n",
       "      <td>0.91</td>\n",
       "      <td>0.91</td>\n",
       "      <td>0.92</td>\n",
       "      <td>0.97</td>\n",
       "      <td>0.91</td>\n",
       "      <td>3.34</td>\n",
       "      <td>1.28</td>\n",
       "    </tr>\n",
       "    <tr>\n",
       "      <th>6</th>\n",
       "      <td>Mammographic Mass</td>\n",
       "      <td>0.94</td>\n",
       "      <td>0.94</td>\n",
       "      <td>0.94</td>\n",
       "      <td>0.94</td>\n",
       "      <td>0.94</td>\n",
       "      <td>0.94</td>\n",
       "      <td>0.94</td>\n",
       "      <td>0.94</td>\n",
       "      <td>0.94</td>\n",
       "      <td>3.44</td>\n",
       "      <td>0.98</td>\n",
       "    </tr>\n",
       "    <tr>\n",
       "      <th>7</th>\n",
       "      <td>MONK's Problems</td>\n",
       "      <td>0.95</td>\n",
       "      <td>0.97</td>\n",
       "      <td>1.14</td>\n",
       "      <td>0.95</td>\n",
       "      <td>0.95</td>\n",
       "      <td>0.95</td>\n",
       "      <td>0.95</td>\n",
       "      <td>6.13</td>\n",
       "      <td>0.95</td>\n",
       "      <td>1.00</td>\n",
       "      <td>0.98</td>\n",
       "    </tr>\n",
       "    <tr>\n",
       "      <th>8</th>\n",
       "      <td>Connectionist Bench</td>\n",
       "      <td>0.97</td>\n",
       "      <td>1.14</td>\n",
       "      <td>0.97</td>\n",
       "      <td>0.97</td>\n",
       "      <td>0.97</td>\n",
       "      <td>0.97</td>\n",
       "      <td>0.97</td>\n",
       "      <td>0.97</td>\n",
       "      <td>1.92</td>\n",
       "      <td>1.01</td>\n",
       "      <td>1.01</td>\n",
       "    </tr>\n",
       "    <tr>\n",
       "      <th>9</th>\n",
       "      <td>Spambase</td>\n",
       "      <td>0.93</td>\n",
       "      <td>0.95</td>\n",
       "      <td>0.94</td>\n",
       "      <td>0.94</td>\n",
       "      <td>0.94</td>\n",
       "      <td>0.94</td>\n",
       "      <td>0.95</td>\n",
       "      <td>5.22</td>\n",
       "      <td>0.94</td>\n",
       "      <td>2.52</td>\n",
       "      <td>5.86</td>\n",
       "    </tr>\n",
       "    <tr>\n",
       "      <th>10</th>\n",
       "      <td>SPECTF Heart</td>\n",
       "      <td>0.91</td>\n",
       "      <td>0.92</td>\n",
       "      <td>0.91</td>\n",
       "      <td>0.91</td>\n",
       "      <td>0.91</td>\n",
       "      <td>0.91</td>\n",
       "      <td>0.91</td>\n",
       "      <td>0.99</td>\n",
       "      <td>0.93</td>\n",
       "      <td>13.10</td>\n",
       "      <td>0.91</td>\n",
       "    </tr>\n",
       "    <tr>\n",
       "      <th>11</th>\n",
       "      <td>Tic-Tac-Toe Endgame</td>\n",
       "      <td>0.91</td>\n",
       "      <td>0.91</td>\n",
       "      <td>2.43</td>\n",
       "      <td>0.91</td>\n",
       "      <td>0.91</td>\n",
       "      <td>0.91</td>\n",
       "      <td>0.91</td>\n",
       "      <td>0.92</td>\n",
       "      <td>0.91</td>\n",
       "      <td>22.15</td>\n",
       "      <td>12.77</td>\n",
       "    </tr>\n",
       "  </tbody>\n",
       "</table>\n",
       "</div>"
      ],
      "text/plain": [
       "                      Dataset  Model  E.Greedy  WSLS  UCB1  KLUCB  BayUCB  \\\n",
       "0     banknote authentication   0.86      0.86  0.89  0.86   0.86    0.86   \n",
       "1   Blood Tra. Service Centre   0.94      0.93  1.05  0.93   0.93    0.93   \n",
       "2             Credit Approval   0.97      0.95  0.93  0.93   0.96    0.96   \n",
       "3         Haberman's Survival   0.94      0.93  0.94  0.93   0.93    0.93   \n",
       "4             Liver Disorders   0.95      0.95  0.96  0.95   0.95    0.95   \n",
       "5           MAGIC Gamma Tele.   0.91      0.95  1.17  0.91   0.91    0.91   \n",
       "6           Mammographic Mass   0.94      0.94  0.94  0.94   0.94    0.94   \n",
       "7             MONK's Problems   0.95      0.97  1.14  0.95   0.95    0.95   \n",
       "8         Connectionist Bench   0.97      1.14  0.97  0.97   0.97    0.97   \n",
       "9                    Spambase   0.93      0.95  0.94  0.94   0.94    0.94   \n",
       "10               SPECTF Heart   0.91      0.92  0.91  0.91   0.91    0.91   \n",
       "11        Tic-Tac-Toe Endgame   0.91      0.91  2.43  0.91   0.91    0.91   \n",
       "\n",
       "     OBD   OBS  Thom. Sam  Magnitude  random  \n",
       "0   0.89  0.87       0.86       4.08    5.98  \n",
       "1   0.93  0.93       0.93       1.29    0.93  \n",
       "2   1.98  9.47       1.63       3.40   23.04  \n",
       "3   0.93  0.93       0.93       1.48    1.50  \n",
       "4   0.95  1.70       0.95       1.47    1.00  \n",
       "5   0.92  0.97       0.91       3.34    1.28  \n",
       "6   0.94  0.94       0.94       3.44    0.98  \n",
       "7   0.95  6.13       0.95       1.00    0.98  \n",
       "8   0.97  0.97       1.92       1.01    1.01  \n",
       "9   0.95  5.22       0.94       2.52    5.86  \n",
       "10  0.91  0.99       0.93      13.10    0.91  \n",
       "11  0.91  0.92       0.91      22.15   12.77  "
      ]
     },
     "execution_count": 27,
     "metadata": {},
     "output_type": "execute_result"
    }
   ],
   "source": [
    "datafile = \"all.csv\"\n",
    "datafileLeNet = \"LecunPruningWeights.csv\"\n",
    "df1 = pd.read_csv(datafile)\n",
    "dfLcun = pd.read_csv(datafileLeNet)\n",
    "df1"
   ]
  },
  {
   "cell_type": "code",
   "execution_count": 28,
   "metadata": {
    "collapsed": false
   },
   "outputs": [
    {
     "data": {
      "text/html": [
       "<div>\n",
       "<table border=\"1\" class=\"dataframe\">\n",
       "  <thead>\n",
       "    <tr style=\"text-align: right;\">\n",
       "      <th></th>\n",
       "      <th>Layer</th>\n",
       "      <th>Model</th>\n",
       "      <th>TS Prune half the weights</th>\n",
       "      <th>EG Prune half the weights</th>\n",
       "      <th>UCB1 Prune half the weights</th>\n",
       "    </tr>\n",
       "  </thead>\n",
       "  <tbody>\n",
       "    <tr>\n",
       "      <th>0</th>\n",
       "      <td>FC</td>\n",
       "      <td>0.9906</td>\n",
       "      <td>0.993</td>\n",
       "      <td>0.9908</td>\n",
       "      <td>0.994</td>\n",
       "    </tr>\n",
       "    <tr>\n",
       "      <th>1</th>\n",
       "      <td>Conv</td>\n",
       "      <td>0.9906</td>\n",
       "      <td>0.991</td>\n",
       "      <td>0.9907</td>\n",
       "      <td>0.992</td>\n",
       "    </tr>\n",
       "  </tbody>\n",
       "</table>\n",
       "</div>"
      ],
      "text/plain": [
       "  Layer   Model  TS Prune half the weights  EG Prune half the weights  \\\n",
       "0    FC  0.9906                      0.993                     0.9908   \n",
       "1  Conv  0.9906                      0.991                     0.9907   \n",
       "\n",
       "   UCB1 Prune half the weights  \n",
       "0                        0.994  \n",
       "1                        0.992  "
      ]
     },
     "execution_count": 28,
     "metadata": {},
     "output_type": "execute_result"
    }
   ],
   "source": [
    "dfLcun"
   ]
  },
  {
   "cell_type": "markdown",
   "metadata": {},
   "source": [
    "## Using Nonparametric tests\n",
    "\n",
    "I am not sure the data comes from Guassian distribution  and less than 30 sample \n",
    "\n",
    "### alternative to paired t-test when data has an ordinary scale or when not\n",
    "### normally distributed"
   ]
  },
  {
   "cell_type": "markdown",
   "metadata": {},
   "source": [
    "## Start comparining all pruning algorithms"
   ]
  },
  {
   "cell_type": "markdown",
   "metadata": {},
   "source": [
    "### Compute friedman test test by ranks between pruning methods"
   ]
  },
  {
   "cell_type": "code",
   "execution_count": 29,
   "metadata": {
    "collapsed": true
   },
   "outputs": [],
   "source": [
    "data =  np.stack((df1['Model'], df1['E.Greedy'],df1['WSLS'],df1['UCB1'],\n",
    "                 df1['KLUCB'],df1['BayUCB'],df1['OBD'],df1['OBS'],\n",
    "                 df1['Thom. Sam'],df1['Magnitude'],df1['random']))"
   ]
  },
  {
   "cell_type": "code",
   "execution_count": 30,
   "metadata": {
    "collapsed": true
   },
   "outputs": [],
   "source": [
    "df_copy = df1.copy()\n",
    "del df_copy['Dataset']\n",
    "data =  np.stack([df_copy[col] for col in df_copy.columns])"
   ]
  },
  {
   "cell_type": "code",
   "execution_count": 31,
   "metadata": {
    "collapsed": false
   },
   "outputs": [
    {
     "name": "stdout",
     "output_type": "stream",
     "text": [
      "FriedmanchisquareResult(statistic=63.759803921568682, pvalue=6.9943841457143223e-10)\n"
     ]
    }
   ],
   "source": [
    "print(friedmanchisquare(data[0], data[1], data[2], data[3], data[4], data[5], data[6],data[7],\n",
    "                            data[8],data[9],data[10]))"
   ]
  },
  {
   "cell_type": "code",
   "execution_count": 32,
   "metadata": {
    "collapsed": false
   },
   "outputs": [],
   "source": [
    "exec(open(\"nemopy.py\").read())\n",
    "nemenyi = NemenyiTestPostHoc(data)\n",
    "meanRanks, pValues = nemenyi.do()"
   ]
  },
  {
   "cell_type": "code",
   "execution_count": 33,
   "metadata": {
    "collapsed": false
   },
   "outputs": [
    {
     "data": {
      "text/plain": [
       "array([ 1.        ,  1.        ,  1.        ,  1.        ,  1.        ,\n",
       "        1.        ,  1.        ,  1.        ,  1.        ,  1.        ,\n",
       "        0.99955572])"
      ]
     },
     "execution_count": 33,
     "metadata": {},
     "output_type": "execute_result"
    }
   ],
   "source": [
    "pValues[9]"
   ]
  },
  {
   "cell_type": "code",
   "execution_count": 34,
   "metadata": {
    "collapsed": false
   },
   "outputs": [
    {
     "data": {
      "text/plain": [
       "array([ 1.        ,  0.99969133,  0.8827311 ,  0.99990825,  0.99999614,\n",
       "        0.99999614,  0.99999614,  0.44967672,  0.99999801,  0.00308094,\n",
       "        0.04812467])"
      ]
     },
     "execution_count": 34,
     "metadata": {},
     "output_type": "execute_result"
    }
   ],
   "source": [
    "pValues[0]"
   ]
  },
  {
   "cell_type": "code",
   "execution_count": 35,
   "metadata": {
    "collapsed": true
   },
   "outputs": [],
   "source": [
    "lst = list(df1.columns.values)\n",
    "lst.remove('Dataset')"
   ]
  },
  {
   "cell_type": "code",
   "execution_count": 36,
   "metadata": {
    "collapsed": false
   },
   "outputs": [
    {
     "data": {
      "text/plain": [
       "11"
      ]
     },
     "execution_count": 36,
     "metadata": {},
     "output_type": "execute_result"
    }
   ],
   "source": [
    "len(lst)"
   ]
  },
  {
   "cell_type": "code",
   "execution_count": 37,
   "metadata": {
    "collapsed": false
   },
   "outputs": [
    {
     "data": {
      "text/plain": [
       "12"
      ]
     },
     "execution_count": 37,
     "metadata": {},
     "output_type": "execute_result"
    }
   ],
   "source": [
    "df1.iloc[1].size"
   ]
  },
  {
   "cell_type": "code",
   "execution_count": 38,
   "metadata": {
    "collapsed": false
   },
   "outputs": [],
   "source": [
    "q = 3.2# pvalue = 0.05 and number of datasets 3.218653901\n",
    "#q = 3.029694463 # pvalue = 0.1\n",
    "N = (df1['Model'].size)\n",
    "k = (df1.iloc[1].size)-1"
   ]
  },
  {
   "cell_type": "code",
   "execution_count": 39,
   "metadata": {
    "collapsed": false
   },
   "outputs": [],
   "source": [
    "CD = q * sqrt(k*(k+1)/(6.0*N))"
   ]
  },
  {
   "cell_type": "code",
   "execution_count": 40,
   "metadata": {
    "collapsed": false
   },
   "outputs": [
    {
     "data": {
      "text/plain": [
       "4.3328204824725125"
      ]
     },
     "execution_count": 40,
     "metadata": {},
     "output_type": "execute_result"
    }
   ],
   "source": [
    "CD"
   ]
  },
  {
   "cell_type": "code",
   "execution_count": 41,
   "metadata": {
    "collapsed": false
   },
   "outputs": [
    {
     "data": {
      "text/plain": [
       "['Model',\n",
       " 'E.Greedy',\n",
       " 'WSLS',\n",
       " 'UCB1',\n",
       " 'KLUCB',\n",
       " 'BayUCB',\n",
       " 'OBD',\n",
       " 'OBS',\n",
       " 'Thom. Sam',\n",
       " 'Magnitude',\n",
       " 'random']"
      ]
     },
     "execution_count": 41,
     "metadata": {},
     "output_type": "execute_result"
    }
   ],
   "source": [
    "lst"
   ]
  },
  {
   "cell_type": "code",
   "execution_count": 42,
   "metadata": {
    "collapsed": false
   },
   "outputs": [
    {
     "name": "stdout",
     "output_type": "stream",
     "text": [
      "\n",
      " Model 4.625\n",
      "\n",
      " E.Greedy 5.625\n",
      "\n",
      " WSLS 6.79166666667\n",
      "\n",
      " UCB1 3.75\n",
      "\n",
      " KLUCB 4.0\n",
      "\n",
      " BayUCB 4.0\n",
      "\n",
      " OBD 5.25\n",
      "\n",
      " OBS 7.70833333333\n",
      "\n",
      " Thom. Sam 5.20833333333\n",
      "\n",
      " Magnitude 10.0416666667\n",
      "\n",
      " random 9.0\n"
     ]
    }
   ],
   "source": [
    "new_model_pairs = []\n",
    "for m1,m2 in zip(meanRanks,lst): \n",
    "    print('\\n',m2, m1, )"
   ]
  },
  {
   "cell_type": "code",
   "execution_count": 43,
   "metadata": {
    "collapsed": false
   },
   "outputs": [
    {
     "data": {
      "application/pdf": "[encoded data removed]",
      "image/png": "[encoded data removed]",
      "text/plain": [
       "<matplotlib.figure.Figure at 0x10cec6470>"
      ]
     },
     "metadata": {},
     "output_type": "display_data"
    }
   ],
   "source": [
    "# input data\n",
    "cd = CD\n",
    "\n",
    "limits=(15,1)\n",
    "\n",
    "fig, ax = plt.subplots(figsize=(20,3.6))\n",
    "plt.subplots_adjust(left=0.2, right=0.8)\n",
    "\n",
    "# set up plot\n",
    "ax.set_xlim(limits)\n",
    "ax.set_ylim(0,1)\n",
    "ax.spines['top'].set_position(('axes', 0.6))\n",
    "#ax.xaxis.tick_top()\n",
    "ax.xaxis.set_ticks_position('top')\n",
    "ax.yaxis.set_visible(False)\n",
    "for pos in [\"bottom\", \"left\", \"right\"]:\n",
    "    ax.spines[pos].set_visible(False)\n",
    "\n",
    "# CD bar\n",
    "ax.plot([limits[0],limits[0]-cd], [.9,.9], color=\"k\")\n",
    "ax.plot([limits[0],limits[0]], [.9-0.03,.9+0.03], color=\"k\")\n",
    "ax.plot([limits[0]-cd,limits[0]-cd], [.9-0.03,.9+0.03], color=\"k\") \n",
    "ax.text(limits[0]-cd/2., 0.92, \"Critical Difference (CD) = 4.33\", ha=\"center\", va=\"bottom\") \n",
    "\n",
    "# annotations\n",
    "bbox_props = dict(boxstyle=\"square,pad=0.3\", fc=\"w\", ec=\"k\", lw=0.72)\n",
    "arrowprops=dict(arrowstyle=\"-\",connectionstyle=\"angle,angleA=0,angleB=90\")\n",
    "kw = dict(xycoords='data',textcoords=\"axes fraction\",\n",
    "          arrowprops=arrowprops, bbox=bbox_props, va=\"center\")\n",
    "\n",
    "ax.annotate(\"OBD\", xy=(meanRanks[6], 0.6), xytext=(0,-0.6),ha=\"right\",  **kw, color=\"k\")\n",
    "ax.annotate(\"E.Greedy\", xy=(meanRanks[1], 0.6), xytext=(0,-0.4),ha=\"right\",  **kw, color=\"m\")\n",
    "ax.annotate(\"WSLS\", xy=(meanRanks[2], 0.6), xytext=(0,-0.2),ha=\"right\",  **kw, color=\"y\")\n",
    "ax.annotate(\"OBS\", xy=(meanRanks[7], 0.6), xytext=(0,0),ha=\"right\",  **kw, color=\"k\")\n",
    "ax.annotate(\"Random\", xy=(meanRanks[10], 0.6), xytext=(0,0.2),ha=\"right\",  **kw, color=\"k\")\n",
    "ax.annotate(\"Magnitude\", xy=(meanRanks[9], 0.6), xytext=(0,0.4),ha=\"right\",  **kw, color=\"k\")\n",
    "\n",
    "ax.annotate(\"Thom. Sam\", xy=(meanRanks[8], 0.6), xytext=(1,-0.4),ha=\"left\",  **kw, color=\"b\")\n",
    "ax.annotate(\"Model\", xy=(meanRanks[0], 0.6), xytext=(1,-0.2),ha=\"left\",  **kw, color=\"k\")\n",
    "ax.annotate(\"KLUCB\", xy=(meanRanks[4], 0.6), xytext=(1,0),ha=\"left\",  **kw, color=\"g\")\n",
    "ax.annotate(\"BayesUCB\", xy=(meanRanks[5], 0.6), xytext=(1,0.2),ha=\"left\",  **kw, color=\"g\")\n",
    "ax.annotate(\"UCB1\", xy=(meanRanks[3], 0.6), xytext=(1,0.4),ha=\"left\",  **kw, color=\"r\")\n",
    "\n",
    "\n",
    "#bars\n",
    "ax.plot([meanRanks[3],meanRanks[3]+CD],[0.55,0.55], color=\"r\", lw=3)\n",
    "ax.plot([meanRanks[5],meanRanks[5]+CD],[0.45,0.45], color=\"g\", lw=3)\n",
    "ax.plot([meanRanks[8],meanRanks[8]+CD],[0.35,0.35], color=\"b\", lw=3)\n",
    "ax.plot([meanRanks[2],meanRanks[2]+CD],[0.15,0.15], color=\"y\", lw=3)\n",
    "ax.plot([meanRanks[1],meanRanks[1]+CD],[0.08,0.08], color=\"m\", lw=3)\n",
    "\n",
    "\n",
    "plt.show()"
   ]
  },
  {
   "cell_type": "code",
   "execution_count": 54,
   "metadata": {
    "collapsed": true
   },
   "outputs": [],
   "source": [
    "q = 2.977\n",
    "CD = q * sqrt(k*(k+1)/(6.0*N))\n"
   ]
  },
  {
   "cell_type": "code",
   "execution_count": 55,
   "metadata": {
    "collapsed": false
   },
   "outputs": [
    {
     "data": {
      "text/plain": [
       "4.030877055100208"
      ]
     },
     "execution_count": 55,
     "metadata": {},
     "output_type": "execute_result"
    }
   ],
   "source": [
    "CD"
   ]
  },
  {
   "cell_type": "code",
   "execution_count": 56,
   "metadata": {
    "collapsed": false
   },
   "outputs": [
    {
     "data": {
      "application/pdf": "[encoded data removed]",
      "image/png": "[encoded data removed]",
      "text/plain": [
       "<matplotlib.figure.Figure at 0x10d2604a8>"
      ]
     },
     "metadata": {},
     "output_type": "display_data"
    }
   ],
   "source": [
    "# input data\n",
    "cd = CD\n",
    "\n",
    "limits=(15,1)\n",
    "\n",
    "fig, ax = plt.subplots(figsize=(20,3.6))\n",
    "plt.subplots_adjust(left=0.2, right=0.8)\n",
    "\n",
    "# set up plot\n",
    "ax.set_xlim(limits)\n",
    "ax.set_ylim(0,1)\n",
    "ax.spines['top'].set_position(('axes', 0.6))\n",
    "#ax.xaxis.tick_top()\n",
    "ax.xaxis.set_ticks_position('top')\n",
    "ax.yaxis.set_visible(False)\n",
    "for pos in [\"bottom\", \"left\", \"right\"]:\n",
    "    ax.spines[pos].set_visible(False)\n",
    "\n",
    "# CD bar\n",
    "ax.plot([limits[0],limits[0]-cd], [.9,.9], color=\"k\")\n",
    "ax.plot([limits[0],limits[0]], [.9-0.03,.9+0.03], color=\"k\")\n",
    "ax.plot([limits[0]-cd,limits[0]-cd], [.9-0.03,.9+0.03], color=\"k\") \n",
    "ax.text(limits[0]-cd/2., 0.92, \"Critical Difference (CD) = 4.03\", ha=\"center\", va=\"bottom\") \n",
    "\n",
    "# annotations\n",
    "bbox_props = dict(boxstyle=\"square,pad=0.3\", fc=\"w\", ec=\"k\", lw=0.72)\n",
    "arrowprops=dict(arrowstyle=\"-\",connectionstyle=\"angle,angleA=0,angleB=90\")\n",
    "kw = dict(xycoords='data',textcoords=\"axes fraction\",\n",
    "          arrowprops=arrowprops, bbox=bbox_props, va=\"center\")\n",
    "\n",
    "ax.annotate(\"OBD\", xy=(meanRanks[6], 0.6), xytext=(0,-0.6),ha=\"right\",  **kw, color=\"k\")\n",
    "ax.annotate(\"E.Greedy\", xy=(meanRanks[1], 0.6), xytext=(0,-0.4),ha=\"right\",  **kw, color=\"m\")\n",
    "ax.annotate(\"WSLS\", xy=(meanRanks[2], 0.6), xytext=(0,-0.2),ha=\"right\",  **kw, color=\"y\")\n",
    "ax.annotate(\"OBS\", xy=(meanRanks[7], 0.6), xytext=(0,0),ha=\"right\",  **kw, color=\"k\")\n",
    "ax.annotate(\"Random\", xy=(meanRanks[10], 0.6), xytext=(0,0.2),ha=\"right\",  **kw, color=\"k\")\n",
    "ax.annotate(\"Magnitude\", xy=(meanRanks[9], 0.6), xytext=(0,0.4),ha=\"right\",  **kw, color=\"k\")\n",
    "\n",
    "ax.annotate(\"Thom. Sam\", xy=(meanRanks[8], 0.6), xytext=(1,-0.4),ha=\"left\",  **kw, color=\"b\")\n",
    "ax.annotate(\"Model\", xy=(meanRanks[0], 0.6), xytext=(1,-0.2),ha=\"left\",  **kw, color=\"k\")\n",
    "ax.annotate(\"KLUCB\", xy=(meanRanks[4], 0.6), xytext=(1,0),ha=\"left\",  **kw, color=\"g\")\n",
    "ax.annotate(\"BayesUCB\", xy=(meanRanks[5], 0.6), xytext=(1,0.2),ha=\"left\",  **kw, color=\"g\")\n",
    "ax.annotate(\"UCB1\", xy=(meanRanks[3], 0.6), xytext=(1,0.4),ha=\"left\",  **kw, color=\"r\")\n",
    "\n",
    "\n",
    "#bars\n",
    "ax.plot([meanRanks[3],meanRanks[3]+CD],[0.55,0.55], color=\"r\", lw=3)\n",
    "ax.plot([meanRanks[5],meanRanks[5]+CD],[0.45,0.45], color=\"g\", lw=3)\n",
    "ax.plot([meanRanks[8],meanRanks[8]+CD],[0.35,0.35], color=\"b\", lw=3)\n",
    "ax.plot([meanRanks[2],meanRanks[2]+CD],[0.15,0.15], color=\"y\", lw=3)\n",
    "ax.plot([meanRanks[1],meanRanks[1]+CD],[0.08,0.08], color=\"m\", lw=3)\n",
    "\n",
    "\n",
    "plt.show()"
   ]
  },
  {
   "cell_type": "markdown",
   "metadata": {},
   "source": [
    "## Prune LeCun Model"
   ]
  },
  {
   "cell_type": "code",
   "execution_count": 51,
   "metadata": {
    "collapsed": false
   },
   "outputs": [
    {
     "data": {
      "text/html": [
       "<div>\n",
       "<table border=\"1\" class=\"dataframe\">\n",
       "  <thead>\n",
       "    <tr style=\"text-align: right;\">\n",
       "      <th></th>\n",
       "      <th>Layer</th>\n",
       "      <th>Model</th>\n",
       "      <th>TS Prune half the weights</th>\n",
       "      <th>EG Prune half the weights</th>\n",
       "      <th>UCB1 Prune half the weights</th>\n",
       "    </tr>\n",
       "  </thead>\n",
       "  <tbody>\n",
       "    <tr>\n",
       "      <th>0</th>\n",
       "      <td>FC</td>\n",
       "      <td>0.9906</td>\n",
       "      <td>0.993</td>\n",
       "      <td>0.9908</td>\n",
       "      <td>0.994</td>\n",
       "    </tr>\n",
       "    <tr>\n",
       "      <th>1</th>\n",
       "      <td>Conv</td>\n",
       "      <td>0.9906</td>\n",
       "      <td>0.991</td>\n",
       "      <td>0.9907</td>\n",
       "      <td>0.992</td>\n",
       "    </tr>\n",
       "  </tbody>\n",
       "</table>\n",
       "</div>"
      ],
      "text/plain": [
       "  Layer   Model  TS Prune half the weights  EG Prune half the weights  \\\n",
       "0    FC  0.9906                      0.993                     0.9908   \n",
       "1  Conv  0.9906                      0.991                     0.9907   \n",
       "\n",
       "   UCB1 Prune half the weights  \n",
       "0                        0.994  \n",
       "1                        0.992  "
      ]
     },
     "execution_count": 51,
     "metadata": {},
     "output_type": "execute_result"
    }
   ],
   "source": [
    "dfLcun"
   ]
  },
  {
   "cell_type": "code",
   "execution_count": 52,
   "metadata": {
    "collapsed": true
   },
   "outputs": [],
   "source": [
    "data =  np.stack((dfLcun['Model'], dfLcun['TS Prune half the weights'],\n",
    "                  dfLcun['EG Prune half the weights'],\n",
    "                  dfLcun['UCB1 Prune half the weights']))"
   ]
  },
  {
   "cell_type": "code",
   "execution_count": 53,
   "metadata": {
    "collapsed": false
   },
   "outputs": [
    {
     "name": "stdout",
     "output_type": "stream",
     "text": [
      "FriedmanchisquareResult(statistic=6.0, pvalue=0.11161022509471268)\n"
     ]
    }
   ],
   "source": [
    "print(friedmanchisquare(data[0], data[1], data[2], data[3]))"
   ]
  },
  {
   "cell_type": "code",
   "execution_count": null,
   "metadata": {
    "collapsed": true
   },
   "outputs": [],
   "source": []
  }
 ],
 "metadata": {
  "kernelspec": {
   "display_name": "Python 3",
   "language": "python",
   "name": "python3"
  },
  "language_info": {
   "codemirror_mode": {
    "name": "ipython",
    "version": 3
   },
   "file_extension": ".py",
   "mimetype": "text/x-python",
   "name": "python",
   "nbconvert_exporter": "python",
   "pygments_lexer": "ipython3",
   "version": "3.6.0"
  }
 },
 "nbformat": 4,
 "nbformat_minor": 2
}
