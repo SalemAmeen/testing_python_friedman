{
 "cells": [
  {
   "cell_type": "markdown",
   "metadata": {
    "collapsed": true
   },
   "source": [
    "# Import needed libraries"
   ]
  },
  {
   "cell_type": "markdown",
   "metadata": {
    "collapsed": true
   },
   "source": [
    "## Import libraries for manipulating the data and statistic"
   ]
  },
  {
   "cell_type": "code",
   "execution_count": 142,
   "metadata": {
    "collapsed": true
   },
   "outputs": [],
   "source": [
    "import numpy as np\n",
    "import pandas as pd\n",
    "import matplotlib.pyplot as plt\n",
    "import scipy.stats as stats\n",
    "from statsmodels.stats.weightstats import  ttest_ind as t_test\n",
    "from scipy.stats import ttest_1samp, wilcoxon, ttest_ind, mannwhitneyu\n",
    "import scipy.special as special\n",
    "import emoji\n",
    "from math import pi\n",
    "from statsmodels.stats.multicomp import pairwise_tukeyhsd, MultiComparison\n",
    "from statsmodels.formula.api import ols\n",
    "import statsmodels.stats.api as sms"
   ]
  },
  {
   "cell_type": "markdown",
   "metadata": {
    "collapsed": true
   },
   "source": [
    "## Import libraries for static ploting"
   ]
  },
  {
   "cell_type": "code",
   "execution_count": 143,
   "metadata": {
    "collapsed": true
   },
   "outputs": [],
   "source": [
    "import matplotlib.pyplot as plt\n",
    "import matplotlib.gridspec as gridspec\n",
    "%matplotlib inline\n",
    "from IPython.display import set_matplotlib_formats\n",
    "set_matplotlib_formats('png', 'pdf')\n",
    "# some nice colors from http://colorbrewer2.org/\n",
    "COLOR1 = '#7fc97f'\n",
    "COLOR2 = '#beaed4'\n",
    "COLOR3 = '#fdc086'\n",
    "COLOR4 = '#ffff99'\n",
    "COLOR5 = '#386cb0'"
   ]
  },
  {
   "cell_type": "markdown",
   "metadata": {
    "collapsed": true
   },
   "source": [
    "# Statring the test and visulize the data"
   ]
  },
  {
   "cell_type": "markdown",
   "metadata": {
    "collapsed": true
   },
   "source": [
    "## Load the data for pruning the weights using random expoloration"
   ]
  },
  {
   "cell_type": "code",
   "execution_count": 144,
   "metadata": {
    "collapsed": false
   },
   "outputs": [
    {
     "data": {
      "text/html": [
       "<div>\n",
       "<table border=\"1\" class=\"dataframe\">\n",
       "  <thead>\n",
       "    <tr style=\"text-align: right;\">\n",
       "      <th></th>\n",
       "      <th>Dataset</th>\n",
       "      <th>Model</th>\n",
       "      <th>E.Greedy</th>\n",
       "      <th>WSLS</th>\n",
       "      <th>UCB1</th>\n",
       "      <th>KLUCB</th>\n",
       "      <th>BayUCB</th>\n",
       "      <th>OBD</th>\n",
       "      <th>OBS</th>\n",
       "      <th>Thom. Sam</th>\n",
       "      <th>Magnitude</th>\n",
       "      <th>random</th>\n",
       "    </tr>\n",
       "  </thead>\n",
       "  <tbody>\n",
       "    <tr>\n",
       "      <th>0</th>\n",
       "      <td>banknote authentication</td>\n",
       "      <td>0.01</td>\n",
       "      <td>0.01</td>\n",
       "      <td>0.04</td>\n",
       "      <td>0.01</td>\n",
       "      <td>0.01</td>\n",
       "      <td>0.01</td>\n",
       "      <td>0.01</td>\n",
       "      <td>0.02</td>\n",
       "      <td>0.01</td>\n",
       "      <td>3.23</td>\n",
       "      <td>5.13</td>\n",
       "    </tr>\n",
       "    <tr>\n",
       "      <th>1</th>\n",
       "      <td>Blood Tra. Service Centre</td>\n",
       "      <td>0.08</td>\n",
       "      <td>0.08</td>\n",
       "      <td>0.20</td>\n",
       "      <td>0.08</td>\n",
       "      <td>0.08</td>\n",
       "      <td>0.08</td>\n",
       "      <td>0.08</td>\n",
       "      <td>0.08</td>\n",
       "      <td>0.08</td>\n",
       "      <td>0.44</td>\n",
       "      <td>0.08</td>\n",
       "    </tr>\n",
       "    <tr>\n",
       "      <th>2</th>\n",
       "      <td>Credit Approval</td>\n",
       "      <td>0.08</td>\n",
       "      <td>0.10</td>\n",
       "      <td>0.08</td>\n",
       "      <td>0.08</td>\n",
       "      <td>0.11</td>\n",
       "      <td>0.11</td>\n",
       "      <td>0.08</td>\n",
       "      <td>8.62</td>\n",
       "      <td>0.78</td>\n",
       "      <td>2.55</td>\n",
       "      <td>22.19</td>\n",
       "    </tr>\n",
       "    <tr>\n",
       "      <th>3</th>\n",
       "      <td>Haberman's Survival</td>\n",
       "      <td>0.09</td>\n",
       "      <td>0.08</td>\n",
       "      <td>0.09</td>\n",
       "      <td>0.08</td>\n",
       "      <td>0.08</td>\n",
       "      <td>0.08</td>\n",
       "      <td>0.08</td>\n",
       "      <td>0.08</td>\n",
       "      <td>0.08</td>\n",
       "      <td>0.63</td>\n",
       "      <td>0.65</td>\n",
       "    </tr>\n",
       "    <tr>\n",
       "      <th>4</th>\n",
       "      <td>Liver Disorders</td>\n",
       "      <td>0.10</td>\n",
       "      <td>0.10</td>\n",
       "      <td>0.11</td>\n",
       "      <td>0.10</td>\n",
       "      <td>0.10</td>\n",
       "      <td>0.10</td>\n",
       "      <td>0.10</td>\n",
       "      <td>0.85</td>\n",
       "      <td>0.10</td>\n",
       "      <td>0.62</td>\n",
       "      <td>0.15</td>\n",
       "    </tr>\n",
       "    <tr>\n",
       "      <th>5</th>\n",
       "      <td>MAGIC Gamma Tele.</td>\n",
       "      <td>0.06</td>\n",
       "      <td>0.10</td>\n",
       "      <td>0.32</td>\n",
       "      <td>0.06</td>\n",
       "      <td>0.06</td>\n",
       "      <td>0.06</td>\n",
       "      <td>0.06</td>\n",
       "      <td>0.12</td>\n",
       "      <td>0.06</td>\n",
       "      <td>2.49</td>\n",
       "      <td>0.43</td>\n",
       "    </tr>\n",
       "    <tr>\n",
       "      <th>6</th>\n",
       "      <td>Mammographic Mass</td>\n",
       "      <td>0.09</td>\n",
       "      <td>0.09</td>\n",
       "      <td>0.09</td>\n",
       "      <td>0.09</td>\n",
       "      <td>0.09</td>\n",
       "      <td>0.09</td>\n",
       "      <td>0.09</td>\n",
       "      <td>0.09</td>\n",
       "      <td>0.09</td>\n",
       "      <td>2.59</td>\n",
       "      <td>0.13</td>\n",
       "    </tr>\n",
       "    <tr>\n",
       "      <th>7</th>\n",
       "      <td>MONK's Problems</td>\n",
       "      <td>0.10</td>\n",
       "      <td>0.12</td>\n",
       "      <td>0.29</td>\n",
       "      <td>0.10</td>\n",
       "      <td>0.10</td>\n",
       "      <td>0.10</td>\n",
       "      <td>0.10</td>\n",
       "      <td>5.28</td>\n",
       "      <td>0.10</td>\n",
       "      <td>0.15</td>\n",
       "      <td>0.13</td>\n",
       "    </tr>\n",
       "    <tr>\n",
       "      <th>8</th>\n",
       "      <td>Connectionist Bench</td>\n",
       "      <td>0.12</td>\n",
       "      <td>0.29</td>\n",
       "      <td>0.73</td>\n",
       "      <td>0.40</td>\n",
       "      <td>0.50</td>\n",
       "      <td>0.50</td>\n",
       "      <td>0.12</td>\n",
       "      <td>0.12</td>\n",
       "      <td>1.07</td>\n",
       "      <td>0.16</td>\n",
       "      <td>0.16</td>\n",
       "    </tr>\n",
       "    <tr>\n",
       "      <th>9</th>\n",
       "      <td>Spambase</td>\n",
       "      <td>0.08</td>\n",
       "      <td>0.10</td>\n",
       "      <td>0.09</td>\n",
       "      <td>0.64</td>\n",
       "      <td>0.64</td>\n",
       "      <td>0.64</td>\n",
       "      <td>0.08</td>\n",
       "      <td>4.37</td>\n",
       "      <td>0.09</td>\n",
       "      <td>1.67</td>\n",
       "      <td>5.01</td>\n",
       "    </tr>\n",
       "    <tr>\n",
       "      <th>10</th>\n",
       "      <td>SPECTF Heart</td>\n",
       "      <td>0.06</td>\n",
       "      <td>0.07</td>\n",
       "      <td>0.60</td>\n",
       "      <td>0.41</td>\n",
       "      <td>0.41</td>\n",
       "      <td>0.41</td>\n",
       "      <td>0.06</td>\n",
       "      <td>0.14</td>\n",
       "      <td>0.08</td>\n",
       "      <td>12.25</td>\n",
       "      <td>0.06</td>\n",
       "    </tr>\n",
       "    <tr>\n",
       "      <th>11</th>\n",
       "      <td>Tic-Tac-Toe Endgame</td>\n",
       "      <td>0.06</td>\n",
       "      <td>0.06</td>\n",
       "      <td>1.58</td>\n",
       "      <td>0.06</td>\n",
       "      <td>0.06</td>\n",
       "      <td>0.06</td>\n",
       "      <td>0.06</td>\n",
       "      <td>0.07</td>\n",
       "      <td>0.06</td>\n",
       "      <td>21.30</td>\n",
       "      <td>11.92</td>\n",
       "    </tr>\n",
       "  </tbody>\n",
       "</table>\n",
       "</div>"
      ],
      "text/plain": [
       "                      Dataset  Model  E.Greedy  WSLS  UCB1  KLUCB  BayUCB  \\\n",
       "0     banknote authentication   0.01      0.01  0.04  0.01   0.01    0.01   \n",
       "1   Blood Tra. Service Centre   0.08      0.08  0.20  0.08   0.08    0.08   \n",
       "2             Credit Approval   0.08      0.10  0.08  0.08   0.11    0.11   \n",
       "3         Haberman's Survival   0.09      0.08  0.09  0.08   0.08    0.08   \n",
       "4             Liver Disorders   0.10      0.10  0.11  0.10   0.10    0.10   \n",
       "5           MAGIC Gamma Tele.   0.06      0.10  0.32  0.06   0.06    0.06   \n",
       "6           Mammographic Mass   0.09      0.09  0.09  0.09   0.09    0.09   \n",
       "7             MONK's Problems   0.10      0.12  0.29  0.10   0.10    0.10   \n",
       "8         Connectionist Bench   0.12      0.29  0.73  0.40   0.50    0.50   \n",
       "9                    Spambase   0.08      0.10  0.09  0.64   0.64    0.64   \n",
       "10               SPECTF Heart   0.06      0.07  0.60  0.41   0.41    0.41   \n",
       "11        Tic-Tac-Toe Endgame   0.06      0.06  1.58  0.06   0.06    0.06   \n",
       "\n",
       "     OBD   OBS  Thom. Sam  Magnitude  random  \n",
       "0   0.01  0.02       0.01       3.23    5.13  \n",
       "1   0.08  0.08       0.08       0.44    0.08  \n",
       "2   0.08  8.62       0.78       2.55   22.19  \n",
       "3   0.08  0.08       0.08       0.63    0.65  \n",
       "4   0.10  0.85       0.10       0.62    0.15  \n",
       "5   0.06  0.12       0.06       2.49    0.43  \n",
       "6   0.09  0.09       0.09       2.59    0.13  \n",
       "7   0.10  5.28       0.10       0.15    0.13  \n",
       "8   0.12  0.12       1.07       0.16    0.16  \n",
       "9   0.08  4.37       0.09       1.67    5.01  \n",
       "10  0.06  0.14       0.08      12.25    0.06  \n",
       "11  0.06  0.07       0.06      21.30   11.92  "
      ]
     },
     "execution_count": 144,
     "metadata": {},
     "output_type": "execute_result"
    }
   ],
   "source": [
    "datafile = \"all.csv\"\n",
    "datafileLeNet = \"LecunPruningWeights.csv\"\n",
    "df1 = pd.read_csv(datafile)\n",
    "dfLcun = pd.read_csv(datafileLeNet)\n",
    "df1"
   ]
  },
  {
   "cell_type": "code",
   "execution_count": 145,
   "metadata": {
    "collapsed": false
   },
   "outputs": [
    {
     "data": {
      "text/html": [
       "<div>\n",
       "<table border=\"1\" class=\"dataframe\">\n",
       "  <thead>\n",
       "    <tr style=\"text-align: right;\">\n",
       "      <th></th>\n",
       "      <th>Layer</th>\n",
       "      <th>Model</th>\n",
       "      <th>TS Prune half the weights</th>\n",
       "      <th>EG Prune half the weights</th>\n",
       "      <th>UCB1 Prune half the weights</th>\n",
       "    </tr>\n",
       "  </thead>\n",
       "  <tbody>\n",
       "    <tr>\n",
       "      <th>0</th>\n",
       "      <td>FC</td>\n",
       "      <td>0.9906</td>\n",
       "      <td>0.993</td>\n",
       "      <td>0.9908</td>\n",
       "      <td>0.994</td>\n",
       "    </tr>\n",
       "    <tr>\n",
       "      <th>1</th>\n",
       "      <td>Conv</td>\n",
       "      <td>0.9906</td>\n",
       "      <td>0.991</td>\n",
       "      <td>0.9907</td>\n",
       "      <td>0.992</td>\n",
       "    </tr>\n",
       "  </tbody>\n",
       "</table>\n",
       "</div>"
      ],
      "text/plain": [
       "  Layer   Model  TS Prune half the weights  EG Prune half the weights  \\\n",
       "0    FC  0.9906                      0.993                     0.9908   \n",
       "1  Conv  0.9906                      0.991                     0.9907   \n",
       "\n",
       "   UCB1 Prune half the weights  \n",
       "0                        0.994  \n",
       "1                        0.992  "
      ]
     },
     "execution_count": 145,
     "metadata": {},
     "output_type": "execute_result"
    }
   ],
   "source": [
    "dfLcun"
   ]
  },
  {
   "cell_type": "markdown",
   "metadata": {},
   "source": [
    "## Using Nonparametric tests\n",
    "\n",
    "I am not sure the data comes from Guassian distribution  and less than 30 sample \n",
    "\n",
    "### alternative to paired t-test when data has an ordinary scale or when not\n",
    "### normally distributed"
   ]
  },
  {
   "cell_type": "markdown",
   "metadata": {},
   "source": [
    "## Start comparining all pruning algorithms"
   ]
  },
  {
   "cell_type": "markdown",
   "metadata": {},
   "source": [
    "### Compute friedman test test by ranks between pruning methods"
   ]
  },
  {
   "cell_type": "code",
   "execution_count": 146,
   "metadata": {
    "collapsed": false
   },
   "outputs": [
    {
     "name": "stdout",
     "output_type": "stream",
     "text": [
      "H-statistic: 34.6617647059\n",
      "P-Value: 1.75755369209e-06\n",
      "Reject NULL hypothesis - Significant differences exist between groups.\n"
     ]
    }
   ],
   "source": [
    "from scipy.stats import mstats\n",
    "H, pval = mstats.friedmanchisquare(df1['Thom. Sam'], df1['BayUCB'],  df1['OBD'], \n",
    "                               df1['E.Greedy'], df1['WSLS'], \n",
    "                               df1['Magnitude'])\n",
    "print(\"H-statistic:\", H)\n",
    "print(\"P-Value:\", pval)\n",
    "if pval < 0.05:\n",
    "    print(\"Reject NULL hypothesis - Significant differences exist between groups.\")\n",
    "if pval > 0.05:\n",
    "    print(\"Accept NULL hypothesis - No significant difference between groups.\")"
   ]
  },
  {
   "cell_type": "markdown",
   "metadata": {},
   "source": [
    "# Compute friedman test test by UCB1 ranks between pruning methods"
   ]
  },
  {
   "cell_type": "code",
   "execution_count": 147,
   "metadata": {
    "collapsed": false
   },
   "outputs": [
    {
     "name": "stdout",
     "output_type": "stream",
     "text": [
      "H-statistic: 26.8602150538\n",
      "P-Value: 2.12152413603e-05\n",
      "Reject NULL hypothesis - Significant differences exist between groups.\n"
     ]
    }
   ],
   "source": [
    "from scipy.stats import mstats\n",
    "H, pval = mstats.friedmanchisquare(df1['UCB1'], df1['BayUCB'],  df1['OBD'], \n",
    "                               df1['OBS'], \n",
    "                               df1['Magnitude'])\n",
    "print(\"H-statistic:\", H)\n",
    "print(\"P-Value:\", pval)\n",
    "if pval < 0.05:\n",
    "    print(\"Reject NULL hypothesis - Significant differences exist between groups.\")\n",
    "if pval > 0.05:\n",
    "    print(\"Accept NULL hypothesis - No significant difference between groups.\")"
   ]
  },
  {
   "cell_type": "markdown",
   "metadata": {},
   "source": [
    "# Compute friedman test test by Thompson Sampling ranks between pruning methods"
   ]
  },
  {
   "cell_type": "code",
   "execution_count": 148,
   "metadata": {
    "collapsed": false
   },
   "outputs": [
    {
     "name": "stdout",
     "output_type": "stream",
     "text": [
      "H-statistic: 26.7102803738\n",
      "P-Value: 2.27480277719e-05\n",
      "Reject NULL hypothesis - Significant differences exist between groups.\n"
     ]
    }
   ],
   "source": [
    "from scipy.stats import mstats\n",
    "H, pval = mstats.friedmanchisquare(df1['Thom. Sam'], df1['OBS'],  df1['OBD'], \n",
    "                               df1['WSLS'], \n",
    "                               df1['Magnitude'])\n",
    "print(\"H-statistic:\", H)\n",
    "print(\"P-Value:\", pval)\n",
    "if pval < 0.05:\n",
    "    print(\"Reject NULL hypothesis - Significant differences exist between groups.\")\n",
    "if pval > 0.05:\n",
    "    print(\"Accept NULL hypothesis - No significant difference between groups.\")"
   ]
  },
  {
   "cell_type": "markdown",
   "metadata": {},
   "source": [
    "# Compute friedman test test by Spsilon Greedy and WSLS ranks between pruning methods"
   ]
  },
  {
   "cell_type": "code",
   "execution_count": 149,
   "metadata": {
    "collapsed": false
   },
   "outputs": [
    {
     "name": "stdout",
     "output_type": "stream",
     "text": [
      "H-statistic: 27.5023041475\n",
      "P-Value: 1.57317296651e-05\n",
      "Reject NULL hypothesis - Significant differences exist between groups.\n"
     ]
    }
   ],
   "source": [
    "from scipy.stats import mstats\n",
    "H, pval = mstats.friedmanchisquare(df1['E.Greedy'], df1['WSLS'], df1['Magnitude'], df1['OBD'], df1['OBS'])\n",
    "print(\"H-statistic:\", H)\n",
    "print(\"P-Value:\", pval)\n",
    "if pval < 0.05:\n",
    "    print(\"Reject NULL hypothesis - Significant differences exist between groups.\")\n",
    "if pval > 0.05:\n",
    "    print(\"Accept NULL hypothesis - No significant difference between groups.\")"
   ]
  },
  {
   "cell_type": "markdown",
   "metadata": {},
   "source": [
    "## Between our method and other methods separately as both are independent"
   ]
  },
  {
   "cell_type": "code",
   "execution_count": 150,
   "metadata": {
    "collapsed": false
   },
   "outputs": [
    {
     "name": "stdout",
     "output_type": "stream",
     "text": [
      "UCB vs random Pruning\n",
      "H-statistic:\t-2.39600361714\n",
      "P-value:\t0.0165749267499\n",
      "Reject NULL hypothesis - Significant differences exist between groups.\n"
     ]
    }
   ],
   "source": [
    "print('UCB vs random Pruning')\n",
    "H, pval = stats.ranksums(df1['UCB1'], df1['random'])\n",
    "print (\"H-statistic:\\t%s\\nP-value:\\t%s\" % (str(H),str(pval)))\n",
    "if pval < 0.05:\n",
    "    print(\"Reject NULL hypothesis - Significant differences exist between groups.\")\n",
    "if pval > 0.05:\n",
    "    print(\"Accept NULL hypothesis - No significant difference between groups.\")"
   ]
  },
  {
   "cell_type": "code",
   "execution_count": 151,
   "metadata": {
    "collapsed": false
   },
   "outputs": [
    {
     "name": "stdout",
     "output_type": "stream",
     "text": [
      "UCB vs Optimal Brain Damage\n",
      "H-statistic:\t0.923760430703\n",
      "P-value:\t0.355611061095\n",
      "Accept NULL hypothesis - No significant difference between groups.\n"
     ]
    }
   ],
   "source": [
    "print('UCB vs Optimal Brain Damage')\n",
    "H, pval = stats.ranksums(df1['UCB1'], df1['OBD'])\n",
    "print (\"H-statistic:\\t%s\\nP-value:\\t%s\" % (str(H),str(pval)))\n",
    "if pval < 0.05:\n",
    "    print(\"Reject NULL hypothesis - Significant differences exist between groups.\")\n",
    "if pval > 0.05:\n",
    "    print(\"Accept NULL hypothesis - No significant difference between groups.\")"
   ]
  },
  {
   "cell_type": "code",
   "execution_count": 152,
   "metadata": {
    "collapsed": false
   },
   "outputs": [
    {
     "name": "stdout",
     "output_type": "stream",
     "text": [
      "UCB vs Optimal Brain Surgeon\n",
      "H-statistic:\t-1.29903810568\n",
      "P-value:\t0.193930852282\n",
      "Accept NULL hypothesis - No significant difference between groups.\n"
     ]
    }
   ],
   "source": [
    "print('UCB vs Optimal Brain Surgeon')\n",
    "H, pval = stats.ranksums(df1['UCB1'], df1['OBS'])\n",
    "print (\"H-statistic:\\t%s\\nP-value:\\t%s\" % (str(H),str(pval)))\n",
    "if pval < 0.05:\n",
    "    print(\"Reject NULL hypothesis - Significant differences exist between groups.\")\n",
    "if pval > 0.05:\n",
    "    print(\"Accept NULL hypothesis - No significant difference between groups.\")"
   ]
  },
  {
   "cell_type": "code",
   "execution_count": 153,
   "metadata": {
    "collapsed": false
   },
   "outputs": [
    {
     "name": "stdout",
     "output_type": "stream",
     "text": [
      "UCB vs Deep Compression\n",
      "H-statistic:\t-3.63730669589\n",
      "P-value:\t0.000275503811434\n",
      "Reject NULL hypothesis - Significant differences exist between groups.\n"
     ]
    }
   ],
   "source": [
    "print('UCB vs Deep Compression')\n",
    "H, pval = stats.ranksums(df1['UCB1'], df1['Magnitude'])\n",
    "print (\"H-statistic:\\t%s\\nP-value:\\t%s\" % (str(H),str(pval)))\n",
    "if pval < 0.05:\n",
    "    print(\"Reject NULL hypothesis - Significant differences exist between groups.\")\n",
    "if pval > 0.05:\n",
    "    print(\"Accept NULL hypothesis - No significant difference between groups.\")"
   ]
  },
  {
   "cell_type": "markdown",
   "metadata": {},
   "source": [
    "## ranksums test between KLUCB and other pruning methods."
   ]
  },
  {
   "cell_type": "code",
   "execution_count": 154,
   "metadata": {
    "collapsed": false
   },
   "outputs": [
    {
     "name": "stdout",
     "output_type": "stream",
     "text": [
      "KLUCB vs random Pruning\n",
      "H-statistic:\t-2.30940107676\n",
      "P-value:\t0.0209213353378\n",
      "Reject NULL hypothesis - Significant differences exist between groups.\n"
     ]
    }
   ],
   "source": [
    "print('KLUCB vs random Pruning')\n",
    "H, pval = stats.ranksums(df1['KLUCB'], df1['random'])\n",
    "print (\"H-statistic:\\t%s\\nP-value:\\t%s\" % (str(H),str(pval)))\n",
    "if pval < 0.05:\n",
    "    print(\"Reject NULL hypothesis - Significant differences exist between groups.\")\n",
    "if pval > 0.05:\n",
    "    print(\"Accept NULL hypothesis - No significant difference between groups.\")"
   ]
  },
  {
   "cell_type": "code",
   "execution_count": 155,
   "metadata": {
    "collapsed": false
   },
   "outputs": [
    {
     "name": "stdout",
     "output_type": "stream",
     "text": [
      "KLUCB vs Optimal Brain Damage\n",
      "H-statistic:\t1.2124355653\n",
      "P-value:\t0.225345693702\n",
      "Accept NULL hypothesis - No significant difference between groups.\n"
     ]
    }
   ],
   "source": [
    "print('KLUCB vs Optimal Brain Damage')\n",
    "H, pval = stats.ranksums(df1['KLUCB'], df1['OBD'])\n",
    "print (\"H-statistic:\\t%s\\nP-value:\\t%s\" % (str(H),str(pval)))\n",
    "if pval < 0.05:\n",
    "    print(\"Reject NULL hypothesis - Significant differences exist between groups.\")\n",
    "if pval > 0.05:\n",
    "    print(\"Accept NULL hypothesis - No significant difference between groups.\")"
   ]
  },
  {
   "cell_type": "code",
   "execution_count": 156,
   "metadata": {
    "collapsed": false
   },
   "outputs": [
    {
     "name": "stdout",
     "output_type": "stream",
     "text": [
      "KLUCB vs Optimal Brain Surgeon\n",
      "H-statistic:\t-1.18356805184\n",
      "P-value:\t0.236584093322\n",
      "Accept NULL hypothesis - No significant difference between groups.\n"
     ]
    }
   ],
   "source": [
    "print('KLUCB vs Optimal Brain Surgeon')\n",
    "H, pval = stats.ranksums(df1['KLUCB'], df1['OBS'])\n",
    "print (\"H-statistic:\\t%s\\nP-value:\\t%s\" % (str(H),str(pval)))\n",
    "if pval < 0.05:\n",
    "    print(\"Reject NULL hypothesis - Significant differences exist between groups.\")\n",
    "if pval > 0.05:\n",
    "    print(\"Accept NULL hypothesis - No significant difference between groups.\")"
   ]
  },
  {
   "cell_type": "code",
   "execution_count": 157,
   "metadata": {
    "collapsed": false
   },
   "outputs": [
    {
     "name": "stdout",
     "output_type": "stream",
     "text": [
      "KLUCB vs Deep Compression\n",
      "H-statistic:\t-3.57957166898\n",
      "P-value:\t0.000344157853847\n",
      "Reject NULL hypothesis - Significant differences exist between groups.\n"
     ]
    }
   ],
   "source": [
    "print('KLUCB vs Deep Compression')\n",
    "H, pval = stats.ranksums(df1['KLUCB'], df1['Magnitude'])\n",
    "print (\"H-statistic:\\t%s\\nP-value:\\t%s\" % (str(H),str(pval)))\n",
    "if pval < 0.05:\n",
    "    print(\"Reject NULL hypothesis - Significant differences exist between groups.\")\n",
    "if pval > 0.05:\n",
    "    print(\"Accept NULL hypothesis - No significant difference between groups.\")"
   ]
  },
  {
   "cell_type": "markdown",
   "metadata": {},
   "source": [
    "## ranksums test between BayUCB and other pruning methods."
   ]
  },
  {
   "cell_type": "code",
   "execution_count": 158,
   "metadata": {
    "collapsed": false
   },
   "outputs": [
    {
     "name": "stdout",
     "output_type": "stream",
     "text": [
      "BayUCB vs random Pruning\n",
      "H-statistic:\t-2.30940107676\n",
      "P-value:\t0.0209213353378\n",
      "Reject NULL hypothesis - Significant differences exist between groups.\n"
     ]
    }
   ],
   "source": [
    "print('BayUCB vs random Pruning')\n",
    "H, pval = stats.ranksums(df1['BayUCB'], df1['random'])\n",
    "print (\"H-statistic:\\t%s\\nP-value:\\t%s\" % (str(H),str(pval)))\n",
    "if pval < 0.05:\n",
    "    print(\"Reject NULL hypothesis - Significant differences exist between groups.\")\n",
    "if pval > 0.05:\n",
    "    print(\"Accept NULL hypothesis - No significant difference between groups.\")"
   ]
  },
  {
   "cell_type": "code",
   "execution_count": 159,
   "metadata": {
    "collapsed": false
   },
   "outputs": [
    {
     "name": "stdout",
     "output_type": "stream",
     "text": [
      "BayUCB vs Optimal Brain Damage\n",
      "H-statistic:\t1.2124355653\n",
      "P-value:\t0.225345693702\n",
      "Accept NULL hypothesis - No significant difference between groups.\n"
     ]
    }
   ],
   "source": [
    "print('BayUCB vs Optimal Brain Damage')\n",
    "H, pval = stats.ranksums(df1['BayUCB'], df1['OBD'])\n",
    "print (\"H-statistic:\\t%s\\nP-value:\\t%s\" % (str(H),str(pval)))\n",
    "if pval < 0.05:\n",
    "    print(\"Reject NULL hypothesis - Significant differences exist between groups.\")\n",
    "if pval > 0.05:\n",
    "    print(\"Accept NULL hypothesis - No significant difference between groups.\")"
   ]
  },
  {
   "cell_type": "code",
   "execution_count": 160,
   "metadata": {
    "collapsed": false
   },
   "outputs": [
    {
     "name": "stdout",
     "output_type": "stream",
     "text": [
      "BayUCB vs Optimal Brain Surgeon\n",
      "H-statistic:\t-1.18356805184\n",
      "P-value:\t0.236584093322\n",
      "Accept NULL hypothesis - No significant difference between groups.\n"
     ]
    }
   ],
   "source": [
    "print('BayUCB vs Optimal Brain Surgeon')\n",
    "H, pval = stats.ranksums(df1['BayUCB'], df1['OBS'])\n",
    "print (\"H-statistic:\\t%s\\nP-value:\\t%s\" % (str(H),str(pval)))\n",
    "if pval < 0.05:\n",
    "    print(\"Reject NULL hypothesis - Significant differences exist between groups.\")\n",
    "if pval > 0.05:\n",
    "    print(\"Accept NULL hypothesis - No significant difference between groups.\")"
   ]
  },
  {
   "cell_type": "code",
   "execution_count": 161,
   "metadata": {
    "collapsed": false
   },
   "outputs": [
    {
     "name": "stdout",
     "output_type": "stream",
     "text": [
      "BayUCB vs Deep Compression\n",
      "H-statistic:\t-3.57957166898\n",
      "P-value:\t0.000344157853847\n",
      "Reject NULL hypothesis - Significant differences exist between groups.\n"
     ]
    }
   ],
   "source": [
    "print('BayUCB vs Deep Compression')\n",
    "H, pval = stats.ranksums(df1['BayUCB'], df1['Magnitude'])\n",
    "print (\"H-statistic:\\t%s\\nP-value:\\t%s\" % (str(H),str(pval)))\n",
    "if pval < 0.05:\n",
    "    print(\"Reject NULL hypothesis - Significant differences exist between groups.\")\n",
    "if pval > 0.05:\n",
    "    print(\"Accept NULL hypothesis - No significant difference between groups.\")"
   ]
  },
  {
   "cell_type": "code",
   "execution_count": 162,
   "metadata": {
    "collapsed": false,
    "scrolled": false
   },
   "outputs": [
    {
     "name": "stdout",
     "output_type": "stream",
     "text": [
      "\n",
      " Model E.Greedy\n",
      "RanksumsResult(statistic=-1.0103629710818449, pvalue=0.31232142167621613)\n",
      "\n",
      " Model WSLS\n",
      "RanksumsResult(statistic=-2.3960036171369468, pvalue=0.01657492674985327)\n",
      "\n",
      " Model UCB1\n",
      "RanksumsResult(statistic=-0.808290376865476, pvalue=0.4189234409463829)\n",
      "\n",
      " Model KLUCB\n",
      "RanksumsResult(statistic=-1.1258330249197701, pvalue=0.26023620261718883)\n",
      "\n",
      " Model BayUCB\n",
      "RanksumsResult(statistic=-1.1258330249197701, pvalue=0.26023620261718883)\n",
      "\n",
      " Model OBD\n",
      "RanksumsResult(statistic=0.14433756729740643, pvalue=0.88523391447320166)\n",
      "\n",
      " Model OBS\n",
      "RanksumsResult(statistic=-2.0207259421636898, pvalue=0.043308142810791976)\n",
      "\n",
      " Model Thom. Sam\n",
      "RanksumsResult(statistic=-0.57735026918962573, pvalue=0.5637028616507731)\n",
      "\n",
      " Model Magnitude\n",
      "RanksumsResult(statistic=-4.1569219381653051, pvalue=3.2256414562437673e-05)\n",
      "\n",
      " Model random\n",
      "RanksumsResult(statistic=-3.233161507461904, pvalue=0.0012242832644312096)\n",
      "\n",
      " E.Greedy WSLS\n",
      "RanksumsResult(statistic=-1.7320508075688772, pvalue=0.083264516663550406)\n",
      "\n",
      " E.Greedy UCB1\n",
      "RanksumsResult(statistic=-0.057735026918962568, pvalue=0.95395969277203863)\n",
      "\n",
      " E.Greedy KLUCB\n",
      "RanksumsResult(statistic=-0.404145188432738, pvalue=0.68610595699555588)\n",
      "\n",
      " E.Greedy BayUCB\n",
      "RanksumsResult(statistic=-0.404145188432738, pvalue=0.68610595699555588)\n",
      "\n",
      " E.Greedy OBD\n",
      "RanksumsResult(statistic=1.0969655114602888, pvalue=0.27265646879500405)\n",
      "\n",
      " E.Greedy OBS\n",
      "RanksumsResult(statistic=-1.4433756729740643, pvalue=0.14891467317876572)\n",
      "\n",
      " E.Greedy Thom. Sam\n",
      "RanksumsResult(statistic=0.31754264805429416, pvalue=0.75083188408911694)\n",
      "\n",
      " E.Greedy Magnitude\n",
      "RanksumsResult(statistic=-4.0414518843273797, pvalue=5.3121281594117241e-05)\n",
      "\n",
      " E.Greedy random\n",
      "RanksumsResult(statistic=-2.8578838324886471, pvalue=0.0042647649140305378)\n",
      "\n",
      " WSLS UCB1\n",
      "RanksumsResult(statistic=1.3856406460551016, pvalue=0.16585666034291002)\n",
      "\n",
      " WSLS KLUCB\n",
      "RanksumsResult(statistic=1.1547005383792515, pvalue=0.24821307898992373)\n",
      "\n",
      " WSLS BayUCB\n",
      "RanksumsResult(statistic=1.1547005383792515, pvalue=0.24821307898992373)\n",
      "\n",
      " WSLS OBD\n",
      "RanksumsResult(statistic=2.5114736709748717, pvalue=0.012022825407617439)\n",
      "\n",
      " WSLS OBS\n",
      "RanksumsResult(statistic=-0.028867513459481284, pvalue=0.97697025532197568)\n",
      "\n",
      " WSLS Thom. Sam\n",
      "RanksumsResult(statistic=1.5299782133525082, pvalue=0.12602212177037309)\n",
      "\n",
      " WSLS Magnitude\n",
      "RanksumsResult(statistic=-3.0599564267050163, pvalue=0.0022136919545913893)\n",
      "\n",
      " WSLS random\n",
      "RanksumsResult(statistic=-1.2413030787576953, pvalue=0.21449380778351745)\n",
      "\n",
      " UCB1 KLUCB\n",
      "RanksumsResult(statistic=-0.34641016151377541, pvalue=0.72903448953880412)\n",
      "\n",
      " UCB1 BayUCB\n",
      "RanksumsResult(statistic=-0.34641016151377541, pvalue=0.72903448953880412)\n",
      "\n",
      " UCB1 OBD\n",
      "RanksumsResult(statistic=0.92376043070340108, pvalue=0.3556110610952391)\n",
      "\n",
      " UCB1 OBS\n",
      "RanksumsResult(statistic=-1.2990381056766578, pvalue=0.19393085228241069)\n",
      "\n",
      " UCB1 Thom. Sam\n",
      "RanksumsResult(statistic=0.057735026918962568, pvalue=0.95395969277203863)\n",
      "\n",
      " UCB1 Magnitude\n",
      "RanksumsResult(statistic=-3.6373066958946421, pvalue=0.0002755038114342687)\n",
      "\n",
      " UCB1 random\n",
      "RanksumsResult(statistic=-2.3960036171369468, pvalue=0.01657492674985327)\n",
      "\n",
      " KLUCB BayUCB\n",
      "RanksumsResult(statistic=0.0, pvalue=1.0)\n",
      "\n",
      " KLUCB OBD\n",
      "RanksumsResult(statistic=1.2124355652982139, pvalue=0.22534569370166679)\n",
      "\n",
      " KLUCB OBS\n",
      "RanksumsResult(statistic=-1.1835680518387326, pvalue=0.23658409332187613)\n",
      "\n",
      " KLUCB Thom. Sam\n",
      "RanksumsResult(statistic=0.3752776749732567, pvalue=0.70745396770207469)\n",
      "\n",
      " KLUCB Magnitude\n",
      "RanksumsResult(statistic=-3.5795716689756794, pvalue=0.00034415785384659113)\n",
      "\n",
      " KLUCB random\n",
      "RanksumsResult(statistic=-2.3094010767585029, pvalue=0.020921335337794032)\n",
      "\n",
      " BayUCB OBD\n",
      "RanksumsResult(statistic=1.2124355652982139, pvalue=0.22534569370166679)\n",
      "\n",
      " BayUCB OBS\n",
      "RanksumsResult(statistic=-1.1835680518387326, pvalue=0.23658409332187613)\n",
      "\n",
      " BayUCB Thom. Sam\n",
      "RanksumsResult(statistic=0.3752776749732567, pvalue=0.70745396770207469)\n",
      "\n",
      " BayUCB Magnitude\n",
      "RanksumsResult(statistic=-3.5795716689756794, pvalue=0.00034415785384659113)\n",
      "\n",
      " BayUCB random\n",
      "RanksumsResult(statistic=-2.3094010767585029, pvalue=0.020921335337794032)\n",
      "\n",
      " OBD OBS\n",
      "RanksumsResult(statistic=-2.1073284825421337, pvalue=0.035089116094047863)\n",
      "\n",
      " OBD Thom. Sam\n",
      "RanksumsResult(statistic=-0.72168783648703216, pvalue=0.47048642205878966)\n",
      "\n",
      " OBD Magnitude\n",
      "RanksumsResult(statistic=-4.1569219381653051, pvalue=3.2256414562437673e-05)\n",
      "\n",
      " OBD random\n",
      "RanksumsResult(statistic=-3.2620290209213851, pvalue=0.0011061781840807242)\n",
      "\n",
      " OBS Thom. Sam\n",
      "RanksumsResult(statistic=1.4433756729740643, pvalue=0.14891467317876572)\n",
      "\n",
      " OBS Magnitude\n",
      "RanksumsResult(statistic=-2.1361959960016152, pvalue=0.03266344168491133)\n",
      "\n",
      " OBS random\n",
      "RanksumsResult(statistic=-1.2701705922171767, pvalue=0.2040238704744366)\n",
      "\n",
      " Thom. Sam Magnitude\n",
      "RanksumsResult(statistic=-3.5795716689756794, pvalue=0.00034415785384659113)\n",
      "\n",
      " Thom. Sam random\n",
      "RanksumsResult(statistic=-2.4537386440559095, pvalue=0.014137969455911484)\n",
      "\n",
      " Magnitude random\n",
      "RanksumsResult(statistic=1.2124355652982139, pvalue=0.22534569370166679)\n"
     ]
    }
   ],
   "source": [
    "# Get all models pairs\n",
    "interstModel = ['BayUCB', 'UCB1', 'KLUCB',\n",
    "               'E.Greedy', 'WSLS', 'Thom. Sam']\n",
    "lst = list(df1.columns.values)\n",
    "lst.remove('Dataset')\n",
    "model_pairs = []\n",
    "\n",
    "for m1 in range(len(df1.columns)-2):\n",
    "    for m2  in range(m1+1,len(df1.columns)-1):\n",
    "        model_pairs.append((lst[m1], lst[m2]))\n",
    "\n",
    "pvalueList = []\n",
    "new_model_pairs = []\n",
    "for m1, m2 in model_pairs: \n",
    "    print('\\n',m1, m2)\n",
    "    pvalue = stats.ranksums(df1[m1], df1[m2])\n",
    "    #print(pvalue[1])\n",
    "    if (m1 in interstModel or m2 in interstModel):\n",
    "        new_model_pairs.append((m1,m2))\n",
    "        pvalueList.append(pvalue[1])\n",
    "    print(pvalue)   "
   ]
  },
  {
   "cell_type": "code",
   "execution_count": 163,
   "metadata": {
    "collapsed": false
   },
   "outputs": [
    {
     "name": "stdout",
     "output_type": "stream",
     "text": [
      "The pvalue between ('Model', 'E.Greedy') is 0.312321421676 > 0.05 then FAIL to REJECT the NULL Hypothesis 👎\n",
      "The pvalue between ('Model', 'WSLS') is 0.0165749267499 < 0.05 then REJECT the NULL Hypothesis 👍\n",
      "The pvalue between ('Model', 'UCB1') is 0.418923440946 > 0.05 then FAIL to REJECT the NULL Hypothesis 👎\n",
      "The pvalue between ('Model', 'KLUCB') is 0.260236202617 > 0.05 then FAIL to REJECT the NULL Hypothesis 👎\n",
      "The pvalue between ('Model', 'BayUCB') is 0.260236202617 > 0.05 then FAIL to REJECT the NULL Hypothesis 👎\n",
      "The pvalue between ('Model', 'Thom. Sam') is 0.563702861651 > 0.05 then FAIL to REJECT the NULL Hypothesis 👎\n",
      "The pvalue between ('E.Greedy', 'WSLS') is 0.0832645166636 > 0.05 then FAIL to REJECT the NULL Hypothesis 👎\n",
      "The pvalue between ('E.Greedy', 'UCB1') is 0.953959692772 > 0.05 then FAIL to REJECT the NULL Hypothesis 👎\n",
      "The pvalue between ('E.Greedy', 'KLUCB') is 0.686105956996 > 0.05 then FAIL to REJECT the NULL Hypothesis 👎\n",
      "The pvalue between ('E.Greedy', 'BayUCB') is 0.686105956996 > 0.05 then FAIL to REJECT the NULL Hypothesis 👎\n",
      "The pvalue between ('E.Greedy', 'OBD') is 0.272656468795 > 0.05 then FAIL to REJECT the NULL Hypothesis 👎\n",
      "The pvalue between ('E.Greedy', 'OBS') is 0.148914673179 > 0.05 then FAIL to REJECT the NULL Hypothesis 👎\n",
      "The pvalue between ('E.Greedy', 'Thom. Sam') is 0.750831884089 > 0.05 then FAIL to REJECT the NULL Hypothesis 👎\n",
      "The pvalue between ('E.Greedy', 'Magnitude') is 5.31212815941e-05 < 0.05 then REJECT the NULL Hypothesis 👍\n",
      "The pvalue between ('E.Greedy', 'random') is 0.00426476491403 < 0.05 then REJECT the NULL Hypothesis 👍\n",
      "The pvalue between ('WSLS', 'UCB1') is 0.165856660343 > 0.05 then FAIL to REJECT the NULL Hypothesis 👎\n",
      "The pvalue between ('WSLS', 'KLUCB') is 0.24821307899 > 0.05 then FAIL to REJECT the NULL Hypothesis 👎\n",
      "The pvalue between ('WSLS', 'BayUCB') is 0.24821307899 > 0.05 then FAIL to REJECT the NULL Hypothesis 👎\n",
      "The pvalue between ('WSLS', 'OBD') is 0.0120228254076 < 0.05 then REJECT the NULL Hypothesis 👍\n",
      "The pvalue between ('WSLS', 'OBS') is 0.976970255322 > 0.05 then FAIL to REJECT the NULL Hypothesis 👎\n",
      "The pvalue between ('WSLS', 'Thom. Sam') is 0.12602212177 > 0.05 then FAIL to REJECT the NULL Hypothesis 👎\n",
      "The pvalue between ('WSLS', 'Magnitude') is 0.00221369195459 < 0.05 then REJECT the NULL Hypothesis 👍\n",
      "The pvalue between ('WSLS', 'random') is 0.214493807784 > 0.05 then FAIL to REJECT the NULL Hypothesis 👎\n",
      "The pvalue between ('UCB1', 'KLUCB') is 0.729034489539 > 0.05 then FAIL to REJECT the NULL Hypothesis 👎\n",
      "The pvalue between ('UCB1', 'BayUCB') is 0.729034489539 > 0.05 then FAIL to REJECT the NULL Hypothesis 👎\n",
      "The pvalue between ('UCB1', 'OBD') is 0.355611061095 > 0.05 then FAIL to REJECT the NULL Hypothesis 👎\n",
      "The pvalue between ('UCB1', 'OBS') is 0.193930852282 > 0.05 then FAIL to REJECT the NULL Hypothesis 👎\n",
      "The pvalue between ('UCB1', 'Thom. Sam') is 0.953959692772 > 0.05 then FAIL to REJECT the NULL Hypothesis 👎\n",
      "The pvalue between ('UCB1', 'Magnitude') is 0.000275503811434 < 0.05 then REJECT the NULL Hypothesis 👍\n",
      "The pvalue between ('UCB1', 'random') is 0.0165749267499 < 0.05 then REJECT the NULL Hypothesis 👍\n",
      "The pvalue between ('KLUCB', 'BayUCB') is 1.0 > 0.05 then FAIL to REJECT the NULL Hypothesis 👎\n",
      "The pvalue between ('KLUCB', 'OBD') is 0.225345693702 > 0.05 then FAIL to REJECT the NULL Hypothesis 👎\n",
      "The pvalue between ('KLUCB', 'OBS') is 0.236584093322 > 0.05 then FAIL to REJECT the NULL Hypothesis 👎\n",
      "The pvalue between ('KLUCB', 'Thom. Sam') is 0.707453967702 > 0.05 then FAIL to REJECT the NULL Hypothesis 👎\n",
      "The pvalue between ('KLUCB', 'Magnitude') is 0.000344157853847 < 0.05 then REJECT the NULL Hypothesis 👍\n",
      "The pvalue between ('KLUCB', 'random') is 0.0209213353378 < 0.05 then REJECT the NULL Hypothesis 👍\n",
      "The pvalue between ('BayUCB', 'OBD') is 0.225345693702 > 0.05 then FAIL to REJECT the NULL Hypothesis 👎\n",
      "The pvalue between ('BayUCB', 'OBS') is 0.236584093322 > 0.05 then FAIL to REJECT the NULL Hypothesis 👎\n",
      "The pvalue between ('BayUCB', 'Thom. Sam') is 0.707453967702 > 0.05 then FAIL to REJECT the NULL Hypothesis 👎\n",
      "The pvalue between ('BayUCB', 'Magnitude') is 0.000344157853847 < 0.05 then REJECT the NULL Hypothesis 👍\n",
      "The pvalue between ('BayUCB', 'random') is 0.0209213353378 < 0.05 then REJECT the NULL Hypothesis 👍\n",
      "The pvalue between ('OBD', 'Thom. Sam') is 0.470486422059 > 0.05 then FAIL to REJECT the NULL Hypothesis 👎\n",
      "The pvalue between ('OBS', 'Thom. Sam') is 0.148914673179 > 0.05 then FAIL to REJECT the NULL Hypothesis 👎\n",
      "The pvalue between ('Thom. Sam', 'Magnitude') is 0.000344157853847 < 0.05 then REJECT the NULL Hypothesis 👍\n",
      "The pvalue between ('Thom. Sam', 'random') is 0.0141379694559 < 0.05 then REJECT the NULL Hypothesis 👍\n"
     ]
    }
   ],
   "source": [
    "for pair, p in zip(new_model_pairs, pvalueList):\n",
    "    if p < 0.05:\n",
    "        print('The pvalue between',pair, 'is', p, '< 0.05 then', \n",
    "              emoji.emojize('REJECT the NULL Hypothesis :thumbs_up_sign:'))\n",
    "    else:\n",
    "        print('The pvalue between',pair, 'is', p, '> 0.05 then',\n",
    "              emoji.emojize('FAIL to REJECT the NULL Hypothesis :thumbs_down_sign:'))"
   ]
  },
  {
   "cell_type": "markdown",
   "metadata": {},
   "source": [
    "## Prune LeCun Model"
   ]
  },
  {
   "cell_type": "code",
   "execution_count": 164,
   "metadata": {
    "collapsed": false
   },
   "outputs": [
    {
     "name": "stdout",
     "output_type": "stream",
     "text": [
      "\n",
      " Model <--- VS ---> TS Prune half the weights\n",
      "RanksumsResult(statistic=-1.5491933384829668, pvalue=0.12133525035848211)\n",
      "\n",
      " Model <--- VS ---> EG Prune half the weights\n",
      "RanksumsResult(statistic=-1.5491933384829668, pvalue=0.12133525035848211)\n",
      "\n",
      " Model <--- VS ---> UCB1 Prune half the weights\n",
      "RanksumsResult(statistic=-1.5491933384829668, pvalue=0.12133525035848211)\n",
      "\n",
      " TS Prune half the weights <--- VS ---> EG Prune half the weights\n",
      "RanksumsResult(statistic=1.5491933384829668, pvalue=0.12133525035848211)\n",
      "\n",
      " TS Prune half the weights <--- VS ---> UCB1 Prune half the weights\n",
      "RanksumsResult(statistic=-1.5491933384829668, pvalue=0.12133525035848211)\n",
      "\n",
      " EG Prune half the weights <--- VS ---> UCB1 Prune half the weights\n",
      "RanksumsResult(statistic=-1.5491933384829668, pvalue=0.12133525035848211)\n"
     ]
    }
   ],
   "source": [
    "# Get all models pairs\n",
    "interstModel = ['TS Prune half the weights', 'EG Prune half the weights', \n",
    "                'UCB1 Prune half the weights']\n",
    "lst = list(dfLcun.columns.values)\n",
    "lst.remove('Layer')\n",
    "model_pairs = []\n",
    "\n",
    "for m1 in range(len(dfLcun.columns)-2):\n",
    "    for m2  in range(m1+1,len(dfLcun_ranked.columns)-1):\n",
    "        model_pairs.append((lst[m1], lst[m2]))\n",
    "\n",
    "# Conduct t-test on each pair\n",
    "pvalueList = []\n",
    "new_model_pairs = []\n",
    "for m1, m2 in model_pairs: \n",
    "    print('\\n',m1,'<--- VS --->', m2)\n",
    "    pvalue = stats.ranksums(dfLcun_ranked[m1], dfLcun_ranked[m2])\n",
    "    #print(pvalue[1])\n",
    "    if (m1 in interstModel or m2 in interstModel):\n",
    "        new_model_pairs.append((m1,m2))\n",
    "        pvalueList.append(pvalue[1])\n",
    "    print(pvalue)   "
   ]
  },
  {
   "cell_type": "code",
   "execution_count": 165,
   "metadata": {
    "collapsed": false
   },
   "outputs": [
    {
     "name": "stdout",
     "output_type": "stream",
     "text": [
      "The pvalue between ('Model', 'TS Prune half the weights') is 0.121335250358 > 0.05 then FAIL to REJECT the NULL Hypothesis 👎\n",
      "The pvalue between ('Model', 'EG Prune half the weights') is 0.121335250358 > 0.05 then FAIL to REJECT the NULL Hypothesis 👎\n",
      "The pvalue between ('Model', 'UCB1 Prune half the weights') is 0.121335250358 > 0.05 then FAIL to REJECT the NULL Hypothesis 👎\n",
      "The pvalue between ('TS Prune half the weights', 'EG Prune half the weights') is 0.121335250358 > 0.05 then FAIL to REJECT the NULL Hypothesis 👎\n",
      "The pvalue between ('TS Prune half the weights', 'UCB1 Prune half the weights') is 0.121335250358 > 0.05 then FAIL to REJECT the NULL Hypothesis 👎\n",
      "The pvalue between ('EG Prune half the weights', 'UCB1 Prune half the weights') is 0.121335250358 > 0.05 then FAIL to REJECT the NULL Hypothesis 👎\n"
     ]
    }
   ],
   "source": [
    "for pair, p in zip(new_model_pairs, pvalueList):\n",
    "    if p < 0.05:\n",
    "        print('The pvalue between',pair, 'is', p, '< 0.05 then', \n",
    "              emoji.emojize('REJECT the NULL Hypothesis :thumbs_up_sign:'))\n",
    "    else:\n",
    "        print('The pvalue between',pair, 'is', p, '> 0.05 then',\n",
    "              emoji.emojize('FAIL to REJECT the NULL Hypothesis :thumbs_down_sign:'))"
   ]
  }
 ],
 "metadata": {
  "kernelspec": {
   "display_name": "Python 3",
   "language": "python",
   "name": "python3"
  },
  "language_info": {
   "codemirror_mode": {
    "name": "ipython",
    "version": 3
   },
   "file_extension": ".py",
   "mimetype": "text/x-python",
   "name": "python",
   "nbconvert_exporter": "python",
   "pygments_lexer": "ipython3",
   "version": "3.6.0"
  }
 },
 "nbformat": 4,
 "nbformat_minor": 2
}
