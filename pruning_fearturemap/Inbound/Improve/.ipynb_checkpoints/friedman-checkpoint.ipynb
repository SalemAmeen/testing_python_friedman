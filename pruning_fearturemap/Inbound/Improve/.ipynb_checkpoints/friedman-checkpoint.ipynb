{
 "cells": [
  {
   "cell_type": "markdown",
   "metadata": {
    "collapsed": true
   },
   "source": [
    "# Import needed libraries"
   ]
  },
  {
   "cell_type": "markdown",
   "metadata": {
    "collapsed": true
   },
   "source": [
    "## Import libraries for manipulating the data and statistic"
   ]
  },
  {
   "cell_type": "code",
   "execution_count": 1,
   "metadata": {
    "collapsed": false
   },
   "outputs": [],
   "source": [
    "import numpy as np\n",
    "import pandas as pd\n",
    "import matplotlib.pyplot as plt\n",
    "import scipy.stats as stats\n",
    "from statsmodels.stats.weightstats import  ttest_ind as t_test\n",
    "from scipy.stats import ttest_1samp, wilcoxon, ttest_ind, mannwhitneyu\n",
    "import scipy.special as special\n",
    "import emoji\n",
    "from math import pi\n",
    "from statsmodels.stats.multicomp import pairwise_tukeyhsd, MultiComparison\n",
    "from statsmodels.formula.api import ols\n",
    "import statsmodels.stats.api as sms\n",
    "from scipy.stats import friedmanchisquare, rankdata, norm\n",
    "from scipy.special import gammaln\n",
    "from math import sqrt"
   ]
  },
  {
   "cell_type": "markdown",
   "metadata": {
    "collapsed": true
   },
   "source": [
    "## Import libraries for static ploting"
   ]
  },
  {
   "cell_type": "code",
   "execution_count": 2,
   "metadata": {
    "collapsed": true
   },
   "outputs": [],
   "source": [
    "import matplotlib.pyplot as plt\n",
    "import matplotlib.gridspec as gridspec\n",
    "%matplotlib inline\n",
    "from IPython.display import set_matplotlib_formats\n",
    "set_matplotlib_formats('png', 'pdf')\n",
    "# some nice colors from http://colorbrewer2.org/\n",
    "COLOR1 = '#7fc97f'\n",
    "COLOR2 = '#beaed4'\n",
    "COLOR3 = '#fdc086'\n",
    "COLOR4 = '#ffff99'\n",
    "COLOR5 = '#386cb0'"
   ]
  },
  {
   "cell_type": "markdown",
   "metadata": {
    "collapsed": true
   },
   "source": [
    "# Statring the test and visulize the data"
   ]
  },
  {
   "cell_type": "markdown",
   "metadata": {
    "collapsed": true
   },
   "source": [
    "## Load the data"
   ]
  },
  {
   "cell_type": "code",
   "execution_count": 3,
   "metadata": {
    "collapsed": false
   },
   "outputs": [],
   "source": [
    "datafile = \"./results/result_naomy.csv\"\n",
    "df = pd.read_csv(datafile)"
   ]
  },
  {
   "cell_type": "code",
   "execution_count": 4,
   "metadata": {
    "collapsed": false
   },
   "outputs": [
    {
     "data": {
      "text/html": [
       "<div>\n",
       "<table border=\"1\" class=\"dataframe\">\n",
       "  <thead>\n",
       "    <tr style=\"text-align: right;\">\n",
       "      <th></th>\n",
       "      <th>Methods</th>\n",
       "      <th>Model</th>\n",
       "      <th>Greedy Inbound Prune</th>\n",
       "      <th>Least Magn</th>\n",
       "      <th>UCB1</th>\n",
       "      <th>Tomp. Sampl.</th>\n",
       "    </tr>\n",
       "  </thead>\n",
       "  <tbody>\n",
       "    <tr>\n",
       "      <th>0</th>\n",
       "      <td>LeCun (MNIST)1</td>\n",
       "      <td>0.98</td>\n",
       "      <td>0.98</td>\n",
       "      <td>0.91</td>\n",
       "      <td>0.99</td>\n",
       "      <td>0.99</td>\n",
       "    </tr>\n",
       "    <tr>\n",
       "      <th>1</th>\n",
       "      <td>LeCun (MNIST)2</td>\n",
       "      <td>0.98</td>\n",
       "      <td>0.97</td>\n",
       "      <td>0.90</td>\n",
       "      <td>0.98</td>\n",
       "      <td>0.98</td>\n",
       "    </tr>\n",
       "    <tr>\n",
       "      <th>2</th>\n",
       "      <td>LeCun (MNIST)all</td>\n",
       "      <td>0.98</td>\n",
       "      <td>0.98</td>\n",
       "      <td>0.91</td>\n",
       "      <td>0.99</td>\n",
       "      <td>0.99</td>\n",
       "    </tr>\n",
       "    <tr>\n",
       "      <th>3</th>\n",
       "      <td>Conv (Cifar10)1</td>\n",
       "      <td>0.81</td>\n",
       "      <td>0.80</td>\n",
       "      <td>0.73</td>\n",
       "      <td>0.81</td>\n",
       "      <td>0.81</td>\n",
       "    </tr>\n",
       "    <tr>\n",
       "      <th>4</th>\n",
       "      <td>Conv (Cifar10)2</td>\n",
       "      <td>0.81</td>\n",
       "      <td>0.80</td>\n",
       "      <td>0.74</td>\n",
       "      <td>0.81</td>\n",
       "      <td>0.81</td>\n",
       "    </tr>\n",
       "    <tr>\n",
       "      <th>5</th>\n",
       "      <td>Conv (Cifar10)3</td>\n",
       "      <td>0.81</td>\n",
       "      <td>0.80</td>\n",
       "      <td>0.73</td>\n",
       "      <td>0.81</td>\n",
       "      <td>0.81</td>\n",
       "    </tr>\n",
       "    <tr>\n",
       "      <th>6</th>\n",
       "      <td>Conv (Cifar10)4</td>\n",
       "      <td>0.81</td>\n",
       "      <td>0.79</td>\n",
       "      <td>0.73</td>\n",
       "      <td>0.81</td>\n",
       "      <td>0.81</td>\n",
       "    </tr>\n",
       "    <tr>\n",
       "      <th>7</th>\n",
       "      <td>Conv (Cifar10)all</td>\n",
       "      <td>0.81</td>\n",
       "      <td>0.80</td>\n",
       "      <td>0.74</td>\n",
       "      <td>0.82</td>\n",
       "      <td>0.82</td>\n",
       "    </tr>\n",
       "    <tr>\n",
       "      <th>8</th>\n",
       "      <td>Conv (Cifar100)1</td>\n",
       "      <td>0.43</td>\n",
       "      <td>0.40</td>\n",
       "      <td>0.31</td>\n",
       "      <td>0.43</td>\n",
       "      <td>0.43</td>\n",
       "    </tr>\n",
       "    <tr>\n",
       "      <th>9</th>\n",
       "      <td>Conv (Cifar100)2</td>\n",
       "      <td>0.43</td>\n",
       "      <td>0.41</td>\n",
       "      <td>0.30</td>\n",
       "      <td>0.43</td>\n",
       "      <td>0.43</td>\n",
       "    </tr>\n",
       "    <tr>\n",
       "      <th>10</th>\n",
       "      <td>Conv (Cifar100)3</td>\n",
       "      <td>0.43</td>\n",
       "      <td>0.42</td>\n",
       "      <td>0.35</td>\n",
       "      <td>0.43</td>\n",
       "      <td>0.43</td>\n",
       "    </tr>\n",
       "    <tr>\n",
       "      <th>11</th>\n",
       "      <td>Conv (Cifar100)4</td>\n",
       "      <td>0.43</td>\n",
       "      <td>0.41</td>\n",
       "      <td>0.35</td>\n",
       "      <td>0.43</td>\n",
       "      <td>0.43</td>\n",
       "    </tr>\n",
       "    <tr>\n",
       "      <th>12</th>\n",
       "      <td>Conv (Cifar100)all</td>\n",
       "      <td>0.43</td>\n",
       "      <td>0.42</td>\n",
       "      <td>0.35</td>\n",
       "      <td>0.44</td>\n",
       "      <td>0.44</td>\n",
       "    </tr>\n",
       "    <tr>\n",
       "      <th>13</th>\n",
       "      <td>Conv (SVHN)1</td>\n",
       "      <td>0.96</td>\n",
       "      <td>0.94</td>\n",
       "      <td>0.89</td>\n",
       "      <td>0.96</td>\n",
       "      <td>0.96</td>\n",
       "    </tr>\n",
       "    <tr>\n",
       "      <th>14</th>\n",
       "      <td>Conv (SVHN)2</td>\n",
       "      <td>0.96</td>\n",
       "      <td>0.94</td>\n",
       "      <td>0.88</td>\n",
       "      <td>0.96</td>\n",
       "      <td>0.96</td>\n",
       "    </tr>\n",
       "    <tr>\n",
       "      <th>15</th>\n",
       "      <td>Conv (SVHN)3</td>\n",
       "      <td>0.96</td>\n",
       "      <td>0.95</td>\n",
       "      <td>0.90</td>\n",
       "      <td>0.96</td>\n",
       "      <td>0.96</td>\n",
       "    </tr>\n",
       "    <tr>\n",
       "      <th>16</th>\n",
       "      <td>Conv (SVHN)4</td>\n",
       "      <td>0.96</td>\n",
       "      <td>0.95</td>\n",
       "      <td>0.90</td>\n",
       "      <td>0.96</td>\n",
       "      <td>0.96</td>\n",
       "    </tr>\n",
       "    <tr>\n",
       "      <th>17</th>\n",
       "      <td>Conv (SVHN)all</td>\n",
       "      <td>0.96</td>\n",
       "      <td>0.95</td>\n",
       "      <td>0.91</td>\n",
       "      <td>0.97</td>\n",
       "      <td>0.96</td>\n",
       "    </tr>\n",
       "  </tbody>\n",
       "</table>\n",
       "</div>"
      ],
      "text/plain": [
       "               Methods  Model  Greedy Inbound Prune  Least Magn  UCB1  \\\n",
       "0       LeCun (MNIST)1   0.98                  0.98        0.91  0.99   \n",
       "1       LeCun (MNIST)2   0.98                  0.97        0.90  0.98   \n",
       "2     LeCun (MNIST)all   0.98                  0.98        0.91  0.99   \n",
       "3      Conv (Cifar10)1   0.81                  0.80        0.73  0.81   \n",
       "4      Conv (Cifar10)2   0.81                  0.80        0.74  0.81   \n",
       "5      Conv (Cifar10)3   0.81                  0.80        0.73  0.81   \n",
       "6      Conv (Cifar10)4   0.81                  0.79        0.73  0.81   \n",
       "7    Conv (Cifar10)all   0.81                  0.80        0.74  0.82   \n",
       "8     Conv (Cifar100)1   0.43                  0.40        0.31  0.43   \n",
       "9     Conv (Cifar100)2   0.43                  0.41        0.30  0.43   \n",
       "10    Conv (Cifar100)3   0.43                  0.42        0.35  0.43   \n",
       "11    Conv (Cifar100)4   0.43                  0.41        0.35  0.43   \n",
       "12  Conv (Cifar100)all   0.43                  0.42        0.35  0.44   \n",
       "13        Conv (SVHN)1   0.96                  0.94        0.89  0.96   \n",
       "14        Conv (SVHN)2   0.96                  0.94        0.88  0.96   \n",
       "15        Conv (SVHN)3   0.96                  0.95        0.90  0.96   \n",
       "16        Conv (SVHN)4   0.96                  0.95        0.90  0.96   \n",
       "17      Conv (SVHN)all   0.96                  0.95        0.91  0.97   \n",
       "\n",
       "    Tomp. Sampl.  \n",
       "0           0.99  \n",
       "1           0.98  \n",
       "2           0.99  \n",
       "3           0.81  \n",
       "4           0.81  \n",
       "5           0.81  \n",
       "6           0.81  \n",
       "7           0.82  \n",
       "8           0.43  \n",
       "9           0.43  \n",
       "10          0.43  \n",
       "11          0.43  \n",
       "12          0.44  \n",
       "13          0.96  \n",
       "14          0.96  \n",
       "15          0.96  \n",
       "16          0.96  \n",
       "17          0.96  "
      ]
     },
     "execution_count": 4,
     "metadata": {},
     "output_type": "execute_result"
    }
   ],
   "source": [
    "df"
   ]
  },
  {
   "cell_type": "code",
   "execution_count": 5,
   "metadata": {
    "collapsed": false
   },
   "outputs": [],
   "source": [
    "df1 = df.copy()"
   ]
  },
  {
   "cell_type": "markdown",
   "metadata": {
    "collapsed": false
   },
   "source": [
    "\n",
    "\n",
    "## Using Nonparametric tests\n",
    "\n",
    "I am not sure the data comes from Guassian distribution  and less than 30 sample \n",
    "\n",
    "### alternative to paired t-test when data has an ordinary scale or when not\n",
    "### normally distributed"
   ]
  },
  {
   "cell_type": "markdown",
   "metadata": {},
   "source": [
    "## Start comparining all pruning algorithms"
   ]
  },
  {
   "cell_type": "markdown",
   "metadata": {},
   "source": [
    "### Compute friedman test test by ranks between pruning methods"
   ]
  },
  {
   "cell_type": "code",
   "execution_count": 6,
   "metadata": {
    "collapsed": false
   },
   "outputs": [
    {
     "data": {
      "text/html": [
       "<div>\n",
       "<table border=\"1\" class=\"dataframe\">\n",
       "  <thead>\n",
       "    <tr style=\"text-align: right;\">\n",
       "      <th></th>\n",
       "      <th>Model</th>\n",
       "      <th>Greedy Inbound Prune</th>\n",
       "      <th>Least Magn</th>\n",
       "      <th>UCB1</th>\n",
       "      <th>Tomp. Sampl.</th>\n",
       "    </tr>\n",
       "  </thead>\n",
       "  <tbody>\n",
       "    <tr>\n",
       "      <th>0</th>\n",
       "      <td>2.5</td>\n",
       "      <td>2.5</td>\n",
       "      <td>1.0</td>\n",
       "      <td>4.5</td>\n",
       "      <td>4.5</td>\n",
       "    </tr>\n",
       "    <tr>\n",
       "      <th>1</th>\n",
       "      <td>4.0</td>\n",
       "      <td>2.0</td>\n",
       "      <td>1.0</td>\n",
       "      <td>4.0</td>\n",
       "      <td>4.0</td>\n",
       "    </tr>\n",
       "    <tr>\n",
       "      <th>2</th>\n",
       "      <td>2.5</td>\n",
       "      <td>2.5</td>\n",
       "      <td>1.0</td>\n",
       "      <td>4.5</td>\n",
       "      <td>4.5</td>\n",
       "    </tr>\n",
       "    <tr>\n",
       "      <th>3</th>\n",
       "      <td>4.0</td>\n",
       "      <td>2.0</td>\n",
       "      <td>1.0</td>\n",
       "      <td>4.0</td>\n",
       "      <td>4.0</td>\n",
       "    </tr>\n",
       "    <tr>\n",
       "      <th>4</th>\n",
       "      <td>4.0</td>\n",
       "      <td>2.0</td>\n",
       "      <td>1.0</td>\n",
       "      <td>4.0</td>\n",
       "      <td>4.0</td>\n",
       "    </tr>\n",
       "    <tr>\n",
       "      <th>5</th>\n",
       "      <td>4.0</td>\n",
       "      <td>2.0</td>\n",
       "      <td>1.0</td>\n",
       "      <td>4.0</td>\n",
       "      <td>4.0</td>\n",
       "    </tr>\n",
       "    <tr>\n",
       "      <th>6</th>\n",
       "      <td>4.0</td>\n",
       "      <td>2.0</td>\n",
       "      <td>1.0</td>\n",
       "      <td>4.0</td>\n",
       "      <td>4.0</td>\n",
       "    </tr>\n",
       "    <tr>\n",
       "      <th>7</th>\n",
       "      <td>3.0</td>\n",
       "      <td>2.0</td>\n",
       "      <td>1.0</td>\n",
       "      <td>4.5</td>\n",
       "      <td>4.5</td>\n",
       "    </tr>\n",
       "    <tr>\n",
       "      <th>8</th>\n",
       "      <td>4.0</td>\n",
       "      <td>2.0</td>\n",
       "      <td>1.0</td>\n",
       "      <td>4.0</td>\n",
       "      <td>4.0</td>\n",
       "    </tr>\n",
       "    <tr>\n",
       "      <th>9</th>\n",
       "      <td>4.0</td>\n",
       "      <td>2.0</td>\n",
       "      <td>1.0</td>\n",
       "      <td>4.0</td>\n",
       "      <td>4.0</td>\n",
       "    </tr>\n",
       "    <tr>\n",
       "      <th>10</th>\n",
       "      <td>4.0</td>\n",
       "      <td>2.0</td>\n",
       "      <td>1.0</td>\n",
       "      <td>4.0</td>\n",
       "      <td>4.0</td>\n",
       "    </tr>\n",
       "    <tr>\n",
       "      <th>11</th>\n",
       "      <td>4.0</td>\n",
       "      <td>2.0</td>\n",
       "      <td>1.0</td>\n",
       "      <td>4.0</td>\n",
       "      <td>4.0</td>\n",
       "    </tr>\n",
       "    <tr>\n",
       "      <th>12</th>\n",
       "      <td>3.0</td>\n",
       "      <td>2.0</td>\n",
       "      <td>1.0</td>\n",
       "      <td>4.5</td>\n",
       "      <td>4.5</td>\n",
       "    </tr>\n",
       "    <tr>\n",
       "      <th>13</th>\n",
       "      <td>4.0</td>\n",
       "      <td>2.0</td>\n",
       "      <td>1.0</td>\n",
       "      <td>4.0</td>\n",
       "      <td>4.0</td>\n",
       "    </tr>\n",
       "    <tr>\n",
       "      <th>14</th>\n",
       "      <td>4.0</td>\n",
       "      <td>2.0</td>\n",
       "      <td>1.0</td>\n",
       "      <td>4.0</td>\n",
       "      <td>4.0</td>\n",
       "    </tr>\n",
       "    <tr>\n",
       "      <th>15</th>\n",
       "      <td>4.0</td>\n",
       "      <td>2.0</td>\n",
       "      <td>1.0</td>\n",
       "      <td>4.0</td>\n",
       "      <td>4.0</td>\n",
       "    </tr>\n",
       "    <tr>\n",
       "      <th>16</th>\n",
       "      <td>4.0</td>\n",
       "      <td>2.0</td>\n",
       "      <td>1.0</td>\n",
       "      <td>4.0</td>\n",
       "      <td>4.0</td>\n",
       "    </tr>\n",
       "    <tr>\n",
       "      <th>17</th>\n",
       "      <td>3.5</td>\n",
       "      <td>2.0</td>\n",
       "      <td>1.0</td>\n",
       "      <td>5.0</td>\n",
       "      <td>3.5</td>\n",
       "    </tr>\n",
       "  </tbody>\n",
       "</table>\n",
       "</div>"
      ],
      "text/plain": [
       "    Model  Greedy Inbound Prune  Least Magn  UCB1  Tomp. Sampl.\n",
       "0     2.5                   2.5         1.0   4.5           4.5\n",
       "1     4.0                   2.0         1.0   4.0           4.0\n",
       "2     2.5                   2.5         1.0   4.5           4.5\n",
       "3     4.0                   2.0         1.0   4.0           4.0\n",
       "4     4.0                   2.0         1.0   4.0           4.0\n",
       "5     4.0                   2.0         1.0   4.0           4.0\n",
       "6     4.0                   2.0         1.0   4.0           4.0\n",
       "7     3.0                   2.0         1.0   4.5           4.5\n",
       "8     4.0                   2.0         1.0   4.0           4.0\n",
       "9     4.0                   2.0         1.0   4.0           4.0\n",
       "10    4.0                   2.0         1.0   4.0           4.0\n",
       "11    4.0                   2.0         1.0   4.0           4.0\n",
       "12    3.0                   2.0         1.0   4.5           4.5\n",
       "13    4.0                   2.0         1.0   4.0           4.0\n",
       "14    4.0                   2.0         1.0   4.0           4.0\n",
       "15    4.0                   2.0         1.0   4.0           4.0\n",
       "16    4.0                   2.0         1.0   4.0           4.0\n",
       "17    3.5                   2.0         1.0   5.0           3.5"
      ]
     },
     "execution_count": 6,
     "metadata": {},
     "output_type": "execute_result"
    }
   ],
   "source": [
    "df1.rank(axis=1)"
   ]
  },
  {
   "cell_type": "code",
   "execution_count": 7,
   "metadata": {
    "collapsed": false
   },
   "outputs": [
    {
     "data": {
      "text/plain": [
       "Model                   3.694444\n",
       "Greedy Inbound Prune    2.055556\n",
       "Least Magn              1.000000\n",
       "UCB1                    4.166667\n",
       "Tomp. Sampl.            4.083333\n",
       "dtype: float64"
      ]
     },
     "execution_count": 7,
     "metadata": {},
     "output_type": "execute_result"
    }
   ],
   "source": [
    "df1.rank(axis=1).mean()"
   ]
  },
  {
   "cell_type": "code",
   "execution_count": 8,
   "metadata": {
    "collapsed": false
   },
   "outputs": [
    {
     "data": {
      "text/html": [
       "<div>\n",
       "<table border=\"1\" class=\"dataframe\">\n",
       "  <thead>\n",
       "    <tr style=\"text-align: right;\">\n",
       "      <th></th>\n",
       "      <th>Methods</th>\n",
       "      <th>Model</th>\n",
       "      <th>Greedy Inbound Prune</th>\n",
       "      <th>Least Magn</th>\n",
       "      <th>UCB1</th>\n",
       "      <th>Tomp. Sampl.</th>\n",
       "    </tr>\n",
       "  </thead>\n",
       "  <tbody>\n",
       "    <tr>\n",
       "      <th>0</th>\n",
       "      <td>LeCun (MNIST)1</td>\n",
       "      <td>0.98</td>\n",
       "      <td>0.98</td>\n",
       "      <td>0.91</td>\n",
       "      <td>0.99</td>\n",
       "      <td>0.99</td>\n",
       "    </tr>\n",
       "    <tr>\n",
       "      <th>1</th>\n",
       "      <td>LeCun (MNIST)2</td>\n",
       "      <td>0.98</td>\n",
       "      <td>0.97</td>\n",
       "      <td>0.90</td>\n",
       "      <td>0.98</td>\n",
       "      <td>0.98</td>\n",
       "    </tr>\n",
       "  </tbody>\n",
       "</table>\n",
       "</div>"
      ],
      "text/plain": [
       "          Methods  Model  Greedy Inbound Prune  Least Magn  UCB1  Tomp. Sampl.\n",
       "0  LeCun (MNIST)1   0.98                  0.98        0.91  0.99          0.99\n",
       "1  LeCun (MNIST)2   0.98                  0.97        0.90  0.98          0.98"
      ]
     },
     "execution_count": 8,
     "metadata": {},
     "output_type": "execute_result"
    }
   ],
   "source": [
    "df1.head(2)"
   ]
  },
  {
   "cell_type": "code",
   "execution_count": 10,
   "metadata": {
    "collapsed": false
   },
   "outputs": [],
   "source": [
    "data =  np.stack((df1['Model'], df1['UCB1'], df1['Tomp. Sampl.'],\n",
    "                  df1['Least Magn'], df1['Greedy Inbound Prune']))"
   ]
  },
  {
   "cell_type": "code",
   "execution_count": 12,
   "metadata": {
    "collapsed": false
   },
   "outputs": [
    {
     "name": "stdout",
     "output_type": "stream",
     "text": [
      "FriedmanchisquareResult(statistic=68.106312292358822, pvalue=5.696778343340731e-14)\n"
     ]
    }
   ],
   "source": [
    "print(friedmanchisquare(df1['Model'], df1['UCB1'], df1['Tomp. Sampl.'],\n",
    "                  df1['Least Magn'], df1['Greedy Inbound Prune']))"
   ]
  },
  {
   "cell_type": "markdown",
   "metadata": {
    "collapsed": false
   },
   "source": [
    "exec(open(\"nemopy.py\").read())\n",
    "nemenyi = NemenyiTestPostHoc(data)\n",
    "meanRanks, pValues = nemenyi.do()"
   ]
  },
  {
   "cell_type": "code",
   "execution_count": 13,
   "metadata": {
    "collapsed": false
   },
   "outputs": [],
   "source": [
    "meanRanks = df1.rank(axis=1).mean() "
   ]
  },
  {
   "cell_type": "code",
   "execution_count": 14,
   "metadata": {
    "collapsed": false
   },
   "outputs": [],
   "source": [
    "lst = list(df1.columns.values)\n",
    "lst.remove('Methods')"
   ]
  },
  {
   "cell_type": "code",
   "execution_count": 15,
   "metadata": {
    "collapsed": false
   },
   "outputs": [
    {
     "data": {
      "text/plain": [
       "5"
      ]
     },
     "execution_count": 15,
     "metadata": {},
     "output_type": "execute_result"
    }
   ],
   "source": [
    "len(lst)"
   ]
  },
  {
   "cell_type": "code",
   "execution_count": 16,
   "metadata": {
    "collapsed": false
   },
   "outputs": [
    {
     "data": {
      "text/plain": [
       "6"
      ]
     },
     "execution_count": 16,
     "metadata": {},
     "output_type": "execute_result"
    }
   ],
   "source": [
    "df1.iloc[1].size"
   ]
  },
  {
   "cell_type": "code",
   "execution_count": 17,
   "metadata": {
    "collapsed": false
   },
   "outputs": [],
   "source": [
    "q = 2.728# pvalue = 0.05 and number of datasets 3.426041249\n",
    "#q = 3.029694463 # pvalue = 0.1\n",
    "N = (df1['Model'].size)\n",
    "k = (df1.iloc[1].size)-1"
   ]
  },
  {
   "cell_type": "code",
   "execution_count": 18,
   "metadata": {
    "collapsed": false
   },
   "outputs": [],
   "source": [
    "CD = q * sqrt(k*(k+1)/(6.0*N))"
   ]
  },
  {
   "cell_type": "code",
   "execution_count": 19,
   "metadata": {
    "collapsed": false
   },
   "outputs": [
    {
     "data": {
      "text/plain": [
       "1.4377822428232234"
      ]
     },
     "execution_count": 19,
     "metadata": {},
     "output_type": "execute_result"
    }
   ],
   "source": [
    "CD"
   ]
  },
  {
   "cell_type": "code",
   "execution_count": 20,
   "metadata": {
    "collapsed": false
   },
   "outputs": [
    {
     "data": {
      "text/plain": [
       "['Model', 'Greedy Inbound Prune', 'Least Magn', 'UCB1', 'Tomp. Sampl.']"
      ]
     },
     "execution_count": 20,
     "metadata": {},
     "output_type": "execute_result"
    }
   ],
   "source": [
    "lst"
   ]
  },
  {
   "cell_type": "code",
   "execution_count": 21,
   "metadata": {
    "collapsed": false
   },
   "outputs": [
    {
     "name": "stdout",
     "output_type": "stream",
     "text": [
      "\n",
      " Model 3.69444444444\n",
      "\n",
      " Greedy Inbound Prune 2.05555555556\n",
      "\n",
      " Least Magn 1.0\n",
      "\n",
      " UCB1 4.16666666667\n",
      "\n",
      " Tomp. Sampl. 4.08333333333\n"
     ]
    }
   ],
   "source": [
    "new_model_pairs = []\n",
    "for m1,m2 in zip(meanRanks,lst): \n",
    "    print('\\n',m2, m1, )"
   ]
  },
  {
   "cell_type": "code",
   "execution_count": 23,
   "metadata": {
    "collapsed": false
   },
   "outputs": [
    {
     "data": {
      "application/pdf": "[encoded data removed]",
      "image/png": "[encoded data removed]",
      "text/plain": [
       "<matplotlib.figure.Figure at 0x10c2c8240>"
      ]
     },
     "metadata": {},
     "output_type": "display_data"
    }
   ],
   "source": [
    "# input data\n",
    "cd = CD\n",
    "limits=(6,-1)\n",
    "fig, ax = plt.subplots(figsize=(20,10))\n",
    "plt.subplots_adjust(left=0.2, right=0.8)\n",
    "\n",
    "# set up plot\n",
    "ax.set_xlim(limits)\n",
    "ax.set_ylim(0,1)\n",
    "ax.spines['top'].set_position(('axes', 0.6))\n",
    "#ax.xaxis.tick_top()\n",
    "ax.xaxis.set_ticks_position('top')\n",
    "ax.yaxis.set_visible(False)\n",
    "for pos in [\"bottom\", \"left\", \"right\"]:\n",
    "    ax.spines[pos].set_visible(False)\n",
    "\n",
    "# CD bar\n",
    "ax.plot([limits[0],limits[0]-cd], [.9,.9], color=\"k\")\n",
    "ax.plot([limits[0],limits[0]], [.9-0.03,.9+0.03], color=\"k\")\n",
    "ax.plot([limits[0]-cd,limits[0]-cd], [.9-0.03,.9+0.03], color=\"k\") \n",
    "ax.text(limits[0]-cd/2., 0.92, \"Critical Difference (CD) = 2.728\", ha=\"center\", va=\"bottom\") \n",
    "\n",
    "# annotations\n",
    "bbox_props = dict(boxstyle=\"square,pad=0.3\", fc=\"w\", ec=\"k\", lw=0.72)\n",
    "arrowprops=dict(arrowstyle=\"-\",connectionstyle=\"angle,angleA=0,angleB=90\")\n",
    "kw = dict(xycoords='data',textcoords=\"axes fraction\",\n",
    "          arrowprops=arrowprops, bbox=bbox_props, va=\"center\")\n",
    "\n",
    "\n",
    "ax.annotate(\"UCB1\", xy=(meanRanks[3], 0.6), xytext=(0,0.1),ha=\"right\",  **kw, color=\"r\")\n",
    "ax.annotate(\"Tomp. Sampl.\", xy=(meanRanks[4], 0.6), xytext=(0,0.2),ha=\"right\",  **kw, color=\"g\")\n",
    "ax.annotate(\"Model\", xy=(meanRanks[0], 0.6), xytext=(0,0.3),ha=\"right\",  **kw, color=\"b\")\n",
    "\n",
    "ax.annotate(\"Greedy Prune\", xy=(meanRanks[1], 0.6), xytext=(1,0.2),ha=\"right\",  **kw, color=\"y\")\n",
    "ax.annotate(\"Less Magm.\", xy=(meanRanks[2], 0.6), xytext=(1,0.3),ha=\"right\",  **kw, color=\"m\")\n",
    "\n",
    "#bars\n",
    "ax.plot([meanRanks[3],meanRanks[3]-CD],[0.58,0.58], color=\"r\", lw=3)\n",
    "ax.plot([meanRanks[4],meanRanks[4]-CD],[0.56,0.56], color=\"g\", lw=3)\n",
    "ax.plot([meanRanks[0],meanRanks[0]-CD],[0.54,0.54], color=\"b\", lw=3)\n",
    "ax.plot([meanRanks[1],meanRanks[1]-CD],[0.52,0.52], color=\"y\", lw=3)\n",
    "ax.plot([meanRanks[2],meanRanks[2]-CD],[0.5,0.5], color=\"m\", lw=3)\n",
    "\n",
    "plt.show()"
   ]
  },
  {
   "cell_type": "code",
   "execution_count": null,
   "metadata": {
    "collapsed": true
   },
   "outputs": [],
   "source": []
  },
  {
   "cell_type": "code",
   "execution_count": null,
   "metadata": {
    "collapsed": true
   },
   "outputs": [],
   "source": []
  }
 ],
 "metadata": {
  "kernelspec": {
   "display_name": "Python 3",
   "language": "python",
   "name": "python3"
  },
  "language_info": {
   "codemirror_mode": {
    "name": "ipython",
    "version": 3
   },
   "file_extension": ".py",
   "mimetype": "text/x-python",
   "name": "python",
   "nbconvert_exporter": "python",
   "pygments_lexer": "ipython3",
   "version": "3.6.0"
  }
 },
 "nbformat": 4,
 "nbformat_minor": 2
}
